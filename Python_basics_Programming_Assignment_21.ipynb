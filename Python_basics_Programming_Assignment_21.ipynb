{
 "cells": [
  {
   "cell_type": "code",
   "execution_count": 1,
   "id": "acf7bddc-95be-4e3d-8a55-dc6629634157",
   "metadata": {},
   "outputs": [
    {
     "name": "stdout",
     "output_type": "stream",
     "text": [
      "[6, 7, 8, 9, 1]\n",
      "[6, 3, 23, 17, 10]\n",
      "[10, 20, 42, 6]\n",
      "No list has been selected\n"
     ]
    }
   ],
   "source": [
    "# Question1\n",
    "# Write a function that takes a list and a number as arguments. Add the number to the end of\n",
    "# the list, then remove the first element of the list. The function should then return the updated\n",
    "# list.\n",
    "# Examples\n",
    "# next_in_line([5, 6, 7, 8, 9], 1) ➞ [6, 7, 8, 9, 1]\n",
    "# next_in_line([7, 6, 3, 23, 17], 10) ➞ [6, 3, 23, 17, 10]\n",
    "# next_in_line([1, 10, 20, 42 ], 6) ➞ [10, 20, 42, 6]\n",
    "# next_in_line([], 6) ➞ 'No list has been selected'\n",
    "\n",
    "# Ans:\n",
    "def next_in_line(lst, num):\n",
    "    if not lst:\n",
    "        return \"No list has been selected\"\n",
    "\n",
    "    lst.append(num)\n",
    "    lst.pop(0)\n",
    "    return lst\n",
    "print(next_in_line([5, 6, 7, 8, 9], 1)) \n",
    "print(next_in_line([7, 6, 3, 23, 17], 10))  \n",
    "print(next_in_line([1, 10, 20, 42], 6))  \n",
    "print(next_in_line([], 6))  "
   ]
  },
  {
   "cell_type": "code",
   "execution_count": 1,
   "id": "c7b0332a-8705-4073-b915-ca1444dffcd4",
   "metadata": {},
   "outputs": [
    {
     "name": "stdout",
     "output_type": "stream",
     "text": [
      "65700\n",
      "62600\n"
     ]
    }
   ],
   "source": [
    "# Question2\n",
    "# Create the function that takes a list of dictionaries and returns the sum of people's budgets.\n",
    "# Examples\n",
    "# get_budgets([ { 'name': 'John', 'age': 21, 'budget': 23000 }, \n",
    "#                { 'name': 'Steve', 'age': 32, 'budget': 40000 },\n",
    "#                { 'name': 'Martin', 'age': 16, 'budget': 2700 } ]) ➞ 65700 \n",
    "# get_budgets([ { 'name': 'John', 'age': 21, 'budget': 29000 }, \n",
    "#                { 'name': 'Steve', 'age': 32, 'budget': 32000 }, \n",
    "#                {'name': 'Martin', 'age': 16, 'budget': 1600 } ]) ➞ 62600\n",
    "\n",
    "# Ans:\n",
    "def get_budgets(lst):\n",
    "    total_budget = 0\n",
    "    for person in lst:\n",
    "        total_budget += person['budget']\n",
    "    return total_budget\n",
    "budgets1 = [\n",
    "    {'name': 'John', 'age': 21, 'budget': 23000},\n",
    "    {'name': 'Steve', 'age': 32, 'budget': 40000},\n",
    "    {'name': 'Martin', 'age': 16, 'budget': 2700}\n",
    "]\n",
    "\n",
    "budgets2 = [\n",
    "    {'name': 'John', 'age': 21, 'budget': 29000},\n",
    "    {'name': 'Steve', 'age': 32, 'budget': 32000},\n",
    "    {'name': 'Martin', 'age': 16, 'budget': 1600}\n",
    "]\n",
    "\n",
    "print(get_budgets(budgets1)) \n",
    "print(get_budgets(budgets2))  "
   ]
  },
  {
   "cell_type": "code",
   "execution_count": 2,
   "id": "a8fdefc3-9e48-4a03-ae03-f11eb07038a3",
   "metadata": {},
   "outputs": [
    {
     "name": "stdout",
     "output_type": "stream",
     "text": [
      "ehllo\n",
      "abdeit\n",
      "acehkr\n",
      "eegk\n",
      "aacijprstv\n"
     ]
    }
   ],
   "source": [
    "# Question3\n",
    "# Create a function that takes a string and returns a string with its letters in alphabetical order.\n",
    "# Example\n",
    "# alphabet_soup('hello') ➞ 'ehllo' \n",
    "# alphabet_soup('edabit') ➞ 'abdeit' \n",
    "# alphabet_soup('hacker') ➞ 'acehkr'\n",
    "# alphabet_soup('geek') ➞ 'eegk'\n",
    "# alphabet_soup('javascript') ➞ 'aacijprstv'\n",
    "\n",
    "# Ans:\n",
    "def alphabet_soup(string):\n",
    "    return ''.join(sorted(string))\n",
    "print(alphabet_soup('hello'))  \n",
    "print(alphabet_soup('edabit'))  \n",
    "print(alphabet_soup('hacker'))  \n",
    "print(alphabet_soup('geek'))  \n",
    "print(alphabet_soup('javascript'))  "
   ]
  },
  {
   "cell_type": "code",
   "execution_count": 3,
   "id": "c74ea978-ec58-4b92-9f09-60c45f16b5fe",
   "metadata": {},
   "outputs": [
    {
     "name": "stdout",
     "output_type": "stream",
     "text": [
      "18193.97\n",
      "105.0\n",
      "15399.26\n",
      "2007316.26\n"
     ]
    }
   ],
   "source": [
    "# Question4\n",
    "# Suppose that you invest $10,000 for 10 years at an interest rate of 6% compounded monthly.\n",
    "# What will be the value of your investment at the end of the 10 year period?\n",
    "# Create a function that accepts the principal p, the term in years t, the interest rate r, and the\n",
    "# number of compounding periods per year n. The function returns the value at the end of term\n",
    "# rounded to the nearest cent.\n",
    "# For the example above:\n",
    "# compound_interest(10000, 10, 0.06, 12) ➞ 18193.97\n",
    "# Note that the interest rate is given as a decimal and n=12 because with monthly compounding\n",
    "# there are 12 periods per year. Compounding can also be done annually, quarterly, weekly, or\n",
    "# daily.\n",
    "# Examples\n",
    "# compound_interest(100, 1, 0.05, 1) ➞ 105.0\n",
    "# compound_interest(3500, 15, 0.1, 4) ➞ 15399.26\n",
    "# compound_interest(100000, 20, 0.15, 365) ➞ 2007316.26\n",
    "\n",
    "# Ans:\n",
    "def compound_interest(p, t, r, n):\n",
    "    A = p * (1 + r/n) ** (n * t)\n",
    "    return round(A, 2)\n",
    "print(compound_interest(10000, 10, 0.06, 12)) \n",
    "print(compound_interest(100, 1, 0.05, 1))  \n",
    "print(compound_interest(3500, 15, 0.1, 4))  \n",
    "print(compound_interest(100000, 20, 0.15, 365)) "
   ]
  },
  {
   "cell_type": "code",
   "execution_count": 4,
   "id": "fcc8be10-c644-442b-a9e0-5f0d3f8fbab9",
   "metadata": {},
   "outputs": [
    {
     "name": "stdout",
     "output_type": "stream",
     "text": [
      "[9, 2, 16]\n",
      "[81, 123]\n",
      "[10, 56, 20, 3]\n",
      "[True, 1]\n"
     ]
    }
   ],
   "source": [
    "# Question5\n",
    "# Write a function that takes a list of elements and returns only the integers.\n",
    "# Examples\n",
    "# return_only_integer([9, 2, 'space', 'car', 'lion', 16]) ➞ [9, 2, 16] \n",
    "# return_only_integer(['hello', 81, 'basketball', 123, 'fox']) ➞ [81, 123]\n",
    "# return_only_integer([10, '121', 56, 20, 'car', 3, 'lion']) ➞ [10, 56, 20, 3] \n",
    "# return_only_integer(['String', True, 3.3, 1]) ➞ [1]\n",
    "\n",
    "# Ans:\n",
    "def return_only_integer(lst):\n",
    "    return [x for x in lst if isinstance(x, int)]\n",
    "print(return_only_integer([9, 2, 'space', 'car', 'lion', 16])) \n",
    "print(return_only_integer(['hello', 81, 'basketball', 123, 'fox'])) \n",
    "print(return_only_integer([10, '121', 56, 20, 'car', 3, 'lion']))  \n",
    "print(return_only_integer(['String', True, 3.3, 1])) "
   ]
  },
  {
   "cell_type": "code",
   "execution_count": null,
   "id": "59329f13-8fac-431e-af40-72565262bc2c",
   "metadata": {},
   "outputs": [],
   "source": []
  }
 ],
 "metadata": {
  "kernelspec": {
   "display_name": "Python 3 (ipykernel)",
   "language": "python",
   "name": "python3"
  },
  "language_info": {
   "codemirror_mode": {
    "name": "ipython",
    "version": 3
   },
   "file_extension": ".py",
   "mimetype": "text/x-python",
   "name": "python",
   "nbconvert_exporter": "python",
   "pygments_lexer": "ipython3",
   "version": "3.10.6"
  }
 },
 "nbformat": 4,
 "nbformat_minor": 5
}
