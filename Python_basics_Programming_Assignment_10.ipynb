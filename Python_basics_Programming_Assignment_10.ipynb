{
 "cells": [
  {
   "cell_type": "code",
   "execution_count": 7,
   "id": "a7d0284b-42ac-4f71-b599-b64e3b20d39b",
   "metadata": {},
   "outputs": [
    {
     "name": "stdout",
     "output_type": "stream",
     "text": [
      "15\n"
     ]
    }
   ],
   "source": [
    "#1. Write a Python program to find sum of elements in list?\n",
    "# Ans:\n",
    "l=[1,2,3,4,5]\n",
    "sum=0\n",
    "for i in l:\n",
    "    sum=sum+i\n",
    "print(sum)"
   ]
  },
  {
   "cell_type": "code",
   "execution_count": 12,
   "id": "58423bfb-56a6-491b-8411-a1066c58ba0c",
   "metadata": {},
   "outputs": [
    {
     "name": "stdout",
     "output_type": "stream",
     "text": [
      "24\n"
     ]
    }
   ],
   "source": [
    "#2. Write a Python program to Multiply all numbers in the list?\n",
    "# Ans:\n",
    "l=[1,2,3,4]\n",
    "mul=1\n",
    "for i in l:\n",
    "    mul=mul*i\n",
    "print(mul)"
   ]
  },
  {
   "cell_type": "code",
   "execution_count": 15,
   "id": "26a569a0-aff0-4cfe-8411-84e3c5171050",
   "metadata": {},
   "outputs": [
    {
     "name": "stdout",
     "output_type": "stream",
     "text": [
      "2\n"
     ]
    }
   ],
   "source": [
    "#3. Write a Python program to find smallest number in a list?\n",
    "# Ans:\n",
    "l=[11,2,3,4,5]\n",
    "small=l[0]\n",
    "for i in l:\n",
    "    if i<small:\n",
    "        small=i\n",
    "print(small)"
   ]
  },
  {
   "cell_type": "code",
   "execution_count": 17,
   "id": "210bca8a-4132-4da8-8670-29c7bb95c052",
   "metadata": {},
   "outputs": [
    {
     "name": "stdout",
     "output_type": "stream",
     "text": [
      "11\n"
     ]
    }
   ],
   "source": [
    "#4. Write a Python program to find largest number in a list?\n",
    "# Ans:\n",
    "l=[11,2,3,4,5]\n",
    "large=l[0]\n",
    "for i in l:\n",
    "    if i>large:\n",
    "        large=i\n",
    "print(large)"
   ]
  },
  {
   "cell_type": "code",
   "execution_count": 21,
   "id": "bd2d1d54-021f-4b99-8751-b5e5fa4cf3de",
   "metadata": {},
   "outputs": [
    {
     "name": "stdout",
     "output_type": "stream",
     "text": [
      "second largest number is:  5\n"
     ]
    }
   ],
   "source": [
    "#5. Write a Python program to find second largest number in a list?\n",
    "# Ans:\n",
    "l=[11,2,3,4,5]\n",
    "l2=list(set(l))\n",
    "l2.sort()\n",
    "print(\"second largest number is: \",l2[-2])\n"
   ]
  },
  {
   "cell_type": "code",
   "execution_count": 23,
   "id": "ed5aa691-5d88-424c-9c28-52f04c9106d0",
   "metadata": {},
   "outputs": [
    {
     "name": "stdout",
     "output_type": "stream",
     "text": [
      "[7, 8, 9]\n"
     ]
    }
   ],
   "source": [
    "#6. Write a Python program to find N largest elements from a list?\n",
    "# Ans:\n",
    "L=[1,2,3,4,56,7,8,9]\n",
    "n=3\n",
    "L.sort\n",
    "print(L[-n:])"
   ]
  },
  {
   "cell_type": "code",
   "execution_count": 28,
   "id": "08ab92d3-fd66-4867-b10b-3a41b79e1bd1",
   "metadata": {},
   "outputs": [
    {
     "name": "stdout",
     "output_type": "stream",
     "text": [
      "2\n",
      "4\n"
     ]
    }
   ],
   "source": [
    "#7. Write a Python program to print even numbers in a list?\n",
    "# Ans:\n",
    "l=[11,2,3,4,5]\n",
    "for i in l:\n",
    "    if i%2==0:\n",
    "        print(i)"
   ]
  },
  {
   "cell_type": "code",
   "execution_count": 29,
   "id": "c8731641-6e31-4600-a6ce-d9a2fb0c504e",
   "metadata": {},
   "outputs": [
    {
     "name": "stdout",
     "output_type": "stream",
     "text": [
      "11\n",
      "3\n",
      "5\n"
     ]
    }
   ],
   "source": [
    "#8. Write a Python program to print odd numbers in a List?\n",
    "# Ans:\n",
    "l=[11,2,3,4,5]\n",
    "for i in l:\n",
    "    if i%2!=0:\n",
    "        print(i)"
   ]
  },
  {
   "cell_type": "code",
   "execution_count": 32,
   "id": "2dcd84a7-dbd2-4f17-8a78-c6216db4acc3",
   "metadata": {},
   "outputs": [
    {
     "name": "stdout",
     "output_type": "stream",
     "text": [
      "The list after removing empty lists : [1, 2, 3, 4, 5, 6]\n"
     ]
    }
   ],
   "source": [
    "#9. Write a Python program to Remove empty List from List?\n",
    "# Ans:\n",
    "l = [1,[],2,3,[],4,5,[],6]\n",
    "l2 = [i for i in l if i != []]\n",
    "print(\"The list after removing empty lists :\" , l2)"
   ]
  },
  {
   "cell_type": "code",
   "execution_count": 33,
   "id": "53d8b938-fdc0-42c9-8708-e9320d9b2de1",
   "metadata": {},
   "outputs": [
    {
     "name": "stdout",
     "output_type": "stream",
     "text": [
      "[11, 2, 3, 4, 5]\n"
     ]
    }
   ],
   "source": [
    "#10. Write a Python program to Cloning or Copying a list?\n",
    "# Ans:\n",
    "l=[11,2,3,4,5]\n",
    "l_copy=l.copy()\n",
    "print(l_copy)"
   ]
  },
  {
   "cell_type": "code",
   "execution_count": 37,
   "id": "658d9495-be7b-4898-8853-9dc8238fd9bb",
   "metadata": {},
   "outputs": [
    {
     "data": {
      "text/plain": [
       "2"
      ]
     },
     "execution_count": 37,
     "metadata": {},
     "output_type": "execute_result"
    }
   ],
   "source": [
    "#11. Write a Python program to Count occurrences of an element in a list?\n",
    "# Ans:\n",
    "l=[11,2,3,4,4,4,4,4,2,5]\n",
    "Trg=4\n",
    "l.count(Trg)"
   ]
  },
  {
   "cell_type": "code",
   "execution_count": null,
   "id": "e11b1558-b58c-4cc1-a423-84f57c2117aa",
   "metadata": {},
   "outputs": [],
   "source": []
  }
 ],
 "metadata": {
  "kernelspec": {
   "display_name": "Python 3 (ipykernel)",
   "language": "python",
   "name": "python3"
  },
  "language_info": {
   "codemirror_mode": {
    "name": "ipython",
    "version": 3
   },
   "file_extension": ".py",
   "mimetype": "text/x-python",
   "name": "python",
   "nbconvert_exporter": "python",
   "pygments_lexer": "ipython3",
   "version": "3.10.6"
  }
 },
 "nbformat": 4,
 "nbformat_minor": 5
}
