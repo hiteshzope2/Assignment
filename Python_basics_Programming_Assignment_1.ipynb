{
  "cells": [
    {
      "cell_type": "markdown",
      "source": [
        "#1. Write a Python program to print \"Hello Python\"?"
      ],
      "metadata": {
        "id": "qLAtIJKeaS0r"
      }
    },
    {
      "cell_type": "code",
      "source": [
        "print(\"Hello Python\")"
      ],
      "metadata": {
        "colab": {
          "base_uri": "https://localhost:8080/"
        },
        "id": "5JIgEoaCabnr",
        "outputId": "82d0e8d1-8d0d-470b-be9a-5bd2152a3017"
      },
      "execution_count": 11,
      "outputs": [
        {
          "output_type": "stream",
          "name": "stdout",
          "text": [
            "Hello Python\n"
          ]
        }
      ]
    },
    {
      "cell_type": "markdown",
      "source": [
        "#2.Write a Python program to do arithmetical operations addition and division.?"
      ],
      "metadata": {
        "id": "y80CSgt6az9R"
      }
    },
    {
      "cell_type": "code",
      "source": [
        "# ADDITION\n",
        "A=10\n",
        "B=5\n",
        "C=A+B\n",
        "print(C)\n"
      ],
      "metadata": {
        "colab": {
          "base_uri": "https://localhost:8080/"
        },
        "id": "kTlxmaPPa33j",
        "outputId": "afd84d67-b4ae-490a-b72c-609026e95e2f"
      },
      "execution_count": 15,
      "outputs": [
        {
          "output_type": "stream",
          "name": "stdout",
          "text": [
            "15\n"
          ]
        }
      ]
    },
    {
      "cell_type": "code",
      "source": [
        "# DIVISION\n",
        "Q=10\n",
        "R=5\n",
        "D=Q/R\n",
        "print(D)\n"
      ],
      "metadata": {
        "colab": {
          "base_uri": "https://localhost:8080/"
        },
        "id": "X6u_pEjYbGeJ",
        "outputId": "adf0c291-e84a-47aa-a03e-2702c54c9914"
      },
      "execution_count": 16,
      "outputs": [
        {
          "output_type": "stream",
          "name": "stdout",
          "text": [
            "2.0\n"
          ]
        }
      ]
    },
    {
      "cell_type": "markdown",
      "source": [
        "#3. Write a Python program to find the area of a triangle?"
      ],
      "metadata": {
        "id": "NL4ST1aDbu19"
      }
    },
    {
      "cell_type": "code",
      "source": [
        "Base=float(input(\"Enter  base: \"))\n",
        "Height=float(input(\"Enter  height: \"))\n",
        "area_of_triangle=Base*Height*1/2\n",
        "print(f\"area_of_triangle: {area_of_triangle}\")\n"
      ],
      "metadata": {
        "colab": {
          "base_uri": "https://localhost:8080/"
        },
        "id": "6pFvjCy8dyUf",
        "outputId": "892d7468-c7da-4232-8ac0-a22d81cbd20c"
      },
      "execution_count": 18,
      "outputs": [
        {
          "output_type": "stream",
          "name": "stdout",
          "text": [
            "Enter  base: 5.5\n",
            "Enter  height: 6.3\n",
            "area_of_triangle: 17.325\n"
          ]
        }
      ]
    },
    {
      "cell_type": "markdown",
      "source": [
        "#4. Write a Python program to swap two variables?"
      ],
      "metadata": {
        "id": "LDX14XJNiIWw"
      }
    },
    {
      "cell_type": "code",
      "source": [
        "a=5\n",
        "b=6\n",
        "\n",
        "temp=a\n",
        "a=b\n",
        "b=temp\n",
        "print(f\"Value of a:{a}\")\n",
        "print(f\"Value of b:{b}\")"
      ],
      "metadata": {
        "colab": {
          "base_uri": "https://localhost:8080/"
        },
        "id": "B-7Bil3qiK-u",
        "outputId": "60274dc4-c6b7-4377-d5a6-9f6068df9619"
      },
      "execution_count": 22,
      "outputs": [
        {
          "output_type": "stream",
          "name": "stdout",
          "text": [
            "Value of a:6\n",
            "Value of b:5\n"
          ]
        }
      ]
    },
    {
      "cell_type": "markdown",
      "source": [
        "#5. Write a Python program to generate a random number?"
      ],
      "metadata": {
        "id": "fnQ1V09PjsGD"
      }
    },
    {
      "cell_type": "code",
      "source": [
        "from random import *\n",
        "a=random()\n",
        "print(a)"
      ],
      "metadata": {
        "colab": {
          "base_uri": "https://localhost:8080/"
        },
        "id": "cBpKRBAcjrNu",
        "outputId": "68fe79b7-b88e-4ddd-cb58-8e945b69df14"
      },
      "execution_count": 23,
      "outputs": [
        {
          "output_type": "stream",
          "name": "stdout",
          "text": [
            "0.0034639956699057395\n"
          ]
        }
      ]
    }
  ],
  "metadata": {
    "colab": {
      "provenance": [],
      "collapsed_sections": []
    },
    "kernelspec": {
      "display_name": "Python 3",
      "name": "python3"
    },
    "language_info": {
      "name": "python"
    }
  },
  "nbformat": 4,
  "nbformat_minor": 0
}