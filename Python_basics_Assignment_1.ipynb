#1. In the below elements which of them are values or an expression? eg:- values can be
#integer or string and expressions will be mathematical operators.
      *       =  It is mathematical operator.

      'hello' =  It is String value.

      -87.8   =  It is Float value.

      -       =  It is mathematical operator.

      /       =  It is mathematical operator.

      +       =  It is mathematical operator.

      6       =  It is interger value
     
      values = 'hello', -87.8, 6
      expressions = *,-,/,+

#2. What is the difference between string and variable?


```   
   Ans = variables is a container or box where you can store your data values. 
         String is a combination of character. Any type of value inside quotes are consider as string value.
         
 #3. Describe three different data types.
 
        1.Text data type :  Strings

        In text data type there is a data type called "string" data type. string is
        immutable and anything between the quotes are string.

        2.Numeric data type :  Integers,  float,  complex
    
        In numeric data type there is a 3 type of data type as follows:

        a.integers :  integer data type consists whole numbers and it is immutable.

        b.float : float data type consists decimal numbers and it is immutable.

        c.complex : complex data type consists  real number and imaginary value and it is immutable.

        3.boolean data type

        boolean data type has 2 values called "True" and "False".
        
   #4. What is an expression made up of? What do all expressions do?

    Ans = Expression is made up of operands, operators, variables, methonds and functions.
          Expressions gives result after interpreted by interpreter.
          
    #5. This assignment statements, like spam = 10. What is the difference between an expression and a statement?
       Difference between the expression and statement are as follows:

       Ans= Expressions gives result after interpreted by interpreter.
            Any command that are executable or python can exeucute is called statement.
            
     #6. After running the following code, what does the variable bacon contain?
    bacon = 22

    bacon + 1

    Ans = 22

    Value of bacon is 22 because bacon + 1 is not assign to the bacon.
    
    #7. What should the values of the following two terms be?
    'spam' + 'spamspam'

    Ans = 'spam'*3

    Right answer of the both terms is:
    'spamspamspam'
    
    #8. Why is eggs a valid variable name while 100 is invalid?

    Ans  =  Variable name only starts with the alphabets.
            Variable name does not start with numbers,
            it cause lots of error during interpretation.
            
     #9. What three functions can be used to get the integer, floating-point number, or string version of a value?

    Ans = for integer we use int()
          for floating-point we use float()
          for string we use string()
     #10. Why does this expression cause an error? How can you fix it? 
       'I have eaten ' + 99 + ' burritos.'


    Ans      = This expression is cause error because string only concatenate with string only and 99 is integer.
    Solution = To run this without error we have to convert 99 to string.
    'I have eaten '+str(99)+' burritos'

    
