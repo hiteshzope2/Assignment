{
 "cells": [
  {
   "cell_type": "code",
   "execution_count": 38,
   "id": "eef9f950-7c4a-48f2-a672-6d15aba2ae79",
   "metadata": {},
   "outputs": [
    {
     "name": "stdout",
     "output_type": "stream",
     "text": [
      "[2001, 2002, 2003, 2004, 2005, 2006]\n"
     ]
    }
   ],
   "source": [
    "#1. Create a list called years_list, starting with the year of your birth, and each year thereafter until\n",
    "#     the year of your fifth birthday. For example, if you were born in 1980. the list would be years_list =\n",
    "#     [1980, 1981, 1982, 1983, 1984, 1985].\n",
    "\n",
    "# Ans: \n",
    "years_list=[]\n",
    "for i in range(2001,2006+1):\n",
    "    years_list.append(i)\n",
    "print(years_list)"
   ]
  },
  {
   "cell_type": "code",
   "execution_count": 39,
   "id": "13d6779b-c6c1-49bf-bd5f-060fcb38361b",
   "metadata": {},
   "outputs": [
    {
     "name": "stdout",
     "output_type": "stream",
     "text": [
      "[2001, 2002, 2003, 2004, 2005, 2006]\n"
     ]
    },
    {
     "data": {
      "text/plain": [
       "2003"
      ]
     },
     "execution_count": 39,
     "metadata": {},
     "output_type": "execute_result"
    }
   ],
   "source": [
    "#2. In which year in years_list was your third birthday? Remember, you were 0 years of age for your first year.\n",
    "# Ans: \n",
    "print(years_list)\n",
    "years_list[2]"
   ]
  },
  {
   "cell_type": "code",
   "execution_count": 40,
   "id": "84b468b1-0751-4c46-996d-888044541f97",
   "metadata": {},
   "outputs": [
    {
     "data": {
      "text/plain": [
       "2006"
      ]
     },
     "execution_count": 40,
     "metadata": {},
     "output_type": "execute_result"
    }
   ],
   "source": [
    "#3. In the years list, which year were you the oldest?\n",
    "# Ans: \n",
    "max(years_list)"
   ]
  },
  {
   "cell_type": "code",
   "execution_count": 41,
   "id": "3a082ecd-138f-40ec-a895-da8a641ac1fa",
   "metadata": {},
   "outputs": [
    {
     "name": "stdout",
     "output_type": "stream",
     "text": [
      "list['mozzarella', 'cinderella', 'salmonella']\n"
     ]
    }
   ],
   "source": [
    "#4.Make a list called things with these three strings as elements: 'mozzarella', 'cinderella','salmonella'.\n",
    "# Ans: \n",
    "things=list['mozzarella', 'cinderella','salmonella']\n",
    "print(things)"
   ]
  },
  {
   "cell_type": "code",
   "execution_count": 42,
   "id": "14b9d6de-5a97-47e4-ace9-ecaa7afe2c65",
   "metadata": {},
   "outputs": [
    {
     "name": "stdout",
     "output_type": "stream",
     "text": [
      "['Mozzarella', 'Cinderella', 'Salmonella']\n"
     ]
    }
   ],
   "source": [
    "#5.Capitalize the element in things that refers to a person and then print the list. Did it change the element in the list?\n",
    "# Ans: \n",
    "things=['mozzarella', 'cinderella','salmonella']\n",
    "for i in range(len(things)):\n",
    "    things[i] = things[i].capitalize()\n",
    "print(things)"
   ]
  },
  {
   "cell_type": "code",
   "execution_count": 43,
   "id": "87d893eb-0873-40d7-be08-fdbc8902c836",
   "metadata": {},
   "outputs": [
    {
     "name": "stdout",
     "output_type": "stream",
     "text": [
      "['Groucho', 'Chico', 'Harpo']\n"
     ]
    }
   ],
   "source": [
    "#6.Make a surprise list with the elements \"Groucho\", \"Chico\", and \"Harpo\".\n",
    "# Ans: \n",
    "surprise=[\"Groucho\", \"Chico\",\"Harpo\"]\n",
    "print(surprise)"
   ]
  },
  {
   "cell_type": "code",
   "execution_count": 44,
   "id": "7fb1ed1c-250e-461e-bc88-f08cfb90eb7a",
   "metadata": {},
   "outputs": [
    {
     "name": "stdout",
     "output_type": "stream",
     "text": [
      "Oprah\n"
     ]
    }
   ],
   "source": [
    "#7. Lowercase the last element of the surprise list, reverse it, and then capitalize it.\n",
    "# Ans: \n",
    "last_element = surprise[-1].lower()\n",
    "reversed_element = last_element[::-1]\n",
    "capitalized_element = reversed_element.capitalize()\n",
    "print(capitalized_element)"
   ]
  },
  {
   "cell_type": "code",
   "execution_count": 45,
   "id": "32219872-6901-43e6-acc6-fbed04936bb1",
   "metadata": {},
   "outputs": [
    {
     "name": "stdout",
     "output_type": "stream",
     "text": [
      "{'dog': 'chien', 'cat': 'chat', 'walrus': 'morse'}\n"
     ]
    }
   ],
   "source": [
    "#8. Make an English-to-French dictionary called e2f and print it. Here are your starter words: dog is chien, cat is chat, and walrus is morse.\n",
    "# Ans: \n",
    "e2f = {'dog': 'chien', 'cat': 'chat', 'walrus': 'morse'}\n",
    "print(e2f)"
   ]
  },
  {
   "cell_type": "code",
   "execution_count": 46,
   "id": "17c8aac7-f69b-4464-8cb2-23edcbabff95",
   "metadata": {},
   "outputs": [
    {
     "data": {
      "text/plain": [
       "'morse'"
      ]
     },
     "execution_count": 46,
     "metadata": {},
     "output_type": "execute_result"
    }
   ],
   "source": [
    "#9. Write the French word for walrus in your three-word dictionary e2f.\n",
    "# Ans: \n",
    "e2f['walrus']"
   ]
  },
  {
   "cell_type": "code",
   "execution_count": 47,
   "id": "415e2ce4-f8da-43f3-830e-8ac0d6e69409",
   "metadata": {},
   "outputs": [
    {
     "data": {
      "text/plain": [
       "{'chien': 'dog', 'chat': 'cat', 'morse': 'walrus'}"
      ]
     },
     "execution_count": 47,
     "metadata": {},
     "output_type": "execute_result"
    }
   ],
   "source": [
    "#10. Make a French-to-English dictionary called f2e from e2f. Use the items method.\n",
    "# Ans: \n",
    "f2e = {key:value for value,key in e2f.items()}\n",
    "f2e"
   ]
  },
  {
   "cell_type": "code",
   "execution_count": 48,
   "id": "9e76a5ab-85d7-447b-aaaf-9764a0a28c24",
   "metadata": {},
   "outputs": [
    {
     "data": {
      "text/plain": [
       "'dog'"
      ]
     },
     "execution_count": 48,
     "metadata": {},
     "output_type": "execute_result"
    }
   ],
   "source": [
    "#11. Print the English version of the French word chien using f2e.\n",
    "# Ans: \n",
    "f2e[\"chien\"]"
   ]
  },
  {
   "cell_type": "code",
   "execution_count": 49,
   "id": "68f92ff5-5a6c-4ae5-aec2-301277f05081",
   "metadata": {},
   "outputs": [
    {
     "data": {
      "text/plain": [
       "{'cat', 'dog', 'walrus'}"
      ]
     },
     "execution_count": 49,
     "metadata": {},
     "output_type": "execute_result"
    }
   ],
   "source": [
    "#12. Make and print a set of English words from the keys in e2f.\n",
    "# Ans:\n",
    "set(e2f.keys())"
   ]
  },
  {
   "cell_type": "code",
   "execution_count": 50,
   "id": "4a43d81a-3952-42c9-b6cb-a8b3f8ce5f93",
   "metadata": {},
   "outputs": [
    {
     "data": {
      "text/plain": [
       "{'animals': {'cats': ['Henri', 'Grumpy', 'Lucy'], 'octopi': {}, 'emus': {}},\n",
       " 'plants': {},\n",
       " 'other': {}}"
      ]
     },
     "execution_count": 50,
     "metadata": {},
     "output_type": "execute_result"
    }
   ],
   "source": [
    "#13.Make a multilevel dictionary called life. Use these strings for the topmost keys: 'animals', 'plants', and 'other'. \n",
    "#   Make the 'animals' key refer to another dictionary with the keys 'cats', 'octopi', and 'emus'.\n",
    "#   Make the 'cats' key refer to a list of strings with the values 'Henri', 'Grumpy', and 'Lucy'. \n",
    "#   Make all the other keys refer to empty dictionaries.\n",
    "\n",
    "life = {'animals': {'cats': ['Henri', 'Grumpy', 'Lucy'],'octopi': {},'emus': {}},'plants': {},'other': {}}\n",
    "life"
   ]
  },
  {
   "cell_type": "code",
   "execution_count": 51,
   "id": "875b8451-605d-4729-b4a0-907025bffc97",
   "metadata": {},
   "outputs": [
    {
     "name": "stdout",
     "output_type": "stream",
     "text": [
      "dict_keys(['animals', 'plants', 'other'])\n"
     ]
    }
   ],
   "source": [
    "#14. Print the top-level keys of life.\n",
    "# Ans: \n",
    "print(life.keys())"
   ]
  },
  {
   "cell_type": "code",
   "execution_count": 52,
   "id": "f107ff7f-9d55-4002-910e-862b22cb5fab",
   "metadata": {},
   "outputs": [
    {
     "name": "stdout",
     "output_type": "stream",
     "text": [
      "dict_keys(['cats', 'octopi', 'emus'])\n"
     ]
    }
   ],
   "source": [
    "#15. Print the keys for life['animals'].\n",
    "# Ans:\n",
    "print(life['animals'].keys())"
   ]
  },
  {
   "cell_type": "code",
   "execution_count": 54,
   "id": "53ee9f92-b744-4f85-8d51-ecac415e3933",
   "metadata": {},
   "outputs": [
    {
     "name": "stdout",
     "output_type": "stream",
     "text": [
      "['Henri', 'Grumpy', 'Lucy']\n"
     ]
    }
   ],
   "source": [
    "#16. Print the values for life['animals']['cats']\n",
    "# Ans: \n",
    "print(life['animals']['cats'])"
   ]
  },
  {
   "cell_type": "code",
   "execution_count": null,
   "id": "89e9e3e5-ce83-4743-a3c6-5354a127d7b8",
   "metadata": {},
   "outputs": [],
   "source": []
  }
 ],
 "metadata": {
  "kernelspec": {
   "display_name": "Python 3 (ipykernel)",
   "language": "python",
   "name": "python3"
  },
  "language_info": {
   "codemirror_mode": {
    "name": "ipython",
    "version": 3
   },
   "file_extension": ".py",
   "mimetype": "text/x-python",
   "name": "python",
   "nbconvert_exporter": "python",
   "pygments_lexer": "ipython3",
   "version": "3.10.6"
  }
 },
 "nbformat": 4,
 "nbformat_minor": 5
}
