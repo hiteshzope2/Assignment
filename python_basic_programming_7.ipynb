{
 "cells": [
  {
   "cell_type": "code",
   "execution_count": 3,
   "id": "30458107-a60f-4782-9053-986f708f0423",
   "metadata": {},
   "outputs": [
    {
     "name": "stdout",
     "output_type": "stream",
     "text": [
      "The sum of the array is : 28\n"
     ]
    }
   ],
   "source": [
    "# 1. Write a Python Program to find sum of array?\n",
    "def sum_of_array(array):\n",
    "    sum=0\n",
    "    for i in array:\n",
    "        sum=sum+i\n",
    "    return sum\n",
    "\n",
    "Arr=[1,2,3,4,5,6,7]\n",
    "print(\"The sum of the array is :\" ,sum_of_array(Arr))"
   ]
  },
  {
   "cell_type": "code",
   "execution_count": 1,
   "id": "3fe9bf9c-3ce1-44fe-b60c-b4c388813640",
   "metadata": {},
   "outputs": [
    {
     "name": "stdout",
     "output_type": "stream",
     "text": [
      "the largest element in an array : 7\n"
     ]
    }
   ],
   "source": [
    "# 2. Write a Python Program to find largest element in an array?\n",
    "def largest_no(arr):\n",
    "    max=arr[0]\n",
    "    for i in range(1,len(arr)):\n",
    "        if arr[i]>max:\n",
    "            max=arr[i]\n",
    "    return max\n",
    "\n",
    "arr=[1,2,3,4,5,6,7]\n",
    "print(\"the largest element in an array :\",largest_no(arr))"
   ]
  },
  {
   "cell_type": "code",
   "execution_count": 13,
   "id": "0d261cea-edd6-4fd1-ae54-7f7a0fd45157",
   "metadata": {},
   "outputs": [
    {
     "name": "stdout",
     "output_type": "stream",
     "text": [
      "[1, 2, 3, 4, 5, 6]\n",
      "After rotation\n",
      "[3, 4, 5, 6, 1, 2]\n"
     ]
    }
   ],
   "source": [
    "#3. Write a Python Program for array rotation?\n",
    "def rotateList(arr,k,n):\n",
    "    \n",
    "    arr[:]=arr[k:n]+arr[0:k]\n",
    "    return arr\n",
    "\n",
    "arr = [1, 2, 3, 4, 5, 6]\n",
    "k=2\n",
    "print(arr)\n",
    "print(\"After rotation\")\n",
    "print(rotateList(arr,k,len(arr)))"
   ]
  },
  {
   "cell_type": "code",
   "execution_count": 18,
   "id": "d689c869-3aac-4ad2-ad4e-cbf244a88aa0",
   "metadata": {},
   "outputs": [
    {
     "name": "stdout",
     "output_type": "stream",
     "text": [
      "[1, 2, 3, 4, 5]\n",
      "After spliting and adding to the end\n",
      "[3, 4, 5, 1, 2]\n"
     ]
    }
   ],
   "source": [
    "# 4. Write a Python Program to Split the array and add the first part to the end?\n",
    "def spilt_and_add(arr,k):\n",
    "    first_part=arr[:k]\n",
    "    second_part=arr[k:]\n",
    "    new=second_part+first_part\n",
    "    return new\n",
    "arr=[1,2,3,4,5]\n",
    "k=2\n",
    "new=spilt_and_add(arr,k)\n",
    "print(arr)\n",
    "print(\"After spliting and adding to the end\")\n",
    "print(new)\n"
   ]
  },
  {
   "cell_type": "code",
   "execution_count": 22,
   "id": "f8200c5f-db1b-429e-bfe0-4839f7e970b0",
   "metadata": {},
   "outputs": [
    {
     "name": "stdout",
     "output_type": "stream",
     "text": [
      "Is [1, 2, 3, 4, 5] monotonic? True\n",
      "Is [5, 4, 3, 2, 1] monotonic? True\n",
      "Is [1, 2, 2, 3, 4] monotonic? True\n",
      "Is [4, 5, 2, 1] monotonic? False\n"
     ]
    }
   ],
   "source": [
    "# 5. Write a Python Program to check if given array is Monotonic?\n",
    "def monotonic(arr):\n",
    "    increasing=True\n",
    "    decreasing=True\n",
    "    for i in range(1, len(arr)):\n",
    "        if arr[i] < arr[i-1]:\n",
    "            increasing = False\n",
    "        if arr[i] > arr[i-1]:\n",
    "            decreasing = False\n",
    "    if increasing or decreasing:\n",
    "        return True\n",
    "    else:\n",
    "        return False\n",
    "    \n",
    "arr1 = [1, 2, 3, 4, 5]\n",
    "arr2 = [5, 4, 3, 2, 1]\n",
    "arr3 = [1, 2, 2, 3, 4]\n",
    "arr4 = [4, 5, 2, 1]    \n",
    "\n",
    "print(\"Is\", arr1, \"monotonic?\", monotonic(arr1))\n",
    "print(\"Is\", arr2, \"monotonic?\", monotonic(arr2))\n",
    "print(\"Is\", arr3, \"monotonic?\", monotonic(arr3))\n",
    "print(\"Is\", arr4, \"monotonic?\", monotonic(arr4))"
   ]
  },
  {
   "cell_type": "code",
   "execution_count": null,
   "id": "530210df-a3fd-476e-bdd7-f75a1c4ca3e3",
   "metadata": {},
   "outputs": [],
   "source": []
  }
 ],
 "metadata": {
  "kernelspec": {
   "display_name": "Python 3 (ipykernel)",
   "language": "python",
   "name": "python3"
  },
  "language_info": {
   "codemirror_mode": {
    "name": "ipython",
    "version": 3
   },
   "file_extension": ".py",
   "mimetype": "text/x-python",
   "name": "python",
   "nbconvert_exporter": "python",
   "pygments_lexer": "ipython3",
   "version": "3.10.6"
  }
 },
 "nbformat": 4,
 "nbformat_minor": 5
}
