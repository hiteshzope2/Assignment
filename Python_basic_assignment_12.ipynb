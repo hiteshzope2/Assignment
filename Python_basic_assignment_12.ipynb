{
 "cells": [
  {
   "cell_type": "code",
   "execution_count": 1,
   "id": "aec0d1b2-141e-444c-a3fb-5a0d38342a0c",
   "metadata": {},
   "outputs": [],
   "source": [
    "#1. In what modes should the PdfFileReader() and PdfFileWriter() File objects will be opened?\n",
    "# Ans: The file object should be opened in binary mode,read binary (rb) for PdfFileREader() and write binary (wb) PdfFileWriter()"
   ]
  },
  {
   "cell_type": "code",
   "execution_count": 3,
   "id": "6cf35d37-9f9f-4f00-b0c6-4f56ef044d1c",
   "metadata": {},
   "outputs": [],
   "source": [
    "#2. From a PdfFileReader object, how do you get a Page object for page 5?\n",
    "# Ans: To get a Page object for page 5 from a PdfFileReader object, you can use the getPage() method \n",
    "#      and pass in the page number minus one (since pages are zero-indexed)"
   ]
  },
  {
   "cell_type": "code",
   "execution_count": 4,
   "id": "d7d7e292-ec98-4cdc-aecf-7f4033b187b6",
   "metadata": {},
   "outputs": [],
   "source": [
    "#3. What PdfFileReader variable stores the number of pages in the PDF document?\n",
    "# Ans: The number of pages in a PDF document can be obtained using the numPages variable of a PdfFileReader object."
   ]
  },
  {
   "cell_type": "code",
   "execution_count": 1,
   "id": "56f852a5-981a-41f1-b464-172226c1cb20",
   "metadata": {},
   "outputs": [],
   "source": [
    "#4. If a PdfFileReader object’s PDF is encrypted with the password swordfish, what must you do before you can obtain Page objects from it?\n",
    "# Ans: We must first decrypt the PDF by calling the decrypt('swordfish') method of the PdfFileReader object \n",
    "#      and passing the correct password as an argument."
   ]
  },
  {
   "cell_type": "code",
   "execution_count": 2,
   "id": "6ade384f-7f48-4ca1-9985-ab6246155c0c",
   "metadata": {},
   "outputs": [],
   "source": [
    "#5. What methods do you use to rotate a page?\n",
    "# Ans: We can use the rotateClockwise() and rotateCounterClockwise() to ratote a page."
   ]
  },
  {
   "cell_type": "code",
   "execution_count": 4,
   "id": "3fb56aae-6389-4ee1-b72c-f054d7fb384e",
   "metadata": {},
   "outputs": [],
   "source": [
    "#6. What is the difference between a Run object and a Paragraph object?\n",
    "# Ans: A paragraph begins on a new line and contains multiple runs. Runs are contiguous groups of charecters within a paragraph."
   ]
  },
  {
   "cell_type": "code",
   "execution_count": 5,
   "id": "94fcf85d-5a68-44b3-8853-5cb020e232e3",
   "metadata": {},
   "outputs": [],
   "source": [
    "#7. How do you obtain a list of Paragraph objects for a Document object that’s stored in a variable named doc?\n",
    "# Ans: To obtain a list of Paragraph objects for a Document object stored in a variable named doc, you can use the doc.paragraphs property. \n",
    "#      This property returns a list of all the Paragraph objects in the document."
   ]
  },
  {
   "cell_type": "code",
   "execution_count": 6,
   "id": "71dfa916-a105-42f7-8d1a-c9c4f7a5a141",
   "metadata": {},
   "outputs": [],
   "source": [
    "#8. What type of object has bold, underline, italic, strike, and outline variables?\n",
    "# Ans: The Run object has the bold, underline, italic, strike, and outline variables. "
   ]
  },
  {
   "cell_type": "code",
   "execution_count": 8,
   "id": "c4ddaec6-3009-49c7-83b8-d6f839b2eeef",
   "metadata": {},
   "outputs": [],
   "source": [
    "#9. What is the difference between False, True, and None for the bold variable?\n",
    "# Ans: 1)False explicitly turns off bold formatting for the text represented by the Run object. \n",
    "#      2)True explicitly turns on bold formatting for the text represented by the Run object. \n",
    "#      3)None means that the text will inherit its bold formatting from its containing paragraph's style. If the paragraph's style specifies bold formatting, \n",
    "#       the text will be bold. If the style does not specify bold formatting, the text will not be bold."
   ]
  },
  {
   "cell_type": "code",
   "execution_count": 9,
   "id": "bacdcc49-8dd9-4c48-91ad-838a0ef288c2",
   "metadata": {},
   "outputs": [],
   "source": [
    "#10. How do you create a Document object for a new Word document?\n",
    "# Ans: By Calling the docx.Document() function."
   ]
  },
  {
   "cell_type": "code",
   "execution_count": 6,
   "id": "fdedf4e1-3891-43d1-86b2-a87a6df740e7",
   "metadata": {},
   "outputs": [],
   "source": [
    "#11. How do you add a paragraph with the text 'Hello, there!' to a Document object stored in a variable named doc?\n",
    "# Ans:  To add a paragraph with the text 'Hello, there!' to a Document object stored in a variable named doc, \n",
    "#       we can use the add_paragraph() method of the Document object."
   ]
  },
  {
   "cell_type": "code",
   "execution_count": null,
   "id": "0a271acb-677f-4425-8b52-8ce4ded9751b",
   "metadata": {},
   "outputs": [],
   "source": [
    "#12. What integers represent the levels of headings available in Word documents?\n",
    "# Ans: The arguments to add_heading() are a string of the heading text and an integer from 0 to 4. \n",
    "#      The integer 0 makes the heading the Title style, which is used for the top of the document. \n",
    "#      Integers 1 to 4 are for various heading levels, with 1 being the main heading and 4 the lowest subheading. \n",
    "#      The add_heading() function returns a Paragraph object to save you the step of extracting it from the Document object as a separate step."
   ]
  }
 ],
 "metadata": {
  "kernelspec": {
   "display_name": "Python 3 (ipykernel)",
   "language": "python",
   "name": "python3"
  },
  "language_info": {
   "codemirror_mode": {
    "name": "ipython",
    "version": 3
   },
   "file_extension": ".py",
   "mimetype": "text/x-python",
   "name": "python",
   "nbconvert_exporter": "python",
   "pygments_lexer": "ipython3",
   "version": "3.10.6"
  }
 },
 "nbformat": 4,
 "nbformat_minor": 5
}
