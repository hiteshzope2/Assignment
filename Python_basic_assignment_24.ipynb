{
 "cells": [
  {
   "cell_type": "code",
   "execution_count": 1,
   "id": "f2eb07ed-c00a-440c-bd2c-1b71cf2217cb",
   "metadata": {},
   "outputs": [],
   "source": [
    "#1. What is the relationship between def statements and lambda expressions ?\n",
    "# Ans:\n",
    "\n",
    "# A def statement is used to define a named function in Python. \n",
    "# It consists of the def keyword followed by the function name, \n",
    "# a parameter list enclosed in parentheses, and a colon. \n",
    "\n",
    "# a lambda expression, also known as an anonymous function, allows you to create small, \n",
    "# one-line functions without explicitly defining a function using def. \n",
    "# Lambda expressions are defined using the lambda keyword, followed by a parameter list, a colon, \n",
    "# and an expression that represents the function's return value."
   ]
  },
  {
   "cell_type": "code",
   "execution_count": 2,
   "id": "d5383619-1a93-4e68-8997-6e9c78719842",
   "metadata": {},
   "outputs": [],
   "source": [
    "#2. What is the benefit of lambda?\n",
    "# Ans:\n",
    "\n",
    "# Lambda functions are inline functions and thus execute comparatively faster Many times \n",
    "# lambda functions make code much more readable by avoiding the logical jumps caused by function calls"
   ]
  },
  {
   "cell_type": "code",
   "execution_count": 4,
   "id": "80641f04-a435-4cdd-af8c-c5c3d4f903be",
   "metadata": {},
   "outputs": [],
   "source": [
    "#3. Compare and contrast map, filter, and reduce.\n",
    "# Ans:\n",
    "# map applies a given function to each element in a sequence and returns a new sequence of the same length.\n",
    "# filter creates a new sequence containing only the elements from the original sequence that satisfy a given condition.\n",
    "# reduce performs a cumulative computation on a sequence by applying a binary function to elements in a pairwise manner until a single result is obtained.\n",
    "\n",
    "##  Map\n",
    "# numbers = [1, 2, 3, 4, 5]\n",
    "# squared = map(lambda x: x ** 2, numbers)\n",
    "\n",
    "##  filter\n",
    "# numbers = [1, 2, 3, 4, 5]\n",
    "# evens = filter(lambda x: x % 2 == 0, numbers)\n",
    "\n",
    "\n",
    "## reduce\n",
    "# from functools import reduce\n",
    "# numbers = [1, 2, 3, 4, 5]\n",
    "# product = reduce(lambda x, y: x * y, numbers)"
   ]
  },
  {
   "cell_type": "code",
   "execution_count": 5,
   "id": "14196d3f-744d-40bf-a23d-6ded7cbd6e99",
   "metadata": {},
   "outputs": [],
   "source": [
    "#4. What are function annotations, and how are they used?\n",
    "# Ans:\n",
    "# Function annotations in Python provide a way to associate arbitrary metadata or type hints with the parameters and return value of a function.\n",
    "# They allow you to specify additional information about the function's inputs and outputs, without affecting the function's behavior at runtime.\n",
    "# Function annotations are defined using the : symbol after the parameter name or return value, followed by the annotation expression.\n",
    "\n",
    "# Syntax :\n",
    "\n",
    "# def func(a: 'int') -> 'int':\n",
    "# pass\n",
    "# Annotations for simple parameters:\n",
    "\n",
    "# def func(x: 'float'=10.8, y: 'argument2'):\n",
    "# In the above code the argument, ‘x’ of the function func, has been annotated to float data type and the argument ‘y’ has a string-based annotation. \n",
    "# The argument can also be assigned to a default value using a ‘=’ symbol followed by the default value. These default values are optional to the code.\n",
    "# Annotations for return values:\n",
    "\n",
    "# def func(a: expression) -> 'int':\n",
    "# The annotations for the return value is written after the ‘->’ symbol.\n",
    "\n",
    "# def add(x: int, y: int) -> int:\n",
    "#     return x + y"
   ]
  },
  {
   "cell_type": "code",
   "execution_count": 6,
   "id": "0f853d32-6560-4501-bdf8-678136df3ac9",
   "metadata": {},
   "outputs": [],
   "source": [
    "#5. What are recursive functions, and how are they used?\n",
    "# Ans:\n",
    "# Recursive functions are functions that call themselves within their own body.\n",
    "# In other words, a recursive function solves a problem by breaking it down into smaller subproblems of the same nature\n",
    "# and applying the same function to those subproblems.\n",
    "# Each recursive call reduces the problem size until a base case is reached. "
   ]
  },
  {
   "cell_type": "code",
   "execution_count": 7,
   "id": "4f5033be-c932-4302-aaa5-960b4c3a9a75",
   "metadata": {},
   "outputs": [],
   "source": [
    "#6. What are some general design guidelines for coding functions?\n",
    "# Ans:\n",
    "# Function Purpose and Responsibility:\n",
    "# Keep functions focused on a single task and define them with a clear purpose.\n",
    "# Avoid writing functions that are too long or have excessive complexity. Consider splitting complex functions into smaller, more manageable ones.\n",
    "\n",
    "# Function Naming:\n",
    "# Use descriptive and meaningful names for functions that accurately reflect their purpose and functionality.\n",
    "# Follow the naming conventions of the programming language or framework you are using.\n",
    "\n",
    "# Function Parameters:\n",
    "# Limit the number of parameters a function accepts. Having too many parameters can make the function harder to understand and use.\n",
    "# Use default parameter values when appropriate to provide flexibility and simplify function calls.\n",
    "# Consider using keyword arguments for functions with multiple parameters to improve readability.\n",
    "\n",
    "# Function Return Values:\n",
    "# Clearly define the expected return values and document them in function docstrings or annotations.\n",
    "# Aim for functions to have a single, well-defined return value. If a function needs to return multiple values, consider using data structures like tuples, lists, or dictionaries.\n",
    "\n",
    "# Function Modularity and Reusability:\n",
    "# Design functions to be modular and reusable. Avoid hardcoding values that limit their flexibility and applicability.\n",
    "# Extract common functionality into separate helper functions to promote code reuse and maintainability.\n",
    "\n",
    "# Function Documentation:\n",
    "# Provide clear and concise documentation for functions, including docstrings that explain their purpose, parameters, and return values.\n",
    "# Use comments within the function body to clarify complex or non-obvious sections of code.\n",
    "# Error Handling:\n",
    "\n",
    "# Anticipate potential errors and handle them appropriately within functions. Use exception handling mechanisms, such as try-except blocks, to catch and handle exceptions.\n",
    "# Clearly communicate error conditions to callers, either through exceptions, return values, or well-documented error codes.\n",
    "\n",
    "# Function Testing:\n",
    "# Write comprehensive unit tests for functions to ensure their correctness and to catch any regressions during code changes.\n",
    "# Consider edge cases and boundary conditions in your test cases to verify the robustness of functions.\n",
    "\n",
    "# Function Performance:\n",
    "# Optimize function performance when necessary, but strive for clarity and maintainability over premature optimization.\n",
    "# Profile and measure the performance of your functions to identify potential bottlenecks and optimize the critical parts of your code if needed.\n",
    "\n",
    "# Consistency and Coding Style:\n",
    "# Follow consistent coding style guidelines, such as PEP 8 for Python, to improve code readability and maintainability.\n",
    "# Use whitespace, indentation, and formatting consistently to make your code visually appealing and easier to understand."
   ]
  },
  {
   "cell_type": "code",
   "execution_count": null,
   "id": "80bca361-26bc-43ca-a8f9-aa8c916ec028",
   "metadata": {},
   "outputs": [],
   "source": [
    "#7. Name three or more ways that functions can communicate results to a caller.\n",
    "# Ans:\n",
    "# 1)Return Values\n",
    "# 2)Modifying Mutable Objects\n",
    "# 3)Global Variables"
   ]
  }
 ],
 "metadata": {
  "kernelspec": {
   "display_name": "Python 3 (ipykernel)",
   "language": "python",
   "name": "python3"
  },
  "language_info": {
   "codemirror_mode": {
    "name": "ipython",
    "version": 3
   },
   "file_extension": ".py",
   "mimetype": "text/x-python",
   "name": "python",
   "nbconvert_exporter": "python",
   "pygments_lexer": "ipython3",
   "version": "3.10.6"
  }
 },
 "nbformat": 4,
 "nbformat_minor": 5
}
