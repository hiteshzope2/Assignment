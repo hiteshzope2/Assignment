{
 "cells": [
  {
   "cell_type": "code",
   "execution_count": 3,
   "id": "f18cbb7b-185c-45d6-be73-55c46ee09bb1",
   "metadata": {},
   "outputs": [],
   "source": [
    "#1.What advantages do Excel spreadsheets have over CSV spreadsheets?\n",
    "# Ans: Here are some advantages that Excel spreadsheets have over CSV spreadsheets:\n",
    "#      Formatting and styling\n",
    "#      Complex calculations\n",
    "#      Data validation\n",
    "#      Multiple sheets\n",
    "#      Macros"
   ]
  },
  {
   "cell_type": "code",
   "execution_count": null,
   "id": "6f3431f5-31eb-4b3c-ac55-f163809764e5",
   "metadata": {},
   "outputs": [],
   "source": [
    "#2.What do you pass to csv.reader() and csv.writer() to create reader and writer objects?\n",
    "# Ans: we pass a File object, obtained from a call to open().\n",
    "import csv\n",
    "file_csv = open('abc.csv')\n",
    "filereader = csv.reader(file_csv)\n",
    "fileData = list(filereader)\n",
    "fileData"
   ]
  },
  {
   "cell_type": "code",
   "execution_count": 4,
   "id": "916cd5a6-3f9e-4171-ac83-cffc6dd35d95",
   "metadata": {},
   "outputs": [],
   "source": [
    "#3.What modes do File objects for reader and writer objects need to be opened in?\n",
    "# Ans: For reader objects, the file object needs to be opened in read mode ('r').\n",
    "#      For writer objects, the file object needs to be opened in write mode ('w')."
   ]
  },
  {
   "cell_type": "code",
   "execution_count": 5,
   "id": "ec50cc95-161f-4fef-a810-ebd08626b294",
   "metadata": {},
   "outputs": [],
   "source": [
    "#4. What method takes a list argument and writes it to a CSV file?\n",
    "# Ans: To write a list of data to a CSV file using the csv module in Python, we can use the writerow() method."
   ]
  },
  {
   "cell_type": "code",
   "execution_count": 6,
   "id": "3812d40f-6697-473b-a6ac-e91532904a51",
   "metadata": {},
   "outputs": [],
   "source": [
    "#5. What do the keyword arguments delimiter and line terminator do?\n",
    "# Ans: The delimiter and line terminator are keyword arguments in the csv module in Python that can be used to specify\n",
    "#      the characters used to separate fields and rows in a CSV file."
   ]
  },
  {
   "cell_type": "code",
   "execution_count": 7,
   "id": "dfba9f07-dbb4-49cd-979b-86ef278bd2f7",
   "metadata": {},
   "outputs": [],
   "source": [
    "#6. What function takes a string of JSON data and returns a Python data structure?\n",
    "# Ans: json.loads()"
   ]
  },
  {
   "cell_type": "code",
   "execution_count": 8,
   "id": "386fc235-0e96-4547-9c39-b2ded2d642d8",
   "metadata": {},
   "outputs": [],
   "source": [
    "#7. What function takes a Python data structure and returns a string of JSON data?\n",
    "# Ans: json.dumps()"
   ]
  },
  {
   "cell_type": "code",
   "execution_count": null,
   "id": "9bf501ae-8a6b-43d2-8271-c3d7adfd6e5c",
   "metadata": {},
   "outputs": [],
   "source": []
  }
 ],
 "metadata": {
  "kernelspec": {
   "display_name": "Python 3 (ipykernel)",
   "language": "python",
   "name": "python3"
  },
  "language_info": {
   "codemirror_mode": {
    "name": "ipython",
    "version": 3
   },
   "file_extension": ".py",
   "mimetype": "text/x-python",
   "name": "python",
   "nbconvert_exporter": "python",
   "pygments_lexer": "ipython3",
   "version": "3.10.6"
  }
 },
 "nbformat": 4,
 "nbformat_minor": 5
}
