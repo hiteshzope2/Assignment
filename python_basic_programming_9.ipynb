{
 "cells": [
  {
   "cell_type": "code",
   "execution_count": 40,
   "id": "b466b244-a0c9-4a56-9c2c-5857652d52b7",
   "metadata": {},
   "outputs": [
    {
     "name": "stdin",
     "output_type": "stream",
     "text": [
      "Enter the number:  175\n"
     ]
    },
    {
     "name": "stdout",
     "output_type": "stream",
     "text": [
      "175 is a Disarium Number\n"
     ]
    }
   ],
   "source": [
    "# 1. Write a Python program to check if the given number is a Disarium Number?\n",
    "def disarium(num):\n",
    "    temp = 0\n",
    "    for i in range(len(str(num))):\n",
    "        temp += int(str(num)[i]) ** (i + 1)\n",
    "    return temp == num\n",
    "\n",
    "num=int(input(\"Enter the number: \"))\n",
    "if disarium(num):\n",
    "    print(num, \"is a Disarium Number\")\n",
    "else:\n",
    "    print(num, \"is not a Disarium Number\")\n",
    "\n",
    "    "
   ]
  },
  {
   "cell_type": "code",
   "execution_count": 17,
   "id": "a42342a7-bd13-4b97-990f-3f90291e96b0",
   "metadata": {},
   "outputs": [
    {
     "name": "stdout",
     "output_type": "stream",
     "text": [
      "1\n",
      "2\n",
      "3\n",
      "4\n",
      "5\n",
      "6\n",
      "7\n",
      "8\n",
      "9\n",
      "89\n"
     ]
    }
   ],
   "source": [
    "# 2. Write a Python program to print all disarium numbers between 1 to 100?\n",
    "\n",
    "def disarium(num):\n",
    "    temp = 0\n",
    "    for i in range(len(str(num))):\n",
    "        temp += int(str(num)[i]) ** (i + 1)\n",
    "    return temp == num\n",
    "for num in range(1, 101):\n",
    "    if disarium(num):\n",
    "        print(num)"
   ]
  },
  {
   "cell_type": "code",
   "execution_count": 39,
   "id": "61a24015-7859-4fc8-913d-bf4ee2d5d42f",
   "metadata": {},
   "outputs": [
    {
     "name": "stdin",
     "output_type": "stream",
     "text": [
      "Enter the number:  19\n"
     ]
    },
    {
     "name": "stdout",
     "output_type": "stream",
     "text": [
      "19 This is happy number\n"
     ]
    }
   ],
   "source": [
    "# 3. Write a Python program to check if the given number is Happy Number?\n",
    "\n",
    "def is_happy_number(number):\n",
    "    seen_numbers = set()\n",
    "    while number != 1:\n",
    "        digit_sum = 0\n",
    "        for digit in str(number):\n",
    "            digit_sum += int(digit)**2\n",
    "        if digit_sum in seen_numbers:\n",
    "            return False\n",
    "        seen_numbers.add(digit_sum)\n",
    "        number = digit_sum\n",
    "    return True\n",
    "num=int(input(\"Enter the number: \"))\n",
    "if is_happy_number(num):\n",
    "    print(num,\"This is happy number\")\n",
    "else:\n",
    "    print(num,\"This is not happy number\")\n"
   ]
  },
  {
   "cell_type": "code",
   "execution_count": 25,
   "id": "9cfa5097-3991-41e6-88b9-4979f0b3f497",
   "metadata": {},
   "outputs": [
    {
     "name": "stdout",
     "output_type": "stream",
     "text": [
      "1\n",
      "7\n",
      "10\n",
      "13\n",
      "19\n",
      "23\n",
      "28\n",
      "31\n",
      "32\n",
      "44\n",
      "49\n",
      "68\n",
      "70\n",
      "79\n",
      "82\n",
      "86\n",
      "91\n",
      "94\n",
      "97\n"
     ]
    }
   ],
   "source": [
    "# 4. Write a Python program to print all happy numbers between 1 and 100?\n",
    "def is_happy_number(number):\n",
    "    seen_numbers = set()\n",
    "    while number != 1:\n",
    "        digit_sum = 0\n",
    "        for digit in str(number):\n",
    "            digit_sum += int(digit)**2\n",
    "        if digit_sum in seen_numbers:\n",
    "            return False\n",
    "        seen_numbers.add(digit_sum)\n",
    "        number = digit_sum\n",
    "    return True\n",
    "for num in range(1,100):\n",
    "    if is_happy_number(num):\n",
    "        print(num)"
   ]
  },
  {
   "cell_type": "code",
   "execution_count": 35,
   "id": "66917508-ff45-4b44-a5e6-bebf5ca4b7ea",
   "metadata": {},
   "outputs": [
    {
     "name": "stdin",
     "output_type": "stream",
     "text": [
      "Enter the number:  17\n"
     ]
    },
    {
     "name": "stdout",
     "output_type": "stream",
     "text": [
      "17 is not a Harshad Number\n"
     ]
    }
   ],
   "source": [
    "# 5. Write a Python program to determine whether the given number is a Harshad Number?\n",
    "def is_harshad_number(number):\n",
    "    digit_sum = sum(int(digit) for digit in str(number))\n",
    "    return number % digit_sum == 0\n",
    "num = int(input(\"Enter the number: \"))\n",
    "if is_harshad_number(num):\n",
    "    print(f\"{num} is a Harshad Number\")\n",
    "else:\n",
    "    print(f\"{num} is not a Harshad Number\")"
   ]
  },
  {
   "cell_type": "code",
   "execution_count": 42,
   "id": "c9af6c94-7c9f-4b2d-b34c-ee1797efba8d",
   "metadata": {},
   "outputs": [
    {
     "name": "stdout",
     "output_type": "stream",
     "text": [
      "2\n",
      "6\n",
      "12\n",
      "20\n",
      "30\n",
      "42\n",
      "56\n",
      "72\n",
      "90\n"
     ]
    }
   ],
   "source": [
    "# 6. Write a Python program to print all pronic numbers between 1 and 100?\n",
    "def is_pronic_number(number):   \n",
    "    for factor in range(1, int(number**0.5)+1):    \n",
    "        if factor*(factor+1) == number:\n",
    "            return True\n",
    "    return False\n",
    "for num in range(1, 101):\n",
    "    if is_pronic_number(num):\n",
    "        print(num)"
   ]
  },
  {
   "cell_type": "code",
   "execution_count": null,
   "id": "87b16f75-dbd2-4c04-9f3b-818d57afdc65",
   "metadata": {},
   "outputs": [],
   "source": []
  }
 ],
 "metadata": {
  "kernelspec": {
   "display_name": "Python 3 (ipykernel)",
   "language": "python",
   "name": "python3"
  },
  "language_info": {
   "codemirror_mode": {
    "name": "ipython",
    "version": 3
   },
   "file_extension": ".py",
   "mimetype": "text/x-python",
   "name": "python",
   "nbconvert_exporter": "python",
   "pygments_lexer": "ipython3",
   "version": "3.10.6"
  }
 },
 "nbformat": 4,
 "nbformat_minor": 5
}
