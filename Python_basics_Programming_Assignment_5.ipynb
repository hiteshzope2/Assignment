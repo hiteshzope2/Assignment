{
  "cells": [
    {
      "cell_type": "markdown",
      "source": [
        "#1. Write a Python Program to Find LCM?"
      ],
      "metadata": {
        "id": "sxQnBw7KFKy7"
      }
    },
    {
      "cell_type": "code",
      "source": [
        "a=int(input(\"Enter the number: \"))\n",
        "b=int(input(\"Enter the number: \"))\n",
        "max=max(a,b)\n",
        "while(True):\n",
        "  if(max%a==0 and max%b==0):\n",
        "    break\n",
        "  max=max+1\n",
        "print(f\"The LCM of {a} and {b} is {max}\")\n"
      ],
      "metadata": {
        "colab": {
          "base_uri": "https://localhost:8080/"
        },
        "id": "YKfRHJcNFM48",
        "outputId": "ddb8f78d-24f5-4bdc-b67e-a4c208958454"
      },
      "execution_count": null,
      "outputs": [
        {
          "output_type": "stream",
          "name": "stdout",
          "text": [
            "Enter the number: 1\n",
            "Enter the number: 8\n",
            "The LCM of 1 and 8 is 8\n"
          ]
        }
      ]
    },
    {
      "cell_type": "markdown",
      "source": [
        "#2. Write a Python Program to Find HCF?"
      ],
      "metadata": {
        "id": "4J97OfcxORZH"
      }
    },
    {
      "cell_type": "code",
      "source": [
        "a=int(input(\"Enter the number: \"))\n",
        "b=int(input(\"Enter the number: \"))\n",
        "if b>a:\n",
        "  min=a\n",
        "else:\n",
        "  min=b\n",
        "for i in range(1,min+1):\n",
        "  if a%i==0 and b%i==0:\n",
        "    hcf=i\n",
        "print(f\"The Hcf of {a} and {b} is {min}\")\n"
      ],
      "metadata": {
        "colab": {
          "base_uri": "https://localhost:8080/"
        },
        "id": "P3Sl02P7KVIU",
        "outputId": "bded33aa-70f8-49aa-9213-06698dbddc19"
      },
      "execution_count": null,
      "outputs": [
        {
          "output_type": "stream",
          "name": "stdout",
          "text": [
            "Enter the number: 15\n",
            "Enter the number: 30\n",
            "The Hcf of 15 and 30 is 15\n"
          ]
        }
      ]
    },
    {
      "cell_type": "markdown",
      "source": [
        "#3. Write a Python Program to Convert Decimal to Binary, Octal and Hexadecimal?"
      ],
      "metadata": {
        "id": "gnm3M4AbS7cT"
      }
    },
    {
      "cell_type": "code",
      "source": [
        "Decimal=int(input(\"Enter any number: \"))\n",
        "print(bin(Decimal))\n",
        "print(oct(Decimal))\n",
        "print(hex(Decimal))"
      ],
      "metadata": {
        "colab": {
          "base_uri": "https://localhost:8080/"
        },
        "id": "LeSOCPUFO2Fv",
        "outputId": "ddbca9c0-41af-43ce-aadb-ed1e9a2ca3fa"
      },
      "execution_count": null,
      "outputs": [
        {
          "output_type": "stream",
          "name": "stdout",
          "text": [
            "Enter any number: 25\n",
            "0b11001\n",
            "0o31\n",
            "0x19\n"
          ]
        }
      ]
    },
    {
      "cell_type": "markdown",
      "source": [
        "#4. Write a Python Program To Find ASCII value of a character?"
      ],
      "metadata": {
        "id": "eR4d6UxRT7R8"
      }
    },
    {
      "cell_type": "code",
      "source": [
        "Number=input(\"Enter any character: \")\n",
        "print(ord(Number))"
      ],
      "metadata": {
        "colab": {
          "base_uri": "https://localhost:8080/"
        },
        "id": "vNPM4Vu2TqHx",
        "outputId": "0a4f735b-beb1-49db-d94f-50d9220c0e3b"
      },
      "execution_count": null,
      "outputs": [
        {
          "output_type": "stream",
          "name": "stdout",
          "text": [
            "Enter any character: z\n",
            "122\n"
          ]
        }
      ]
    },
    {
      "cell_type": "markdown",
      "source": [
        "#5. Write a Python Program to Make a Simple Calculator with 4 basic mathematical operations?"
      ],
      "metadata": {
        "id": "kYfe_JI6VEcN"
      }
    },
    {
      "cell_type": "code",
      "source": [
        "def add(num,num1):\n",
        "  return num+num1\n",
        "def substract(num,num1):\n",
        "  return num-num1\n",
        "def multiply(num,num1):\n",
        "  return num*num1\n",
        "def divide(num,num1):\n",
        "  return num/num1\n",
        "\n",
        "\n",
        "print(\"\"\"Press 1 for addition\n",
        "Press 2 for substraction\n",
        "Press 3 for multiplication\n",
        "Press 4 for divide\"\"\")\n",
        "range=input(\"Select from 1,2,3,4: \")\n",
        "\n",
        "Number= int(input(\"Enter first number: \"))\n",
        "Number1= int(input(\"Enter second number: \"))\n",
        "if range==\"1\":\n",
        "  print(Number,\"+\",Number1,\"=\",add(Number,Number1))\n",
        "elif range==\"2\":\n",
        "  print(Number,\"-\",Number1,\"=\",substract(Number,Number1))\n",
        "elif range==\"3\":\n",
        "  print(Number,\"*\",Number1,\"=\",multiply(Number,Number1))\n",
        "elif range==\"4\":\n",
        "  print(Number,\"/\",Number1,\"=\",divide(Number,Number1))\n",
        "else:\n",
        "  print(\"Invalid input\")"
      ],
      "metadata": {
        "id": "N_rx1c77Ufh4",
        "colab": {
          "base_uri": "https://localhost:8080/"
        },
        "outputId": "528c7b3a-5c6e-459c-da9e-9a2c38807cb4"
      },
      "execution_count": 23,
      "outputs": [
        {
          "output_type": "stream",
          "name": "stdout",
          "text": [
            "Press 1 for addition\n",
            "Press 2 for substraction\n",
            "Press 3 for multiplication\n",
            "Press 4 for divide\n",
            "Select from 1,2,3,4: 3\n",
            "Enter first number: 5\n",
            "Enter second number: 5\n",
            "5 * 5 = 25\n"
          ]
        }
      ]
    },
    {
      "cell_type": "code",
      "source": [],
      "metadata": {
        "id": "Loxq7KpGs3gV"
      },
      "execution_count": null,
      "outputs": []
    }
  ],
  "metadata": {
    "colab": {
      "provenance": []
    },
    "kernelspec": {
      "display_name": "Python 3",
      "name": "python3"
    },
    "language_info": {
      "name": "python"
    }
  },
  "nbformat": 4,
  "nbformat_minor": 0
}