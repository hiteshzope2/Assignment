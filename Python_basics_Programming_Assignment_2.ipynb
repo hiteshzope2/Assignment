{
  "cells": [
    {
      "cell_type": "markdown",
      "source": [
        "#1. Write a Python program to convert kilometers to miles?"
      ],
      "metadata": {
        "id": "xYEzap6dRszM"
      }
    },
    {
      "cell_type": "code",
      "source": [
        "kilometer = float(input(\"Enter kilometer: \"))\n",
        "value_of_conversion = 0.621371\n",
        "miles=kilometer*value_of_conversion\n",
        "print(f\"{kilometer} kilometer is equal to {miles} miles\")"
      ],
      "metadata": {
        "colab": {
          "base_uri": "https://localhost:8080/"
        },
        "id": "yLh2TExqRvSr",
        "outputId": "0d0b9a0a-98ae-45a0-b1b9-75659858d07f"
      },
      "execution_count": 51,
      "outputs": [
        {
          "output_type": "stream",
          "name": "stdout",
          "text": [
            "Enter kilometer: 50\n",
            "50.0 kilometer is equal to 31.068550000000002 miles\n"
          ]
        }
      ]
    },
    {
      "cell_type": "markdown",
      "source": [
        "#2. Write a Python program to convert Celsius to Fahrenheit?"
      ],
      "metadata": {
        "id": "gtvEu6BTRzF6"
      }
    },
    {
      "cell_type": "code",
      "source": [
        "celsius=float(input(\"Enter value: \"))\n",
        "fahrenheit=(celsius*1.8)+32\n",
        "print(f\"{celsius} Celsius is equal to {fahrenheit} Fahrenheit\")\n"
      ],
      "metadata": {
        "colab": {
          "base_uri": "https://localhost:8080/"
        },
        "id": "6uYMnJY-R1ON",
        "outputId": "c16d858e-6312-43fa-cc5a-944507ac3823"
      },
      "execution_count": 52,
      "outputs": [
        {
          "output_type": "stream",
          "name": "stdout",
          "text": [
            "Enter value: 50\n",
            "50.0 Celsius is equal to 122.0 Fahrenheit\n"
          ]
        }
      ]
    },
    {
      "cell_type": "markdown",
      "source": [
        "#3. Write a Python program to display calendar?"
      ],
      "metadata": {
        "id": "9zwLrswpR5Nl"
      }
    },
    {
      "cell_type": "code",
      "source": [
        "import calendar\n",
        "year=int(input(\"Enter year: \"))\n",
        "month=int(input(\"Enter month: \"))\n",
        "calendar=calendar.month(year,month)\n",
        "print(calendar)"
      ],
      "metadata": {
        "colab": {
          "base_uri": "https://localhost:8080/"
        },
        "id": "zFs0papfR7C2",
        "outputId": "9bb73dd3-6f32-4a2d-fbde-2f2dd8638c94"
      },
      "execution_count": 53,
      "outputs": [
        {
          "output_type": "stream",
          "name": "stdout",
          "text": [
            "Enter year: 2020\n",
            "Enter month: 3\n",
            "     March 2020\n",
            "Mo Tu We Th Fr Sa Su\n",
            "                   1\n",
            " 2  3  4  5  6  7  8\n",
            " 9 10 11 12 13 14 15\n",
            "16 17 18 19 20 21 22\n",
            "23 24 25 26 27 28 29\n",
            "30 31\n",
            "\n"
          ]
        }
      ]
    },
    {
      "cell_type": "markdown",
      "source": [
        "#4. Write a Python program to solve quadratic equation?"
      ],
      "metadata": {
        "id": "Jt1yO9A9SDNh"
      }
    },
    {
      "cell_type": "code",
      "source": [
        "import cmath\n",
        "\n",
        "a = float(input(\"Enter the number: \"))\n",
        "b = float(input(\"Enter the number: \"))\n",
        "c = float(input(\"Enter the number: \"))\n",
        "\n",
        "d = (b**2) - (4*a*c)\n",
        "sol1 = (-b-cmath.sqrt(d))/(2*a)\n",
        "sol2 = (-b+cmath.sqrt(d))/(2*a)\n",
        "print(f\"Solutions are {sol1} and {sol2}\")"
      ],
      "metadata": {
        "colab": {
          "base_uri": "https://localhost:8080/"
        },
        "id": "yrv2wVYUSELV",
        "outputId": "e8580bbf-8edb-4606-b27c-b6486c0bc9f5"
      },
      "execution_count": 54,
      "outputs": [
        {
          "output_type": "stream",
          "name": "stdout",
          "text": [
            "Enter the number: 1\n",
            "Enter the number: 2\n",
            "Enter the number: 3\n",
            "Solutions are (-1-1.4142135623730951j) and (-1+1.4142135623730951j)\n"
          ]
        }
      ]
    },
    {
      "cell_type": "markdown",
      "source": [
        "#5. Write a Python program to swap two variables without temp variable?"
      ],
      "metadata": {
        "id": "Yg3CazH5SKEy"
      }
    },
    {
      "cell_type": "code",
      "source": [
        "A=float(input(\"Enter the number:- \"))\n",
        "B=float(input(\"Enter the number:- \"))\n",
        "\n",
        "print(f'Before swaping A={A} and B={B}')\n",
        "A,B=B,A\n",
        "print(f'After swaping A={A} and B={B}')\n"
      ],
      "metadata": {
        "colab": {
          "base_uri": "https://localhost:8080/"
        },
        "id": "iTZG5SOYSMzJ",
        "outputId": "c741fdc7-96da-4221-b84d-2c4073c5e989"
      },
      "execution_count": 55,
      "outputs": [
        {
          "output_type": "stream",
          "name": "stdout",
          "text": [
            "Enter the number:- 5\n",
            "Enter the number:- 6\n",
            "Before swaping A=5.0 and B=6.0\n",
            "After swaping A=6.0 and B=5.0\n"
          ]
        }
      ]
    }
  ],
  "metadata": {
    "colab": {
      "provenance": [],
      "collapsed_sections": []
    },
    "kernelspec": {
      "display_name": "Python 3",
      "name": "python3"
    },
    "language_info": {
      "name": "python"
    }
  },
  "nbformat": 4,
  "nbformat_minor": 0
}