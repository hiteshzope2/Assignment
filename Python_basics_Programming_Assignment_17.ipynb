{
 "cells": [
  {
   "cell_type": "code",
   "execution_count": 1,
   "id": "436fd2b4-04b5-4ceb-aa57-3ed8aeabbea2",
   "metadata": {},
   "outputs": [
    {
     "name": "stdout",
     "output_type": "stream",
     "text": [
      "0\n",
      "30\n",
      "18\n"
     ]
    }
   ],
   "source": [
    "# Question1. Create a function that takes three arguments a, b, c and returns the sum of the\n",
    "# numbers that are evenly divided by c from the range a, b inclusive.\n",
    "# Examples\n",
    "# evenly_divisible(1, 10, 20) ➞ 0\n",
    "# # No number between 1 and 10 can be evenly divided by 20.\n",
    "# evenly_divisible(1, 10, 2) ➞ 30\n",
    "# # 2 + 4 + 6 + 8 + 10 = 30\n",
    "# evenly_divisible(1, 10, 3) ➞ 18\n",
    "# # 3 + 6 + 9 = 18\n",
    "\n",
    "# Ans:\n",
    "def evenly_divisible(a, b, c):\n",
    "    total = 0\n",
    "    for num in range(a, b + 1):\n",
    "        if num % c == 0:\n",
    "            total += num\n",
    "    return total\n",
    "print(evenly_divisible(1, 10, 20))  \n",
    "print(evenly_divisible(1, 10, 2))   \n",
    "print(evenly_divisible(1, 10, 3))   "
   ]
  },
  {
   "cell_type": "code",
   "execution_count": 2,
   "id": "f8589350-ee2e-49ea-98ba-5597523cf887",
   "metadata": {},
   "outputs": [
    {
     "name": "stdout",
     "output_type": "stream",
     "text": [
      "True\n",
      "False\n",
      "True\n"
     ]
    }
   ],
   "source": [
    "# Question2. Create a function that returns True if a given inequality expression is correct and\n",
    "# False otherwise.\n",
    "# Examples\n",
    "# Examples \n",
    "# correct_signs(\"3 > 7 < 11\") ➞ True \n",
    "# correct_signs(\"13 > 44 > 33 > 1\") ➞ False\n",
    "# correct_signs(\"1 < 2 < 6 < 9 > 3\") ➞ True\n",
    "\n",
    "# Ans:\n",
    "def correct_signs(expression):\n",
    "    return eval(expression)\n",
    "print(correct_signs(\"3 < 7 < 11\"))              \n",
    "print(correct_signs(\"13 > 44 > 33 > 1\"))        \n",
    "print(correct_signs(\"1 < 2 < 6 < 9 > 3\"))  "
   ]
  },
  {
   "cell_type": "code",
   "execution_count": 3,
   "id": "0cfa43e3-7ea8-46a0-b8a7-380917245685",
   "metadata": {},
   "outputs": [
    {
     "name": "stdout",
     "output_type": "stream",
     "text": [
      "th# ##rdv#rk\n",
      "m?nn?? m??s?\n",
      "sh*k*sp**r*\n"
     ]
    }
   ],
   "source": [
    "# Question3. Create a function that replaces all the vowels in a string with a specified character.\n",
    "\n",
    "# Examples\n",
    "# replace_vowels('the aardvark, '#') ➞ 'th# ##rdv#rk' \n",
    "# replace_vowels('minnie mouse', '?') ➞ 'm?nn?? m??s?' \n",
    "# replace_vowels('shakespeare', '*') ➞ 'sh*k*sp**r*'\n",
    "\n",
    "# Ans:\n",
    "def replace_vowels(string, character):\n",
    "    vowels = 'aeiouAEIOU'\n",
    "    replaced_string = ''\n",
    "    for char in string:\n",
    "        if char in vowels:\n",
    "            replaced_string += character\n",
    "        else:\n",
    "            replaced_string += char\n",
    "    return replaced_string\n",
    "print(replace_vowels('the aardvark', '#'))      \n",
    "print(replace_vowels('minnie mouse', '?'))      \n",
    "print(replace_vowels('shakespeare', '*'))   "
   ]
  },
  {
   "cell_type": "code",
   "execution_count": 4,
   "id": "706a8d2e-37ce-4538-a198-e84ee25603a6",
   "metadata": {},
   "outputs": [
    {
     "name": "stdout",
     "output_type": "stream",
     "text": [
      "120\n",
      "6\n",
      "1\n",
      "1\n"
     ]
    }
   ],
   "source": [
    "# Question4. Write a function that calculates the factorial of a number recursively.\n",
    "# Examples\n",
    "# factorial(5) ➞ 120\n",
    "# factorial(3) ➞ 6\n",
    "# factorial(1) ➞ 1\n",
    "# factorial(0) ➞ 1\n",
    "\n",
    "# Ans:\n",
    "def factorial(n):\n",
    "    if n == 0 or n == 1:\n",
    "        return 1\n",
    "    else:\n",
    "        return n * factorial(n - 1)\n",
    "print(factorial(5)) \n",
    "print(factorial(3))  \n",
    "print(factorial(1))  \n",
    "print(factorial(0)) "
   ]
  },
  {
   "cell_type": "code",
   "execution_count": 5,
   "id": "d47b0ded-4451-4111-8576-d53f97264ee2",
   "metadata": {},
   "outputs": [
    {
     "name": "stdout",
     "output_type": "stream",
     "text": [
      "5\n",
      "0\n",
      "1\n"
     ]
    }
   ],
   "source": [
    "# Question 5\n",
    "# Hamming distance is the number of characters that differ between two strings.\n",
    "\n",
    "# To illustrate:\n",
    "# String1: 'abcbba' \n",
    "# String2: 'abcbda'\n",
    "# Hamming Distance: 1 - 'b' vs. 'd' is the only difference. \n",
    "# Create a function that computes the hamming distance between two strings. \n",
    "# Examples \n",
    "# hamming_distance('abcde', 'bcdef') ➞ 5 \n",
    "# hamming_distance('abcde', 'abcde') ➞ 0 \n",
    "# hamming_distance('strong', 'strung') ➞ 1\n",
    "\n",
    "# Ans:\n",
    "def hamming_distance(string1, string2):\n",
    "    distance = 0\n",
    "    for char1, char2 in zip(string1, string2):\n",
    "        if char1 != char2:\n",
    "            distance += 1\n",
    "    return distance\n",
    "print(hamming_distance('abcde', 'bcdef'))  \n",
    "print(hamming_distance('abcde', 'abcde'))  \n",
    "print(hamming_distance('strong', 'strung'))  "
   ]
  },
  {
   "cell_type": "code",
   "execution_count": null,
   "id": "3a8c2034-a432-4429-be04-e713f658320e",
   "metadata": {},
   "outputs": [],
   "source": []
  }
 ],
 "metadata": {
  "kernelspec": {
   "display_name": "Python 3 (ipykernel)",
   "language": "python",
   "name": "python3"
  },
  "language_info": {
   "codemirror_mode": {
    "name": "ipython",
    "version": 3
   },
   "file_extension": ".py",
   "mimetype": "text/x-python",
   "name": "python",
   "nbconvert_exporter": "python",
   "pygments_lexer": "ipython3",
   "version": "3.10.6"
  }
 },
 "nbformat": 4,
 "nbformat_minor": 5
}
