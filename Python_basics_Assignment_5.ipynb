{
 "cells": [
  {
   "cell_type": "code",
   "execution_count": null,
   "id": "b0f8698e-05e5-47f9-801e-d0fcbdc7cc6c",
   "metadata": {},
   "outputs": [],
   "source": [
    "#1. What does an empty dictionary's code look like?\n",
    "# Ans: An empty dictionary in Python can be written as {} or dict().\n",
    "    "
   ]
  },
  {
   "cell_type": "code",
   "execution_count": null,
   "id": "b13b47dc-f07b-4b1a-8769-70999d457518",
   "metadata": {},
   "outputs": [],
   "source": [
    "#2. What is the value of a dictionary value with the key 'foo' and the value 42?\n",
    "# Ans: A dictionary value with the key 'foo' and the value 42 can be written as: {'foo': 42}"
   ]
  },
  {
   "cell_type": "code",
   "execution_count": null,
   "id": "18ab74b6-9932-4c7c-912f-62ee65417ecc",
   "metadata": {},
   "outputs": [],
   "source": [
    "#3. What is the most significant distinction between a dictionary and a list?\n",
    "# Ans:The most significant distinction between a dictionary and a list in Python is that a list is an ordered collection of items accessed by index,\n",
    "      #while a dictionary is an unordered collection of key-value pairs, accessed by key."
   ]
  },
  {
   "cell_type": "code",
   "execution_count": null,
   "id": "12e936f0-8263-4ddb-b9c7-174f8cfa871b",
   "metadata": {},
   "outputs": [],
   "source": [
    "#4. What happens if you try to access spam['foo'] if spam is {'bar': 100}?\n",
    "# Ans:If you try to access spam['foo'] where spam = {'bar': 100}, it will raise a KeyError because the key 'foo' is not in the dictionary."
   ]
  },
  {
   "cell_type": "code",
   "execution_count": null,
   "id": "6248aa95-a4cc-46cc-9381-cb03aac5fb3e",
   "metadata": {},
   "outputs": [],
   "source": [
    "#5.If a dictionary is stored in spam, what is the difference between the expressions 'cat' in spam and 'cat' in spam.keys()?\n",
    "# Ans:The expression 'cat' in spam checks if the string 'cat' is one of the keys in the dictionary spam,\n",
    "      #while the expression 'cat' in spam.keys() checks if the string 'cat' is one of the keys in the list of keys returned by spam.keys()."
   ]
  },
  {
   "cell_type": "code",
   "execution_count": null,
   "id": "5681fe60-ce2a-40fc-b036-f55da04b7a44",
   "metadata": {},
   "outputs": [],
   "source": [
    "#6.If a dictionary is stored in spam, what is the difference between the expressions 'cat' in spam and 'cat' in spam.values()?\n",
    "# Ans:The difference between the expressions 'cat' in spam and 'cat' in spam.values() is that 'cat' in spam checks if the string 'cat' is a key in the dictionary spam, \n",
    "      #while 'cat' in spam.values() checks if the string 'cat' is one of the values in the dictionary spam."
   ]
  },
  {
   "cell_type": "code",
   "execution_count": 1,
   "id": "7778a73c-5aa9-4f12-956a-748b5fff6323",
   "metadata": {},
   "outputs": [],
   "source": [
    "#7.What is a shortcut for the following code?\n",
    "# if 'color' not in spam:\n",
    "# spam['color'] = 'black'\n",
    "# Ans:spam.setdefault('color', 'black')\n"
   ]
  },
  {
   "cell_type": "code",
   "execution_count": null,
   "id": "289da02c-6e55-4172-a9eb-182bc20a7005",
   "metadata": {},
   "outputs": [],
   "source": [
    "# 8. How do you 'pretty print' dictionary values using which module and function?\n",
    "# Ans:pprint.pprint()"
   ]
  }
 ],
 "metadata": {
  "kernelspec": {
   "display_name": "Python 3 (ipykernel)",
   "language": "python",
   "name": "python3"
  },
  "language_info": {
   "codemirror_mode": {
    "name": "ipython",
    "version": 3
   },
   "file_extension": ".py",
   "mimetype": "text/x-python",
   "name": "python",
   "nbconvert_exporter": "python",
   "pygments_lexer": "ipython3",
   "version": "3.10.6"
  }
 },
 "nbformat": 4,
 "nbformat_minor": 5
}
