{
 "cells": [
  {
   "cell_type": "code",
   "execution_count": 1,
   "id": "479a77d0-ba01-403b-a043-256e25c849d6",
   "metadata": {},
   "outputs": [
    {
     "name": "stdout",
     "output_type": "stream",
     "text": [
      "True\n",
      "False\n",
      "True\n",
      "False\n",
      "True\n"
     ]
    }
   ],
   "source": [
    "# Question 1\n",
    "# Create a function that takes a number as an argument and returns True or False depending\n",
    "# on whether the number is symmetrical or not. A number is symmetrical when it is the same as\n",
    "# its reverse.\n",
    "# Examples\n",
    "# is_symmetrical(7227) ➞ True\n",
    "# is_symmetrical(12567) ➞ False\n",
    "# is_symmetrical(44444444) ➞ True\n",
    "# is_symmetrical(9939) ➞ False\n",
    "# is_symmetrical(1112111) ➞ True\n",
    "\n",
    "# Ans:\n",
    "def is_symmetrical(number):\n",
    "    # Convert the number to a string\n",
    "    number_str = str(number)\n",
    "    \n",
    "    # Check if the string is equal to its reverse\n",
    "    return number_str == number_str[::-1]\n",
    "print(is_symmetrical(7227))  \n",
    "print(is_symmetrical(12567))  \n",
    "print(is_symmetrical(44444444))  \n",
    "print(is_symmetrical(9939))  \n",
    "print(is_symmetrical(1112111))  "
   ]
  },
  {
   "cell_type": "code",
   "execution_count": 2,
   "id": "2843c077-97bb-49f9-8f29-f0603b98a5ff",
   "metadata": {},
   "outputs": [
    {
     "name": "stdout",
     "output_type": "stream",
     "text": [
      "6\n",
      "24\n",
      "0\n",
      "-20\n"
     ]
    }
   ],
   "source": [
    "# Question 2\n",
    "# Given a string of numbers separated by a comma and space, return the product of the\n",
    "# numbers.\n",
    "# Examples\n",
    "# multiply_nums(\"2, 3\") ➞ 6\n",
    "# multiply_nums('1, 2, 3, 4') ➞ 24\n",
    "# multiply_nums('54, 75, 453, 0') ➞ 0\n",
    "# multiply_nums('10, -2') ➞ -20\n",
    "\n",
    "#Ans:\n",
    "def multiply_nums(numbers):\n",
    "    num_list = numbers.split(\", \")\n",
    "    product = 1\n",
    "    for num in num_list:\n",
    "        product *= int(num)\n",
    "    return product\n",
    "print(multiply_nums(\"2, 3\"))  \n",
    "print(multiply_nums('1, 2, 3, 4'))  \n",
    "print(multiply_nums('54, 75, 453, 0'))  \n",
    "print(multiply_nums('10, -2')) "
   ]
  },
  {
   "cell_type": "code",
   "execution_count": 3,
   "id": "bda652fc-44b5-498d-9ea0-04a79a5aa5e6",
   "metadata": {},
   "outputs": [
    {
     "name": "stdout",
     "output_type": "stream",
     "text": [
      "811181\n",
      "416649\n",
      "9414\n"
     ]
    }
   ],
   "source": [
    "# Question 3\n",
    "# Create a function that squares every digit of a number.\n",
    "# Examples\n",
    "# square_digits(9119) ➞ 811181\n",
    "# square_digits(2483) ➞ 416649\n",
    "# square_digits(3212) ➞ 9414\n",
    "# Notes\n",
    "# The function receives an integer and must return an integer.\n",
    "\n",
    "# Ans:\n",
    "def square_digits(number):\n",
    "    result = \"\"\n",
    "    for digit in str(number):\n",
    "        squared_digit = int(digit) ** 2\n",
    "        result += str(squared_digit)\n",
    "    return int(result)\n",
    "print(square_digits(9119))  \n",
    "print(square_digits(2483))  \n",
    "print(square_digits(3212))  "
   ]
  },
  {
   "cell_type": "code",
   "execution_count": 4,
   "id": "dc890042-53d2-4d60-be07-8253b6721877",
   "metadata": {},
   "outputs": [
    {
     "name": "stdout",
     "output_type": "stream",
     "text": [
      "[1, 3, 5]\n",
      "[4]\n",
      "[5, 7, 8, 9, 10, 15]\n",
      "[1, 2, 3]\n"
     ]
    }
   ],
   "source": [
    "# Question 4\n",
    "# Create a function that sorts a list and removes all duplicate items from it.\n",
    "# Examples\n",
    "# setify([1, 3, 3, 5, 5]) ➞ [1, 3, 5]\n",
    "# setify([4, 4, 4, 4]) ➞ [4]\n",
    "# setify([5, 7, 8, 9, 10, 15]) ➞ [5, 7, 8, 9, 10, 15]\n",
    "# setify([3, 3, 3, 2, 1]) ➞ [1, 2, 3]\n",
    "\n",
    "#Ans:\n",
    "def setify(lst):\n",
    "    return sorted(list(set(lst)))\n",
    "print(setify([1, 3, 3, 5, 5]))  \n",
    "print(setify([4, 4, 4, 4]))  \n",
    "print(setify([5, 7, 8, 9, 10, 15]))  \n",
    "print(setify([3, 3, 3, 2, 1])) "
   ]
  },
  {
   "cell_type": "code",
   "execution_count": 5,
   "id": "c2b84276-d42c-479d-a2ce-c43364a83158",
   "metadata": {},
   "outputs": [
    {
     "name": "stdout",
     "output_type": "stream",
     "text": [
      "3\n",
      "3\n",
      "6\n"
     ]
    }
   ],
   "source": [
    "# Question 5\n",
    "# Create a function that returns the mean of all digits.\n",
    "# Examples\n",
    "# mean(42) ➞ 3\n",
    "# mean(12345) ➞ 3\n",
    "# mean(666) ➞ 6\n",
    "# Notes\n",
    "#  The mean of all digits is the sum of digits / how many digits there are (e.g. mean of digits in\n",
    "# 512 is (5+1+2)/3(number of digits) = 8/3=2).\n",
    "#  The mean will always be an integer.\n",
    "\n",
    "# Ans:\n",
    "def mean(number):\n",
    "    digits = str(number)\n",
    "    digit_sum = 0\n",
    "    for digit in digits:\n",
    "        digit_sum += int(digit)\n",
    "    return digit_sum // len(digits)\n",
    "print(mean(42))  \n",
    "print(mean(12345))  \n",
    "print(mean(666))  "
   ]
  },
  {
   "cell_type": "code",
   "execution_count": null,
   "id": "fb342acf-6fac-4898-8bfb-b172b28e597c",
   "metadata": {},
   "outputs": [],
   "source": []
  }
 ],
 "metadata": {
  "kernelspec": {
   "display_name": "Python 3 (ipykernel)",
   "language": "python",
   "name": "python3"
  },
  "language_info": {
   "codemirror_mode": {
    "name": "ipython",
    "version": 3
   },
   "file_extension": ".py",
   "mimetype": "text/x-python",
   "name": "python",
   "nbconvert_exporter": "python",
   "pygments_lexer": "ipython3",
   "version": "3.10.6"
  }
 },
 "nbformat": 4,
 "nbformat_minor": 5
}
