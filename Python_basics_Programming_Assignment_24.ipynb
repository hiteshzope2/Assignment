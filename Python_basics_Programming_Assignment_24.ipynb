{
 "cells": [
  {
   "cell_type": "code",
   "execution_count": 1,
   "id": "57cc8c94-9a30-4bb9-94a1-c41103601467",
   "metadata": {},
   "outputs": [
    {
     "name": "stdout",
     "output_type": "stream",
     "text": [
      "[1, 2, 3, 40]\n",
      "[1, 2, 3]\n",
      "[1, 2, 3, 40, 5, 6, 7, 80, 9, 10, 11, 120, 13, 14, 15, 160, 17, 18, 19, 200, 21, 22, 23, 240, 25]\n"
     ]
    }
   ],
   "source": [
    "# Question1\n",
    "# Create a function that takes an integer and returns a list from 1 to the given number, where:\n",
    "# 1. If the number can be divided evenly by 4, amplify it by 10 (i.e. return 10 times the\n",
    "# number).\n",
    "# 2. If the number cannot be divided evenly by 4, simply return the number.\n",
    "# Examples\n",
    "# amplify(4) ➞ [1, 2, 3, 40]\n",
    "# amplify(3) ➞ [1, 2, 3]\n",
    "# amplify(25) ➞ [1, 2, 3, 40, 5, 6, 7, 80, 9, 10, 11, 120, 13, 14, 15, 160,\n",
    "# 17, 18, 19, 200, 21, 22, 23, 240, 25]\n",
    "# Notes\n",
    "#  The given integer will always be equal to or greater than 1.\n",
    "#  Include the number (see example above).\n",
    "#  To perform this problem with its intended purpose, try doing it with list\n",
    "# comprehensions. If that's too difficult, just solve the challenge any way you can.\n",
    "\n",
    "# Ans:\n",
    "def amplify(num):\n",
    "    return [x * 10 if x % 4 == 0 else x for x in range(1, num + 1)]\n",
    "print(amplify(4))  \n",
    "print(amplify(3))  \n",
    "print(amplify(25))"
   ]
  },
  {
   "cell_type": "code",
   "execution_count": 2,
   "id": "25a0ed10-b38e-4302-aa76-eba0b1a9e202",
   "metadata": {},
   "outputs": [
    {
     "name": "stdout",
     "output_type": "stream",
     "text": [
      "3\n",
      "0\n",
      "0\n"
     ]
    }
   ],
   "source": [
    "# Question2\n",
    "# Create a function that takes a list of numbers and return the number that's unique.\n",
    "# Examples\n",
    "# unique([3, 3, 3, 7, 3, 3]) ➞ 7\n",
    "# unique([0, 0, 0.77, 0, 0]) ➞ 0.77\n",
    "# unique([0, 1, 1, 1, 1, 1, 1, 1]) ➞ 0\n",
    "# Notes\n",
    "# Test cases will always have exactly one unique number while all others are the same.\n",
    "\n",
    "# Ans:\n",
    "def unique(numbers):\n",
    "    unique_set = set(numbers)\n",
    "    unique_list = list(unique_set)\n",
    "    return unique_list[0]\n",
    "print(unique([3, 3, 3, 7, 3, 3]))  \n",
    "print(unique([0, 0, 0.77, 0, 0]))  \n",
    "print(unique([0, 1, 1, 1, 1, 1, 1, 1])) "
   ]
  },
  {
   "cell_type": "code",
   "execution_count": 3,
   "id": "79348631-39d6-48b5-b818-104678eb1ed5",
   "metadata": {},
   "outputs": [
    {
     "name": "stdout",
     "output_type": "stream",
     "text": [
      "380\n",
      "28\n"
     ]
    }
   ],
   "source": [
    "# Question3\n",
    "# Your task is to create a Circle constructor that creates a circle with a radius provided by an\n",
    "# argument. The circles constructed must have two getters getArea() (PIr^2) and\n",
    "# getPerimeter() (2PI*r) which give both respective areas and perimeter (circumference).\n",
    "\n",
    "# For help with this class, I have provided you with a Rectangle constructor which you can use\n",
    "# as a base example.\n",
    "# Examples\n",
    "# circy = Circle(11)\n",
    "# circy.getArea()\n",
    "# # Should return 380.132711084365\n",
    "# circy = Circle(4.44)\n",
    "# circy.getPerimeter()\n",
    "# # Should return 27.897342763877365\n",
    "# Notes\n",
    "# Round results up to the nearest integer.\n",
    "\n",
    "# Ans:\n",
    "import math\n",
    "\n",
    "class Circle:\n",
    "    def __init__(self, radius):\n",
    "        self.radius = radius\n",
    "    \n",
    "    def getArea(self):\n",
    "        area = math.pi * (self.radius ** 2)\n",
    "        return round(area)\n",
    "    \n",
    "    def getPerimeter(self):\n",
    "        perimeter = 2 * math.pi * self.radius\n",
    "        return round(perimeter)\n",
    "circy = Circle(11)\n",
    "print(circy.getArea()) \n",
    "circy = Circle(4.44)\n",
    "print(circy.getPerimeter())  "
   ]
  },
  {
   "cell_type": "code",
   "execution_count": 4,
   "id": "460b676f-af12-4442-b489-d03457560892",
   "metadata": {},
   "outputs": [
    {
     "name": "stdout",
     "output_type": "stream",
     "text": [
      "['Apple', 'Google', 'Microsoft']\n",
      "['Raphael', 'Leonardo', 'Donatello', 'Michelangelo']\n",
      "['Jung', 'Turing', 'Einstein']\n"
     ]
    }
   ],
   "source": [
    "# Question 4\n",
    "# Create a function that takes a list of strings and return a list, sorted from shortest to longest.\n",
    "# Examples \n",
    "# sort_by_length(['Google', 'Apple', 'Microsoft']) ➞ ['Apple', 'Google', 'Microsoft'] \n",
    "# sort_by_length(['Leonardo', 'Michelangelo', 'Raphael', 'Donatello']) ➞ ['Raphael', 'Leonardo', 'Donatello', 'Michelangelo'] \n",
    "# sort_by_length(['Turing', 'Einstein', 'Jung']) ➞ ['Jung', 'Turing', 'Einstein'] \n",
    "# Notes\n",
    "# All test cases contain lists with strings of different lengths, so you won't have to deal with \n",
    "# multiple strings of the same length.\n",
    "\n",
    "# Ans:\n",
    "def sort_by_length(lst):\n",
    "    return sorted(lst, key=len)\n",
    "print(sort_by_length(['Google', 'Apple', 'Microsoft']))  \n",
    "print(sort_by_length(['Leonardo', 'Michelangelo', 'Raphael', 'Donatello'])) \n",
    "print(sort_by_length(['Turing', 'Einstein', 'Jung']))  "
   ]
  },
  {
   "cell_type": "code",
   "execution_count": 5,
   "id": "3d097d6b-2849-4f57-8f53-3d636b36e48f",
   "metadata": {},
   "outputs": [
    {
     "name": "stdout",
     "output_type": "stream",
     "text": [
      "True\n",
      "True\n",
      "False\n"
     ]
    }
   ],
   "source": [
    "# Question5\n",
    "# Create a function that validates whether three given integers form a Pythagorean triplet. The\n",
    "# sum of the squares of the two smallest integers must equal the square of the largest number to\n",
    "# be validated.\n",
    "\n",
    "# Examples\n",
    "# is_triplet(3, 4, 5) ➞ True\n",
    "# # 3² + 4² = 25\n",
    "# # 5² = 25\n",
    "# is_triplet(13, 5, 12) ➞ True\n",
    "# # 5² + 12² = 169\n",
    "# # 13² = 169\n",
    "# is_triplet(1, 2, 3) ➞ False\n",
    "# # 1² + 2² = 5\n",
    "# # 3² = 9\n",
    "# Notes\n",
    "# Numbers may not be given in a sorted order.\n",
    "\n",
    "# Ans:\n",
    "def is_triplet(a, b, c):\n",
    "    # Find the squares of the numbers\n",
    "    squares = [a ** 2, b ** 2, c ** 2]\n",
    "    largest = max(squares)\n",
    "    smallest_sum = sum(squares) - largest\n",
    "    return smallest_sum == largest\n",
    "print(is_triplet(3, 4, 5))  \n",
    "print(is_triplet(13, 5, 12))  \n",
    "print(is_triplet(1, 2, 3))  "
   ]
  },
  {
   "cell_type": "code",
   "execution_count": null,
   "id": "22d380d5-04a0-4d08-931a-5795c3ccd297",
   "metadata": {},
   "outputs": [],
   "source": []
  }
 ],
 "metadata": {
  "kernelspec": {
   "display_name": "Python 3 (ipykernel)",
   "language": "python",
   "name": "python3"
  },
  "language_info": {
   "codemirror_mode": {
    "name": "ipython",
    "version": 3
   },
   "file_extension": ".py",
   "mimetype": "text/x-python",
   "name": "python",
   "nbconvert_exporter": "python",
   "pygments_lexer": "ipython3",
   "version": "3.10.6"
  }
 },
 "nbformat": 4,
 "nbformat_minor": 5
}
