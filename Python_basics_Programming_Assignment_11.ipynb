{
 "cells": [
  {
   "cell_type": "code",
   "execution_count": 2,
   "id": "ea43a880-97fa-40ed-803e-5739fd37f3c5",
   "metadata": {},
   "outputs": [
    {
     "name": "stdout",
     "output_type": "stream",
     "text": [
      "['Hello,', 'hitesh']\n"
     ]
    }
   ],
   "source": [
    "#1. Write a Python program to find words which are greater than given length k?\n",
    "# Ans:\n",
    "sentence = \"Hello, my name is hitesh\"\n",
    "k = 4\n",
    "print([i for i in sentence.split() if len(i) > k])"
   ]
  },
  {
   "cell_type": "code",
   "execution_count": 2,
   "id": "9457ad10-70fd-43a9-ab64-3a5637beae47",
   "metadata": {},
   "outputs": [
    {
     "name": "stdout",
     "output_type": "stream",
     "text": [
      "I_am_oing_to_it\n"
     ]
    }
   ],
   "source": [
    "#2. Write a Python program for removing i-th character from a string?\n",
    "# Ans:\n",
    "def remove(string, i):\n",
    "    a = string[: i]\n",
    "    b = string[i + 1:]\n",
    "    return a + b\n",
    "\n",
    "string = \"I_am_going_to_it\"\n",
    "i = 5\n",
    "  \n",
    "    \n",
    "print(remove(string, i))"
   ]
  },
  {
   "cell_type": "code",
   "execution_count": 3,
   "id": "56bcc63d-7fef-474d-8e45-212261b84958",
   "metadata": {},
   "outputs": [
    {
     "name": "stdout",
     "output_type": "stream",
     "text": [
      "Spliting a string :  ['I', 'love', 'coding']\n",
      "Joining a string :  I-love-coding\n"
     ]
    }
   ],
   "source": [
    "#3. Write a Python program to split and join a string?\n",
    "# Ans:\n",
    "str = \"I love coding\"\n",
    "str = str.split(\" \") \n",
    "print(\"Spliting a string : \",str)\n",
    "\n",
    "str2 = \"-\".join(str)\n",
    "print(\"Joining a string : \",str2)"
   ]
  },
  {
   "cell_type": "code",
   "execution_count": 5,
   "id": "11d622fc-e9e2-47aa-9ff5-fb29457871c3",
   "metadata": {},
   "outputs": [
    {
     "name": "stdout",
     "output_type": "stream",
     "text": [
      "The given string is a binary string.\n"
     ]
    }
   ],
   "source": [
    "#4. Write a Python to check if a given string is binary string or not?\n",
    "# Ans:\n",
    "def is_binary_string(string):\n",
    "    for char in string:\n",
    "        if char != '0' and char != '1':\n",
    "            return False\n",
    "    return True\n",
    "input_string = \"101010\"\n",
    "result = is_binary_string(input_string)\n",
    "if result:\n",
    "    print(\"The given string is a binary string.\")\n",
    "else:\n",
    "    print(\"The given string is not a binary string.\")"
   ]
  },
  {
   "cell_type": "code",
   "execution_count": 6,
   "id": "154d7a66-fc02-4fc6-b622-21956990b05b",
   "metadata": {},
   "outputs": [
    {
     "name": "stdout",
     "output_type": "stream",
     "text": [
      "Uncommon words: ['Hello', 'world!', 'are', 'I', 'am', 'fine.', 'about']\n"
     ]
    }
   ],
   "source": [
    "#5. Write a Python program to find uncommon words from two Strings?\n",
    "# Ans:\n",
    "def find_uncommon_words(string1, string2):\n",
    "    words1 = string1.split()\n",
    "    words2 = string2.split()\n",
    "\n",
    "    uncommon_words = []\n",
    "\n",
    "    for word in words1:\n",
    "        if word not in words2:\n",
    "            uncommon_words.append(word)\n",
    "            \n",
    "    for word in words2:\n",
    "        if word not in words1:\n",
    "            uncommon_words.append(word)\n",
    "\n",
    "    return uncommon_words\n",
    "\n",
    "string1 = \"Hello world! How are you?\"\n",
    "string2 = \"I am fine. How about you?\"\n",
    "\n",
    "uncommon_words = find_uncommon_words(string1, string2)\n",
    "print(f\"Uncommon words: {uncommon_words}\")"
   ]
  },
  {
   "cell_type": "code",
   "execution_count": 7,
   "id": "643ea41f-957e-4c6b-b01e-db082b389e50",
   "metadata": {},
   "outputs": [
    {
     "name": "stdin",
     "output_type": "stream",
     "text": [
      "Enter the string a :  hey how are you doing\n"
     ]
    },
    {
     "data": {
      "text/plain": [
       "['h', 'e', 'y', ' ', 'o']"
      ]
     },
     "execution_count": 7,
     "metadata": {},
     "output_type": "execute_result"
    }
   ],
   "source": [
    "#6. Write a Python to find all duplicate characters in string?\n",
    "# Ans:\n",
    "\n",
    "str = input(\"Enter the string a : \").lower()\n",
    "duplicate = []\n",
    "\n",
    "for i in str:\n",
    "    if str.count(i) > 1 :\n",
    "        if i not in duplicate:\n",
    "            duplicate.append(i)\n",
    "        \n",
    "duplicate"
   ]
  },
  {
   "cell_type": "code",
   "execution_count": 8,
   "id": "7df61731-d4e8-416e-8fc8-e3b84a02cb8e",
   "metadata": {},
   "outputs": [
    {
     "name": "stdout",
     "output_type": "stream",
     "text": [
      "The string contains special characters.\n"
     ]
    }
   ],
   "source": [
    "#7. Write a Python Program to check if a string contains any special character?\n",
    "# Ans:\n",
    "import re\n",
    "\n",
    "def contains_special_character(string):\n",
    "    pattern = r'[!@#$%^&*(),.?\":{}|<>]'\n",
    "    match = re.search(pattern, string)\n",
    "    return match is not None\n",
    "\n",
    "input_string = \"Hello, World!\"\n",
    "result = contains_special_character(input_string)\n",
    "\n",
    "if result:\n",
    "    print(\"The string contains special characters.\")\n",
    "else:\n",
    "    print(\"The string does not contain special characters.\")"
   ]
  },
  {
   "cell_type": "code",
   "execution_count": null,
   "id": "b07b0725-d853-4727-97fb-4cc364504bd8",
   "metadata": {},
   "outputs": [],
   "source": []
  }
 ],
 "metadata": {
  "kernelspec": {
   "display_name": "Python 3 (ipykernel)",
   "language": "python",
   "name": "python3"
  },
  "language_info": {
   "codemirror_mode": {
    "name": "ipython",
    "version": 3
   },
   "file_extension": ".py",
   "mimetype": "text/x-python",
   "name": "python",
   "nbconvert_exporter": "python",
   "pygments_lexer": "ipython3",
   "version": "3.10.6"
  }
 },
 "nbformat": 4,
 "nbformat_minor": 5
}
