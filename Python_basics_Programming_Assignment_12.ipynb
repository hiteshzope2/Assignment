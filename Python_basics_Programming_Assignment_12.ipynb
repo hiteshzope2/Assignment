{
 "cells": [
  {
   "cell_type": "code",
   "execution_count": 1,
   "id": "616ee1a8-d183-4cd2-82d4-7d0f994015cb",
   "metadata": {},
   "outputs": [
    {
     "name": "stdout",
     "output_type": "stream",
     "text": [
      "Unique values: {'Hello', 40, 10, 50, 20, 60, 30}\n"
     ]
    }
   ],
   "source": [
    "#1. Write a Python program to Extract Unique values dictionary values?\n",
    "# Ans:\n",
    "def extract_unique_values(dictionary):\n",
    "    unique_values = set()\n",
    "\n",
    "    for values in dictionary.values():\n",
    "        if isinstance(values, list) or isinstance(values, tuple):\n",
    "            unique_values.update(values)\n",
    "        else:\n",
    "            unique_values.add(values)\n",
    "\n",
    "    return unique_values\n",
    "dictionary = {\n",
    "    'key1': 10,\n",
    "    'key2': [20, 30, 40],\n",
    "    'key3': 'Hello',\n",
    "    'key4': (50, 60),\n",
    "    'key5': [20, 30]\n",
    "}\n",
    "\n",
    "unique_values = extract_unique_values(dictionary)\n",
    "print(f\"Unique values: {unique_values}\")"
   ]
  },
  {
   "cell_type": "code",
   "execution_count": 2,
   "id": "7c22c8ae-c552-4dff-9b3d-2bc84ed392f7",
   "metadata": {},
   "outputs": [
    {
     "name": "stdout",
     "output_type": "stream",
     "text": [
      "420\n"
     ]
    }
   ],
   "source": [
    "#2. Write a Python program to find the sum of all items in a dictionary?\n",
    "# Ans:\n",
    "\n",
    "dict2 = {'a' : 22,\n",
    "             'b' :  21,\n",
    "             'c' : 52,\n",
    "             'd' : 56}\n",
    "\n",
    "sum = 0\n",
    "for i in dict2.values():\n",
    "    sum +=sum + i\n",
    "    \n",
    "print(sum)"
   ]
  },
  {
   "cell_type": "code",
   "execution_count": 3,
   "id": "fea60e0b-38dd-4c1d-9d9b-81599b5194aa",
   "metadata": {},
   "outputs": [
    {
     "name": "stdout",
     "output_type": "stream",
     "text": [
      "dict a :  {'x': 2, 'y': 3}\n",
      "Dict b :  {'y': 5, 'z': 6}\n",
      "{'x': 2, 'y': 5, 'z': 6}\n"
     ]
    }
   ],
   "source": [
    "#3. Write a Python program to Merging two Dictionaries?\n",
    "# Ans:\n",
    "one = { 'x': 2, 'y': 3}\n",
    "two = { 'y': 5, 'z': 6}\n",
    "both = one.copy()\n",
    "both.update(two)\n",
    "print(\"dict a : \", one)\n",
    "print(\"Dict b : \", two)\n",
    "print(both)"
   ]
  },
  {
   "cell_type": "code",
   "execution_count": 4,
   "id": "b4f1a3b3-3677-4a01-a2de-bb7dc9359390",
   "metadata": {},
   "outputs": [
    {
     "name": "stdout",
     "output_type": "stream",
     "text": [
      "Flat dictionary: {'a': 1, 'b': 2, 'c': 3, 'd': 4}\n"
     ]
    }
   ],
   "source": [
    "#4. Write a Python program to convert key-values list to flat dictionary?\n",
    "# Ans:\n",
    "def convert_to_flat_dictionary(key_value_list):\n",
    "    flat_dictionary = {}\n",
    "    for key, value in key_value_list:\n",
    "        flat_dictionary[key] = value\n",
    "    return flat_dictionary\n",
    "input_list = [('a', 1), ('b', 2), ('c', 3), ('d', 4)]\n",
    "\n",
    "flat_dict = convert_to_flat_dictionary(input_list)\n",
    "print(f\"Flat dictionary: {flat_dict}\")"
   ]
  },
  {
   "cell_type": "code",
   "execution_count": 6,
   "id": "1b85d30c-1194-4d8f-a263-edf9337b06ee",
   "metadata": {},
   "outputs": [
    {
     "name": "stdout",
     "output_type": "stream",
     "text": [
      "OrderedDict([('x', 10), ('a', 1), ('b', 2), ('c', 3)])\n"
     ]
    }
   ],
   "source": [
    "#5. Write a Python program to insertion at the beginning in OrderedDict?\n",
    "# Ans:\n",
    "from collections import OrderedDict\n",
    "\n",
    "def insert_at_beginning(ordered_dict, key, value):\n",
    "    ordered_dict[key] = value\n",
    "    ordered_dict.move_to_end(key, last=False)\n",
    "\n",
    "ordered_dict = OrderedDict([('a', 1), ('b', 2), ('c', 3)])\n",
    "insert_at_beginning(ordered_dict, 'x', 10)\n",
    "\n",
    "print(ordered_dict)"
   ]
  },
  {
   "cell_type": "code",
   "execution_count": 7,
   "id": "3ae790c8-ee87-43e1-b9d6-ff8e2bc3c469",
   "metadata": {},
   "outputs": [
    {
     "name": "stdout",
     "output_type": "stream",
     "text": [
      "The order of characters in the string matches the pattern.\n"
     ]
    }
   ],
   "source": [
    "#6. Write a Python program to check order of character in string using OrderedDict()?\n",
    "# Ans:\n",
    "from collections import OrderedDict\n",
    "\n",
    "def check_order_of_characters(string, pattern):\n",
    "    ordered_dict = OrderedDict.fromkeys(string)\n",
    "\n",
    "    pattern_length = 0\n",
    "    for key in ordered_dict:\n",
    "        if key == pattern[pattern_length]:\n",
    "            pattern_length += 1\n",
    "\n",
    "        if pattern_length == len(pattern):\n",
    "            return True\n",
    "\n",
    "    return False\n",
    "\n",
    "input_string = \"Hello, World!\"\n",
    "input_pattern = \"loW\"\n",
    "\n",
    "result = check_order_of_characters(input_string, input_pattern)\n",
    "\n",
    "if result:\n",
    "    print(\"The order of characters in the string matches the pattern.\")\n",
    "else:\n",
    "    print(\"The order of characters in the string does not match the pattern.\")"
   ]
  },
  {
   "cell_type": "code",
   "execution_count": 10,
   "id": "a8aa6c0b-7f3f-4382-99da-0f7463bc66e3",
   "metadata": {},
   "outputs": [
    {
     "name": "stdout",
     "output_type": "stream",
     "text": [
      "[4, 6, 7, 9]\n",
      "[2, 5, 8, 9]\n"
     ]
    }
   ],
   "source": [
    "#7. Write a Python program to sort Python Dictionaries by Key or Value?\n",
    "# Ans:\n",
    "dict= {4:5 ,7:8 ,4:3 ,6:9 ,9:5 ,4:2 }\n",
    "print(sorted(dict.keys()))\n",
    "print(sorted(dict.values()))"
   ]
  },
  {
   "cell_type": "code",
   "execution_count": null,
   "id": "c2638103-7098-4d4f-81c1-db5645b16524",
   "metadata": {},
   "outputs": [],
   "source": []
  }
 ],
 "metadata": {
  "kernelspec": {
   "display_name": "Python 3 (ipykernel)",
   "language": "python",
   "name": "python3"
  },
  "language_info": {
   "codemirror_mode": {
    "name": "ipython",
    "version": 3
   },
   "file_extension": ".py",
   "mimetype": "text/x-python",
   "name": "python",
   "nbconvert_exporter": "python",
   "pygments_lexer": "ipython3",
   "version": "3.10.6"
  }
 },
 "nbformat": 4,
 "nbformat_minor": 5
}
