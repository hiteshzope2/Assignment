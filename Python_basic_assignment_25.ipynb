{
 "cells": [
  {
   "cell_type": "code",
   "execution_count": 3,
   "id": "a4c9a128-a792-4fd6-9ae6-b35a2b7607f1",
   "metadata": {},
   "outputs": [
    {
     "name": "stdout",
     "output_type": "stream",
     "text": [
      "[0, 1, 4, 9, 16]\n",
      "<generator object <genexpr> at 0x7f9d58e304a0>\n"
     ]
    }
   ],
   "source": [
    "#1.What is the difference between enclosing a list comprehension in square brackets and parentheses?\n",
    "# Ans:\n",
    "# Enclosing a list comprehension in square brackets ([]) produces a list, while enclosing it in parentheses (()) produces a generator object.\n",
    "# The difference lies in how the elements are computed and stored.\n",
    "squares = [x ** 2 for x in range(5)]\n",
    "print(squares)\n",
    "squares = (x ** 2 for x in range(5))\n",
    "print(squares)\n",
    "# To access the elements from a generator, you can use a loop:"
   ]
  },
  {
   "cell_type": "code",
   "execution_count": 4,
   "id": "9a261ccc-c365-42a5-b00c-6d9120905842",
   "metadata": {},
   "outputs": [],
   "source": [
    "#2.What is the relationship between generators and iterators?\n",
    "# Ans:\n",
    "#Iterators:\n",
    "# An iterator is an object that implements the iterator protocol, which consists of the __iter__() and __next__() methods.\n",
    "# The __iter__() method returns the iterator object itself.\n",
    "# The __next__() method returns the next item from the iterator. If there are no more items, it raises the StopIteration exception.\n",
    "\n",
    "#Generators:\n",
    "# Generators are a type of iterator, but with a more concise and convenient syntax.\n",
    "# They are defined using generator functions or generator expressions.\n",
    "# Generator functions are defined like regular functions but use the yield keyword instead of return to return values one at a time."
   ]
  },
  {
   "cell_type": "code",
   "execution_count": 5,
   "id": "edec60a1-f111-47cf-93e7-caff41ddedb5",
   "metadata": {},
   "outputs": [],
   "source": [
    "#3) What are the signs that a function is a generator function?\n",
    "# Ans:\n",
    "# Generator functions use the yield keyword instead of return to return values.\n",
    "# When the yield statement is encountered, it temporarily suspends the function's execution and returns a value.\n",
    "# Generator functions are defined using the def keyword, just like regular functions."
   ]
  },
  {
   "cell_type": "code",
   "execution_count": 6,
   "id": "f0b25764-e478-4796-b5a2-a6592c6eebf1",
   "metadata": {},
   "outputs": [],
   "source": [
    "#4) What is the purpose of a yield statement?\n",
    "# Ans:\n",
    "# A yield statement looks much like a return statement, except that instead of stopping execution of the function and\n",
    "# returning, yield instead provides a value to the code looping over the generator and pauses execution of the generator function"
   ]
  },
  {
   "cell_type": "code",
   "execution_count": null,
   "id": "44531e44-90a9-4705-b29c-24718cad8fad",
   "metadata": {},
   "outputs": [],
   "source": [
    "#5) What is the relationship between map calls and list comprehensions? Make a comparison and contrast between the two.\n",
    "# Ans:\n",
    "# Map calls and list comprehensions are both techniques used in Python to apply a transformation or operation to each element of an iterable. \n",
    "# While they serve a similar purpose, there are differences in syntax and behavior. Let's compare and contrast map calls and list comprehensions:\n",
    "\n",
    "# Purpose:\n",
    "# Map: The map() function is used to apply a specified function to each element of an iterable and return an iterator that yields the transformed values.\n",
    "# List Comprehension: List comprehensions are used to create a new list by applying an expression or operation to each element of an iterable and collecting the results.\n",
    "\n",
    "# Syntax:\n",
    "# Map: The map() function takes two arguments: the function to apply and the iterable to operate on. It returns a map object, which is an iterator.\n",
    "# List Comprehension: List comprehensions have a concise syntax enclosed in square brackets. They consist of an expression, followed by a for loop and optionally one or more if conditions.\n",
    "\n",
    "# Output:\n",
    "# Map: The map() function returns an iterator. To obtain the final result as a list, you need to explicitly convert it using the list() function.\n",
    "# List Comprehension: List comprehensions directly return a new list containing the transformed elements.\n",
    "\n",
    "# Functionality:\n",
    "# Map: The map() function is more flexible when it comes to applying complex functions or when you want to combine multiple iterables. \n",
    "# You can pass any callable object, including built-in functions, lambda functions, or user-defined functions.\n",
    "# List Comprehension: List comprehensions are more concise and expressive when you need to apply a simple expression or operation to each element. \n",
    "# They are not as suitable for handling multiple iterables or complex transformations.\n",
    "\n",
    "# Readability and Expressiveness:\n",
    "# Map: Map calls can sometimes be less readable, especially when using lambda functions or complex functions. They may require additional lines of code to define and pass the function.\n",
    "# List Comprehension: List comprehensions are often considered more readable and expressive. They provide a concise and declarative way to express transformations on iterables."
   ]
  }
 ],
 "metadata": {
  "kernelspec": {
   "display_name": "Python 3 (ipykernel)",
   "language": "python",
   "name": "python3"
  },
  "language_info": {
   "codemirror_mode": {
    "name": "ipython",
    "version": 3
   },
   "file_extension": ".py",
   "mimetype": "text/x-python",
   "name": "python",
   "nbconvert_exporter": "python",
   "pygments_lexer": "ipython3",
   "version": "3.10.6"
  }
 },
 "nbformat": 4,
 "nbformat_minor": 5
}
