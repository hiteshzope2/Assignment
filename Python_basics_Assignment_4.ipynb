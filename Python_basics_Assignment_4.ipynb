{
 "cells": [
  {
   "cell_type": "code",
   "execution_count": null,
   "id": "d1b21d63-f97d-413b-9971-a5ea744dd7e8",
   "metadata": {},
   "outputs": [],
   "source": [
    "#1. What exactly is []?\n",
    "#Ans:\n",
    "     # A square brackets \"[]\" are used to create a list."
   ]
  },
  {
   "cell_type": "code",
   "execution_count": 1,
   "id": "d0501911-f5aa-4a9a-bd27-1339455bcf94",
   "metadata": {},
   "outputs": [
    {
     "name": "stdout",
     "output_type": "stream",
     "text": [
      "[2, 4, 'hello', 8, 10]\n"
     ]
    }
   ],
   "source": [
    "#2. In a list of values stored in a variable called spam, how would you assign the value 'hello' as the\n",
    "#third value? (Assume [2, 4, 6, 8, 10] are in spam.)\n",
    "\n",
    "#Ans: \n",
    "\n",
    "spam= [2, 4, 6, 8, 10]\n",
    "spam[2]=\"hello\"\n",
    "print(spam)"
   ]
  },
  {
   "cell_type": "code",
   "execution_count": null,
   "id": "c03b889b-0ee6-44cc-80ec-8654d933692f",
   "metadata": {},
   "outputs": [],
   "source": [
    "#Let's pretend the spam includes the list ['a','b','c','d'] for the next three queries."
   ]
  },
  {
   "cell_type": "code",
   "execution_count": 3,
   "id": "c5008713-a20d-478c-aa0f-1e827d2e30d3",
   "metadata": {},
   "outputs": [
    {
     "name": "stdout",
     "output_type": "stream",
     "text": [
      "d\n"
     ]
    }
   ],
   "source": [
    "#3. What is the value of spam[int(int('3' * 2) / 11)]?\n",
    "#Ans: \n",
    "spam=['a','b','c','d']\n",
    "spam=spam[int(int('3' * 2) / 11)]\n",
    "print(spam)\n",
    "\n",
    "# The value of spam[int(int('3' * 2) / 11)] is spam[int(int(33) / 11)].\n",
    "# First, the expression '3' * 2 evaluates to '33', which is a string.\n",
    "# Then, the expression int('33') evaluates to 33, which is an integer.\n",
    "# Then, the expression int(33) / 11 evaluates to 3, which is an integer.\n",
    "# Finally, the expression spam[3] would return the fourth element of the list which is \"d\".\n"
   ]
  },
  {
   "cell_type": "code",
   "execution_count": 4,
   "id": "7bb4a6a1-4446-4198-969a-ac2f3ee080f1",
   "metadata": {},
   "outputs": [
    {
     "name": "stdout",
     "output_type": "stream",
     "text": [
      "d\n"
     ]
    }
   ],
   "source": [
    "#4. What is the value of spam[-1]?\n",
    "#Ans:\n",
    "\n",
    "spam=['a','b','c','d']\n",
    "print(spam[-1])"
   ]
  },
  {
   "cell_type": "code",
   "execution_count": 5,
   "id": "0f569a9f-ad57-45ce-b25f-ca60f0254d82",
   "metadata": {},
   "outputs": [
    {
     "name": "stdout",
     "output_type": "stream",
     "text": [
      "['a', 'b']\n"
     ]
    }
   ],
   "source": [
    "#5. What is the value of spam[:2]?\n",
    "#Ans:\n",
    "\n",
    "spam=['a','b','c','d']\n",
    "print(spam[:2])"
   ]
  },
  {
   "cell_type": "code",
   "execution_count": 6,
   "id": "0033fde9-19b4-4ed8-b7b6-91096b0e0cff",
   "metadata": {},
   "outputs": [],
   "source": [
    "#Let's pretend the spam includes the list [3.14,'cat', 11,'cat', True] for the next three queries."
   ]
  },
  {
   "cell_type": "code",
   "execution_count": 7,
   "id": "707ee182-f5c0-4d50-8511-907dc5454f96",
   "metadata": {},
   "outputs": [
    {
     "data": {
      "text/plain": [
       "1"
      ]
     },
     "execution_count": 7,
     "metadata": {},
     "output_type": "execute_result"
    }
   ],
   "source": [
    "#6. What is the value of bacon.index('cat')?\n",
    "#Ans: \n",
    "\n",
    "bacon=[3.14,'cat', 11,'cat', True]\n",
    "bacon.index('cat')"
   ]
  },
  {
   "cell_type": "code",
   "execution_count": 9,
   "id": "c9e8c27c-3631-4b75-b971-719c6a350194",
   "metadata": {},
   "outputs": [
    {
     "name": "stdout",
     "output_type": "stream",
     "text": [
      "[3.14, 'cat', 11, 'cat', True, 99]\n"
     ]
    }
   ],
   "source": [
    "#7. How does bacon.append(99) change the look of the list value in bacon?\n",
    "#Ans:\n",
    "bacon=[3.14,'cat', 11,'cat', True]\n",
    "bacon.append(99)\n",
    "print(bacon)"
   ]
  },
  {
   "cell_type": "code",
   "execution_count": 11,
   "id": "2ac55ddb-5e9d-42a8-a7a7-df4d87e98bab",
   "metadata": {},
   "outputs": [
    {
     "name": "stdout",
     "output_type": "stream",
     "text": [
      "[3.14, 11, 'cat', True]\n"
     ]
    }
   ],
   "source": [
    "#8. How does bacon.remove('cat') change the look of the list in bacon?\n",
    "#Ans:\n",
    "bacon=[3.14,'cat', 11,'cat', True]\n",
    "bacon.remove('cat')\n",
    "print(bacon)"
   ]
  },
  {
   "cell_type": "code",
   "execution_count": null,
   "id": "2b019bd3-cffb-4376-abcc-d7b4d9400ac1",
   "metadata": {},
   "outputs": [],
   "source": [
    "#9. What are the list concatenation and list replication operators?\n",
    "#Ans:\n",
    "    # The list concatenation operator is the \"+\" symbol and the list replication operator is the \"*\" symbol."
   ]
  },
  {
   "cell_type": "code",
   "execution_count": null,
   "id": "3b808638-1589-4763-8e40-2e3d88314af9",
   "metadata": {},
   "outputs": [],
   "source": [
    "#10. What is difference between the list methods append() and insert()?\n",
    "#Ans:\n",
    "     #append() method adds an element to the end of the list and insert() method adds an element at a specific position in the list."
   ]
  },
  {
   "cell_type": "code",
   "execution_count": null,
   "id": "4fad2c42-9ff2-4bee-b2cd-312d2c94875a",
   "metadata": {},
   "outputs": [],
   "source": [
    "#11. What are the two methods for removing items from a list?\n",
    "#Ans:\n",
    "    # There are two main methods for removing items from a list: remove() and pop()."
   ]
  },
  {
   "cell_type": "code",
   "execution_count": null,
   "id": "b091f4f3-197b-4d5e-8752-754b9cd9de35",
   "metadata": {},
   "outputs": [],
   "source": [
    "#12. Describe how list values and string values are identical.\n",
    "#Ans:\n",
    "    # Both lists and strings are ordered collections of items, meaning that the items are stored in a specific order, and their position can be accessed by their index.\n",
    "    # Both lists and strings are iterable, meaning that they can be looped over using a for loop.\n",
    "    # Both lists and strings support indexing, slicing, and concatenation.\n",
    "    # Both lists and strings can be accessed and modified by their index.\n",
    "    # They also support some common functions such as len() function to get the number of elements in the list or string.\n",
    "    # lists and strings are similar in that they are both used to store collections of values, but they have different characteristics and are used for different purposes."
   ]
  },
  {
   "cell_type": "code",
   "execution_count": null,
   "id": "0646494c-572b-4992-9167-5ac0fe27054f",
   "metadata": {},
   "outputs": [],
   "source": [
    "#13. What's the difference between tuples and lists?\n",
    "#Ans: \n",
    "    # Lists are mutable, meaning that their elements can be modified after they are created, while tuples are immutable, meaning that their elements cannot be modified after they are created.\n",
    "    # Lists use square brackets \"[]\" to create and access elements, while tuples use parentheses \"()\" to create and access elements.\n",
    "    # Lists have many built-in methods that can be used to manipulate the list, such as append(), remove(), and pop(). Tuples have fewer methods and are mainly used to store data."
   ]
  },
  {
   "cell_type": "code",
   "execution_count": null,
   "id": "90db6d69-f4b6-4801-a75c-a2a2634adcd1",
   "metadata": {},
   "outputs": [],
   "source": [
    "#14. How do you type a tuple value that only contains the integer 42?\n",
    "#Ans:\n",
    "    # To create a tuple that only contains the integer 42 in Python, you can use parentheses () and separate the value with a comma.\n",
    "    # my_tuple=(42,)"
   ]
  },
  {
   "cell_type": "code",
   "execution_count": null,
   "id": "d0698675-8bc6-4e6d-9858-ac80d8f5da8a",
   "metadata": {},
   "outputs": [],
   "source": [
    "#15. How do you get a list value's tuple form? How do you get a tuple value's list form?\n",
    "#Ans:\n",
    "    # you can convert a list to a tuple using the built-in tuple() function.\n",
    "    # you can use the built-in list() function to convert a tuple into list."
   ]
  },
  {
   "cell_type": "code",
   "execution_count": null,
   "id": "bbe8d878-8a99-47a5-8c12-23593aa54ec7",
   "metadata": {},
   "outputs": [],
   "source": [
    "#16. Variables that \"contain\" list values are not necessarily lists themselves. Instead, what do they contain?\n",
    "#Ans: \n",
    "    # variables that \"contain\" list values actually contain references to the list objects themselves, not copies of the list.\n",
    "    # A variable that is assigned a list value is actually a reference to the memory location where the list is stored. \n",
    "    # This means that when you make changes to the list through the variable, you are modifying the original list object in memory."
   ]
  },
  {
   "cell_type": "code",
   "execution_count": null,
   "id": "90a3de8f-a4f8-4a96-967d-189d951500a6",
   "metadata": {},
   "outputs": [],
   "source": [
    "#17. How do you distinguish between copy.copy() and copy.deepcopy()?\n",
    "#Ans:\n",
    "    # A shallow copy creates a new object with a new reference to the original object's contents, but the contents themselves are not duplicated. \n",
    "    # This means that the new object and the original object share the same underlying data.\n",
    "    # If we modify the contents of the new object, the original object will also be modified.\n",
    "\n",
    "    # A deep copy creates a completely independent copy of the original object, including its contents.\n",
    "    # The new object and the original object do not share any data. \n",
    "    # if we modify the contents of the new object, the original object will not be affected."
   ]
  }
 ],
 "metadata": {
  "kernelspec": {
   "display_name": "Python 3 (ipykernel)",
   "language": "python",
   "name": "python3"
  },
  "language_info": {
   "codemirror_mode": {
    "name": "ipython",
    "version": 3
   },
   "file_extension": ".py",
   "mimetype": "text/x-python",
   "name": "python",
   "nbconvert_exporter": "python",
   "pygments_lexer": "ipython3",
   "version": "3.10.6"
  }
 },
 "nbformat": 4,
 "nbformat_minor": 5
}
