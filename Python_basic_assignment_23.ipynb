{
 "cells": [
  {
   "cell_type": "code",
   "execution_count": 10,
   "id": "3fac7e2d-ad76-494c-bdc2-80ea32a24367",
   "metadata": {},
   "outputs": [
    {
     "name": "stdout",
     "output_type": "stream",
     "text": [
      "1 2 8\n"
     ]
    }
   ],
   "source": [
    "#1. What is the result of the code, and why?\n",
    "def func(a, b=6, c=8):\n",
    "    print(a, b, c)\n",
    "func(1, 2)\n",
    "# Ans:\n",
    "# The func function is defined with three parameters: a, b, and c. The parameters b and c have default values of 6 and 8, respectively.\n",
    "# When the function func is called with the arguments 1 and 2 (func(1, 2)), the value 1 is assigned to the parameter a, and the value 2 is assigned to the parameter b. \n",
    "# Since no argument is provided for the parameter c, it takes its default value of 8."
   ]
  },
  {
   "cell_type": "code",
   "execution_count": 11,
   "id": "7e9a90d3-dcb7-4f65-b006-f1550ecda215",
   "metadata": {},
   "outputs": [
    {
     "name": "stdout",
     "output_type": "stream",
     "text": [
      "1 2 3\n"
     ]
    }
   ],
   "source": [
    "#2. What is the result of this code, and why?\n",
    "def func(a, b, c=5):\n",
    "    print(a, b, c)\n",
    "func(1, c=3, b=2)\n",
    "# Ans:\n",
    "# When the function func is called with the arguments 1, c=3, and b=2 (func(1, c=3, b=2)), the value 1 is assigned to the parameter a. \n",
    "# Since c is explicitly provided as 3, it overrides the default value of 5. Similarly, b is explicitly provided as 2,\n",
    "# overriding the default order of arguments."
   ]
  },
  {
   "cell_type": "code",
   "execution_count": 12,
   "id": "edf0712d-ef0e-42a6-bd96-ee23603d7725",
   "metadata": {},
   "outputs": [
    {
     "name": "stdout",
     "output_type": "stream",
     "text": [
      "1 (2, 3)\n"
     ]
    }
   ],
   "source": [
    "#3. How about this code: what is its result, and why?\n",
    "def func(a, *pargs):\n",
    "    print(a, pargs)\n",
    "func(1, 2, 3)\n",
    "# Ans:\n",
    "# The func function is defined with two parameters: a and *pargs. \n",
    "# The asterisk * before pargs indicates that it will collect any additional positional arguments into a tuple.\n",
    "# When the function func is called with the arguments 1, 2, and 3 (func(1, 2, 3)), the value 1 is assigned to the parameter a,\n",
    "# and the remaining positional arguments 2 and 3 are collected into the tuple pargs."
   ]
  },
  {
   "cell_type": "code",
   "execution_count": 13,
   "id": "f97b41a2-a0d5-4c4c-8e5b-b779d904f15f",
   "metadata": {},
   "outputs": [
    {
     "name": "stdout",
     "output_type": "stream",
     "text": [
      "1 {'c': 3, 'b': 2}\n"
     ]
    }
   ],
   "source": [
    "#4. What does this code print, and why?\n",
    "def func(a, **kargs):\n",
    "    print(a, kargs)\n",
    "func(a=1, c=3, b=2)\n",
    "# Ans:\n",
    "# The func function is defined with two parameters: a and **kargs.\n",
    "# The double asterisks ** before kargs indicate that it will collect any additional keyword arguments into a dictionary.\n",
    "# When the function func is called with the keyword arguments a=1, c=3, and b=2 (func(a=1, c=3, b=2)), the value 1 is assigned to the parameter a,\n",
    "# and the remaining keyword arguments c=3 and b=2 are collected into the dictionary kargs."
   ]
  },
  {
   "cell_type": "code",
   "execution_count": 14,
   "id": "71774be8-e520-4e44-86ff-aebb369fd920",
   "metadata": {},
   "outputs": [
    {
     "name": "stdout",
     "output_type": "stream",
     "text": [
      "1 5 6 5\n"
     ]
    }
   ],
   "source": [
    "#5. What gets printed by this, and explain?\n",
    "def func(a, b, c=8, d=5): \n",
    "    print(a, b, c, d)\n",
    "func(1, *(5, 6))\n",
    "# Ans:\n",
    "# The func function is defined with four parameters: a, b, c, and d. The parameters c and d have default values of 8 and 5, respectively.\n",
    "\n",
    "# When the function func is called with the arguments 1 and *(5, 6), the value 1 is assigned to the parameter a,\n",
    "# and the unpacked tuple (5, 6) is assigned to the parameter b. The tuple (5, 6) is unpacked into individual values, with 5 assigned to b and 6 being discarded."
   ]
  },
  {
   "cell_type": "code",
   "execution_count": 15,
   "id": "7258addd-daff-4328-81b8-f88d6b96e625",
   "metadata": {},
   "outputs": [
    {
     "data": {
      "text/plain": [
       "(1, ['x'], {'a': 'y'})"
      ]
     },
     "execution_count": 15,
     "metadata": {},
     "output_type": "execute_result"
    }
   ],
   "source": [
    "#6. what is the result of this, and explain?\n",
    "def func(a, b, c): \n",
    "    a = 2; b[0] = 'x'; c['a'] = 'y'\n",
    "    \n",
    "l=1; m=[1]; n={'a':0}\n",
    "func(l, m, n)\n",
    "\n",
    "l, m, n\n",
    "# Ans:\n",
    "# When the function func is called with the arguments l, m, and n (func(l, m, n)), \n",
    "# the value of l is passed to the parameter a, the reference to the list m is passed to the parameter b, \n",
    "# and the reference to the dictionary n is passed to the parameter c.\n",
    "# Inside the function, the line a = 2 assigns the value 2 to the local variable a, \n",
    "# but it does not affect the original value of l outside the function.\n",
    "# The line b[0] = 'x' modifies the first element of the list m to 'x'.\n",
    "# Since m is passed by reference, this change affects the original list m outside the function.\n",
    "# The line c['a'] = 'y' assigns the value 'y' to the key 'a' in the dictionary n.\n",
    "# Similar to the list, the dictionary n is also passed by reference, so this change affects the original dictionary n outside the function."
   ]
  },
  {
   "cell_type": "code",
   "execution_count": null,
   "id": "41b532e1-a9a0-426e-9402-c860d98ccde6",
   "metadata": {},
   "outputs": [],
   "source": []
  },
  {
   "cell_type": "code",
   "execution_count": null,
   "id": "bad87494-4b5d-40bd-89d1-90fa529a014c",
   "metadata": {},
   "outputs": [],
   "source": []
  }
 ],
 "metadata": {
  "kernelspec": {
   "display_name": "Python 3 (ipykernel)",
   "language": "python",
   "name": "python3"
  },
  "language_info": {
   "codemirror_mode": {
    "name": "ipython",
    "version": 3
   },
   "file_extension": ".py",
   "mimetype": "text/x-python",
   "name": "python",
   "nbconvert_exporter": "python",
   "pygments_lexer": "ipython3",
   "version": "3.10.6"
  }
 },
 "nbformat": 4,
 "nbformat_minor": 5
}
