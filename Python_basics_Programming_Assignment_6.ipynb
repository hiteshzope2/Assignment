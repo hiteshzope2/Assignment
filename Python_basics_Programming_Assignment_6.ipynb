{
 "cells": [
  {
   "cell_type": "code",
   "execution_count": null,
   "id": "c8ce0c2c-b05b-4cdc-a6e0-e83642ec310b",
   "metadata": {},
   "outputs": [],
   "source": [
    "#1.Write a Python Program to Display Fibonacci Sequence Using Recursion?"
   ]
  },
  {
   "cell_type": "code",
   "execution_count": 4,
   "id": "ee84410b-cff9-4325-b85a-a18bb85df23b",
   "metadata": {},
   "outputs": [
    {
     "name": "stdin",
     "output_type": "stream",
     "text": [
      "Enter the number of terms in the Fibonacci sequence:  5\n"
     ]
    },
    {
     "name": "stdout",
     "output_type": "stream",
     "text": [
      "Fibonacci sequence:\n",
      "0\n",
      "1\n",
      "1\n",
      "2\n",
      "3\n"
     ]
    }
   ],
   "source": [
    "def fibonacci(num):\n",
    "   if num<= 0:\n",
    "      return 0\n",
    "   elif num == 1:\n",
    "      return 1\n",
    "   else:\n",
    "      return fibonacci(num-1) + fibonacci(num-2)\n",
    "\n",
    "NUMBER = int(input(\"Enter the number of terms in the Fibonacci sequence: \"))\n",
    "\n",
    "if NUMBER <= 0:\n",
    "   print(\"Enter a positive integer.\")\n",
    "else:\n",
    "   print(\"Fibonacci sequence:\")\n",
    "   for i in range(NUMBER):\n",
    "      print(fibonacci(i))"
   ]
  },
  {
   "cell_type": "code",
   "execution_count": null,
   "id": "cfd813f4-dab1-4a47-a320-a68749c84a2d",
   "metadata": {},
   "outputs": [],
   "source": [
    "#2.Write a Python Program to Find Factorial of Number Using Recursion?"
   ]
  },
  {
   "cell_type": "code",
   "execution_count": 10,
   "id": "6f84e69d-bb59-4c68-b5ac-1a0dcdee9fd6",
   "metadata": {},
   "outputs": [
    {
     "name": "stdin",
     "output_type": "stream",
     "text": [
      "Enter the number:  4\n"
     ]
    },
    {
     "name": "stdout",
     "output_type": "stream",
     "text": [
      "The factorial of 4 is 24\n"
     ]
    }
   ],
   "source": [
    "def factorial(n):\n",
    "    if (n==0 or n==1):\n",
    "        return 1\n",
    "    else:\n",
    "        return n* factorial(n-1)\n",
    "    \n",
    "NUM=int(input(\"Enter the number: \"))\n",
    "    \n",
    "print(f\"The factorial of {NUM} is {factorial(NUM)}\" )"
   ]
  },
  {
   "cell_type": "code",
   "execution_count": null,
   "id": "3a188111-b5d5-4239-8f9a-4126685bc095",
   "metadata": {},
   "outputs": [],
   "source": [
    "#3.Write a Python Program to calculate your Body Mass Index?"
   ]
  },
  {
   "cell_type": "code",
   "execution_count": 13,
   "id": "24b8c196-9e4b-46c1-9f11-2eb10e9de353",
   "metadata": {},
   "outputs": [
    {
     "name": "stdin",
     "output_type": "stream",
     "text": [
      "Enter weight in kilogram:  85\n",
      "Enter weight in meters:  1.84\n"
     ]
    },
    {
     "name": "stdout",
     "output_type": "stream",
     "text": [
      "25.10633270321361\n"
     ]
    }
   ],
   "source": [
    "def calbmi(weight,height):\n",
    "    BMI=weight/height**2\n",
    "    return BMI\n",
    "weight=float(input(\"Enter weight in kilogram: \"))\n",
    "height=float(input(\"Enter weight in meters: \"))\n",
    "             \n",
    "bmi=calbmi(weight,height)\n",
    "print(bmi)"
   ]
  },
  {
   "cell_type": "code",
   "execution_count": null,
   "id": "2274336f-da88-43f4-be1e-1ade60fc2075",
   "metadata": {},
   "outputs": [],
   "source": [
    "#4.Write a Python Program to calculate the natural logarithm of any number?"
   ]
  },
  {
   "cell_type": "code",
   "execution_count": 14,
   "id": "24d91fd1-36bf-4dd1-92f2-cd6c21a17557",
   "metadata": {},
   "outputs": [
    {
     "name": "stdin",
     "output_type": "stream",
     "text": [
      "Enter a number to find its natural logarithm:  5\n"
     ]
    },
    {
     "name": "stdout",
     "output_type": "stream",
     "text": [
      "The natural logarithm of 5.0 is 1.6094379124341003\n"
     ]
    }
   ],
   "source": [
    "import math\n",
    "\n",
    "def calculate_ln(x):\n",
    "    return math.log(x)\n",
    "\n",
    "num = float(input(\"Enter a number to find its natural logarithm: \"))\n",
    "logarithm = calculate_ln(num)\n",
    "print(\"The natural logarithm of\", num, \"is\", logarithm)"
   ]
  },
  {
   "cell_type": "code",
   "execution_count": null,
   "id": "2c32618c-42a3-4f5f-9477-61ba9a9252af",
   "metadata": {},
   "outputs": [],
   "source": [
    "#5.Write a Python Program for cube sum of first n natural numbers?"
   ]
  },
  {
   "cell_type": "code",
   "execution_count": null,
   "id": "0e8648cb-7c40-4c6e-926c-41396f12b899",
   "metadata": {},
   "outputs": [],
   "source": [
    "def cube_sum(n):\n",
    "    sum = 0\n",
    "    for i in range(1, n + 1):\n",
    "        sum += i ** 3\n",
    "    return sum\n",
    "\n",
    "num = int(input(\"Enter the value of n to calculate the cube sum of first n natural numbers: \"))\n",
    "result = cube_sum(num)\n",
    "print(\"The cube sum of the first\", num, \"natural numbers is\", result)"
   ]
  }
 ],
 "metadata": {
  "kernelspec": {
   "display_name": "Python 3 (ipykernel)",
   "language": "python",
   "name": "python3"
  },
  "language_info": {
   "codemirror_mode": {
    "name": "ipython",
    "version": 3
   },
   "file_extension": ".py",
   "mimetype": "text/x-python",
   "name": "python",
   "nbconvert_exporter": "python",
   "pygments_lexer": "ipython3",
   "version": "3.10.6"
  }
 },
 "nbformat": 4,
 "nbformat_minor": 5
}
