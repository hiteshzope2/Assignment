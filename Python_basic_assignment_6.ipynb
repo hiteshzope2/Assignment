{
 "cells": [
  {
   "cell_type": "code",
   "execution_count": 7,
   "id": "4da58735-3f61-480b-8cff-0a65f3fc5908",
   "metadata": {},
   "outputs": [
    {
     "name": "stdout",
     "output_type": "stream",
     "text": [
      "Hey, How are you doing \"King\".\n"
     ]
    }
   ],
   "source": [
    "# 1. What are escape characters, and how do you use them?\n",
    "# Ans : An escape character is a backslash \\ followed by the character you want to insert.\n",
    "print(\"Hey, How are you doing \\\"King\\\".\")"
   ]
  },
  {
   "cell_type": "code",
   "execution_count": 8,
   "id": "abdd7706-f258-42d0-81c5-11b12c8cd5e0",
   "metadata": {},
   "outputs": [],
   "source": [
    "# 2. What do the escape characters n and t stand for?\n",
    "# Ans : n stand for newline character :\\n and t stand for tab character : \\t in escape characters."
   ]
  },
  {
   "cell_type": "code",
   "execution_count": 10,
   "id": "d231f2e4-728f-40da-92e8-de9027dcfb91",
   "metadata": {},
   "outputs": [
    {
     "name": "stdout",
     "output_type": "stream",
     "text": [
      "Hey, How are you doing \"King\".\n"
     ]
    }
   ],
   "source": [
    "# 3. What is the way to include backslash characters in a string?\n",
    "# Ans : You can use an escape character, which is a backslash followed by another backslash.\n",
    "# example\n",
    "print(\"Hey, How are you doing \\\"King\\\".\")"
   ]
  },
  {
   "cell_type": "code",
   "execution_count": 11,
   "id": "6d082324-5e54-4871-a653-27a1395264b6",
   "metadata": {},
   "outputs": [],
   "source": [
    "# 4. The string \"Howl's Moving Castle\" is a correct value. Why isn't the single quote character in the word Howl's not escaped a problem?\n",
    "# Ans : The reason why the single quote character in the string \"Howl's Moving Castle\" is not causing a problem is because the string is enclosed in double quotes."
   ]
  },
  {
   "cell_type": "code",
   "execution_count": 12,
   "id": "22933b1e-5f84-4e1f-9c21-14af4f272e8c",
   "metadata": {},
   "outputs": [],
   "source": [
    "# 5. How do you write a string of newlines if you don't want to use the n character?\n",
    "# Ans : We can simply use triple quotes to write a stirng of newlines."
   ]
  },
  {
   "cell_type": "code",
   "execution_count": 17,
   "id": "01146f7e-8e4d-4677-903e-bfad9950672f",
   "metadata": {},
   "outputs": [
    {
     "name": "stdout",
     "output_type": "stream",
     "text": [
      "e\n",
      "Hello\n",
      "Hello\n",
      "lo, world!\n"
     ]
    }
   ],
   "source": [
    "# 6. What are the values of the given expressions?\n",
    "\n",
    "# 'Hello, world!'[1]\n",
    "# 'Hello, world!'[0:5]\n",
    "# 'Hello, world!'[:5]\n",
    "# 'Hello, world!'[3:]\n",
    "# Ans : \n",
    "print('Hello, world!'[1])\n",
    "print('Hello, world!'[0:5])\n",
    "print('Hello, world!'[:5])\n",
    "print('Hello, world!'[3:])"
   ]
  },
  {
   "cell_type": "code",
   "execution_count": 18,
   "id": "dfef2774-8911-458d-bc69-043ac784a9bd",
   "metadata": {},
   "outputs": [
    {
     "name": "stdout",
     "output_type": "stream",
     "text": [
      "HELLO\n",
      "True\n",
      "hello\n"
     ]
    }
   ],
   "source": [
    "# 7. What are the values of the following expressions?\n",
    "\n",
    "# 'Hello'.upper()\n",
    "# 'Hello'.upper().isupper()\n",
    "# 'Hello'.upper().lower()\n",
    "# Ans : \n",
    "print('Hello'.upper())\n",
    "print('Hello'.upper().isupper())\n",
    "print('Hello'.upper().lower())"
   ]
  },
  {
   "cell_type": "code",
   "execution_count": 20,
   "id": "dfb1329d-cb46-49d2-9e02-1d3a964f93e8",
   "metadata": {},
   "outputs": [
    {
     "name": "stdout",
     "output_type": "stream",
     "text": [
      "['Remember,', 'remember,', 'the', 'fifth', 'of', 'July.']\n",
      "There-can-only-one.\n"
     ]
    }
   ],
   "source": [
    "# 8. What are the values of the following expressions?\n",
    "\n",
    "# 'Remember, remember, the fifth of July.'.split()\n",
    "# '-'.join('There can only one.'.split())\n",
    "\n",
    "# Ans : \n",
    "'Remember, remember, the fifth of July.'.split()\n",
    "print('Remember, remember, the fifth of July.'.split())\n",
    "'-'.join('There can only one.'.split())\n",
    "print('-'.join('There can only one.'.split()))"
   ]
  },
  {
   "cell_type": "code",
   "execution_count": 22,
   "id": "8a621338-a985-43ad-9b88-07f66d511ffe",
   "metadata": {},
   "outputs": [],
   "source": [
    "# 9. What are the methods for right-justifying, left-justifying, and centering a string?\n",
    "# Ans : Here are some of the most common methods for string justification:- right-justifying:rjust() , left-justifying:ljust() , centering:center()"
   ]
  },
  {
   "cell_type": "code",
   "execution_count": null,
   "id": "eeb12acb-57a6-4330-a35f-7b860b2972e6",
   "metadata": {},
   "outputs": [],
   "source": [
    "# 10. What is the best way to remove whitespace characters from the start or end?\n",
    "# Ans : lstip() and rstrip() this are the best method to remove whitespace characters from the start or end/"
   ]
  }
 ],
 "metadata": {
  "kernelspec": {
   "display_name": "Python 3 (ipykernel)",
   "language": "python",
   "name": "python3"
  },
  "language_info": {
   "codemirror_mode": {
    "name": "ipython",
    "version": 3
   },
   "file_extension": ".py",
   "mimetype": "text/x-python",
   "name": "python",
   "nbconvert_exporter": "python",
   "pygments_lexer": "ipython3",
   "version": "3.10.6"
  }
 },
 "nbformat": 4,
 "nbformat_minor": 5
}
