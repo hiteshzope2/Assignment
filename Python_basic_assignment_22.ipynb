{
 "cells": [
  {
   "cell_type": "code",
   "execution_count": 1,
   "id": "e066cc48-eb35-442b-9e5d-e152e20e6cb6",
   "metadata": {},
   "outputs": [
    {
     "name": "stdout",
     "output_type": "stream",
     "text": [
      "iNeuron\n"
     ]
    }
   ],
   "source": [
    "#1. What is the result of the code, and explain?\n",
    "X = 'iNeuron'\n",
    "def func():\n",
    "    print(X)\n",
    "\n",
    "func()\n",
    "# Ans:\n",
    "# The variable X is assigned the value 'iNeuron'.\n",
    "# A function named func is defined.\n",
    "# Within the function definition, there is a print statement that prints the value of X.\n",
    "# The function func is called using func().\n",
    "# When the function is called, it executes the print(X) statement.\n",
    "# Since X is defined outside the function and not as a local variable inside the function, it is considered a global variable.\n",
    "# The print(X) statement accesses the global variable X and prints its value, which is 'iNeuron'."
   ]
  },
  {
   "cell_type": "code",
   "execution_count": 6,
   "id": "c654cd91-c24a-45e6-a6cb-a5648fab8e11",
   "metadata": {},
   "outputs": [
    {
     "name": "stdout",
     "output_type": "stream",
     "text": [
      "NI!\n"
     ]
    }
   ],
   "source": [
    "#2. What is the result of the code, and explain?\n",
    "X = 'iNeuron' \n",
    "def func(): \n",
    "    X = 'NI!'\n",
    "\n",
    "    print(X)\n",
    "func()\n",
    "# Ans:\n",
    "# The variable X is assigned the string value 'iNeuron'.\n",
    "# The code defines a function named func().\n",
    "# Within the func() function, a new local variable X is defined and assigned the string value 'NI!'.\n",
    "# The print(X) statement within the func() function will output the value of the local variable X, which is 'NI!'.\n",
    "# The func() function is then called, causing the print() statement to be executed and displaying 'NI!' as the output."
   ]
  },
  {
   "cell_type": "code",
   "execution_count": 7,
   "id": "8f7e6d1e-8e4d-418d-99d2-a0350b8da00f",
   "metadata": {},
   "outputs": [
    {
     "name": "stdout",
     "output_type": "stream",
     "text": [
      "NI\n",
      "iNeuron\n"
     ]
    }
   ],
   "source": [
    "#3. What does this code print, and why?\n",
    "X = 'iNeuron' \n",
    "def func(): \n",
    "    X = 'NI' \n",
    "    print(X)\n",
    "\n",
    "func()\n",
    "print(X)\n",
    "# Ans:\n",
    "# The variable X is assigned the string value 'iNeuron'.\n",
    "# The code defines a function named func().\n",
    "# Within the func() function, a new local variable X is defined and assigned the string value 'NI'.\n",
    "# The print(X) statement within the func() function will output the value of the local variable X, which is 'NI'.\n",
    "# The func() function is then called, causing the print(X) statement inside it to execute and display 'NI' as the output.\n",
    "# After the function call, the code executes the print(X) statement outside of the function. \n",
    "# This statement refers to the global variable X, which was assigned the value 'iNeuron' initially. \n",
    "# Therefore, it prints 'iNeuron' as the output."
   ]
  },
  {
   "cell_type": "code",
   "execution_count": 1,
   "id": "e88f12e8-ff28-463b-8c80-4c30e42c4655",
   "metadata": {},
   "outputs": [
    {
     "name": "stdout",
     "output_type": "stream",
     "text": [
      "NI!\n",
      "NI!\n"
     ]
    }
   ],
   "source": [
    "#4. What output does this code produce? Why?\n",
    "X = 'iNeuron'\n",
    "def func():\n",
    "    global X\n",
    "    X = 'NI!'\n",
    "    print(X)\n",
    "\n",
    "func()\n",
    "print(X)\n",
    "# Ans:\n",
    "# The variable X is assigned the string value 'iNeuron'.\n",
    "# The func() function is defined and within the function, \n",
    "# the global keyword is used to indicate that the X variable being referenced is the global variable, not a local variable.\n",
    "# Inside the func() function, the value of the global variable X is changed to 'NI!'.\n",
    "# The print(X) statement inside the function will output the value of the global variable X, which is now 'NI!'.\n",
    "# The func() function is then called, causing the print(X) statement inside it to execute and display 'NI!' as the output.\n",
    "# After the function call, the code executes the print(X) statement outside of the function.\n",
    "# Since the value of the global variable X was changed inside the function, it retains the value 'NI!'. Therefore, it also prints 'NI!' as the output."
   ]
  },
  {
   "cell_type": "code",
   "execution_count": 3,
   "id": "f752cabc-7149-47ae-9caf-1c5e688212ba",
   "metadata": {},
   "outputs": [
    {
     "name": "stdout",
     "output_type": "stream",
     "text": [
      "iNeuron\n"
     ]
    },
    {
     "data": {
      "text/plain": [
       "'iNeuron'"
      ]
     },
     "execution_count": 3,
     "metadata": {},
     "output_type": "execute_result"
    }
   ],
   "source": [
    "#5. What about this code—what’s the output, and why?\n",
    "X = 'iNeuron'\n",
    "def func():\n",
    "    X = 'NI'\n",
    "def nested():\n",
    "    print(X)\n",
    "    \n",
    "nested()\n",
    "func()\n",
    "X\n",
    "# Ans:\n",
    "# The variable X is assigned the string value 'iNeuron'.\n",
    "# The code defines a function named func().\n",
    "# Within the func() function, another function named nested() is defined.\n",
    "# The nested() function has a print(X) statement that attempts to print the value of X.\n",
    "# However, since X is not defined within the nested() function and there is no global keyword used, \n",
    "# Python will search for the value of X in the local scope of nested(), then in the local scope of func(), and finally in the global scope.\n",
    "# In this case, X is not defined in the local scope of nested(), so Python searches in the local scope of func().\n",
    "# However, X is also not defined in the local scope of func(), so Python proceeds to search in the global scope.\n",
    "# In the global scope, X is defined and has the value 'iNeuron'.\n",
    "# Therefore, when nested() is called within func(), it attempts to print the value of X from the global scope, which is 'iNeuron'.\n",
    "# The func() function is then called, but it does not have any print() statements, so it does not produce any visible output.\n",
    "# Finally, after the function calls, the print(X) statement outside of any functions will output the value of X in the global scope, \n",
    "# which is still 'iNeuron'. Hence, it prints 'iNeuron' as the output."
   ]
  },
  {
   "cell_type": "code",
   "execution_count": 4,
   "id": "439d8a03-3214-4efc-9574-dda9b87e8e49",
   "metadata": {},
   "outputs": [
    {
     "name": "stdout",
     "output_type": "stream",
     "text": [
      "spam\n"
     ]
    }
   ],
   "source": [
    "#6. How about this code: what is its output in Python 3, and explain?\n",
    "def func():\n",
    "    X = 'NI'\n",
    "    def nested():\n",
    "        nonlocal X\n",
    "        X = 'spam'\n",
    "    nested()\n",
    "    print(X)\n",
    "\n",
    "func()\n",
    "# Ans:\n"
   ]
  },
  {
   "cell_type": "code",
   "execution_count": null,
   "id": "fa9f64c5-eff1-4167-8e06-1a6dca4b417f",
   "metadata": {},
   "outputs": [],
   "source": []
  }
 ],
 "metadata": {
  "kernelspec": {
   "display_name": "Python 3 (ipykernel)",
   "language": "python",
   "name": "python3"
  },
  "language_info": {
   "codemirror_mode": {
    "name": "ipython",
    "version": 3
   },
   "file_extension": ".py",
   "mimetype": "text/x-python",
   "name": "python",
   "nbconvert_exporter": "python",
   "pygments_lexer": "ipython3",
   "version": "3.10.6"
  }
 },
 "nbformat": 4,
 "nbformat_minor": 5
}
