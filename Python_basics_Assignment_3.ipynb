{
  "cells": [
    {
      "cell_type": "code",
      "source": [
        "# 1.Why are functions advantageous to have in your programs?\n",
        "# Ans  = The use of functions makes a program more readable.\n",
        "#        The function can be reused countless times after it is defined."
      ],
      "metadata": {
        "id": "mED6Kb3prQX3"
      },
      "execution_count": 6,
      "outputs": []
    },
    {
      "cell_type": "code",
      "source": [
        "# 2.When does the code in a function run : when it's specified or when it's called?\n",
        "\n",
        "#     Ans  = The code in a functions runs when it\"s called."
      ],
      "metadata": {
        "id": "oVxh22LGr2Cg"
      },
      "execution_count": 7,
      "outputs": []
    },
    {
      "cell_type": "code",
      "source": [
        "# 3.What statement creates a function?\n",
        "\n",
        "#     Ans  = The def statement creates functions."
      ],
      "metadata": {
        "id": "LxZosZECsN5r"
      },
      "execution_count": 8,
      "outputs": []
    },
    {
      "cell_type": "code",
      "source": [
        "# 4.What is the difference between a function and a function call?\n",
        "\n",
        "#     Ans = A function is a block of code defined seperately outside \n",
        "#     the program and A function call is calling the function to execute."
      ],
      "metadata": {
        "id": "JaGF0dWFsRa9"
      },
      "execution_count": 9,
      "outputs": []
    },
    {
      "cell_type": "code",
      "source": [
        "# 5.How many global scopes are there in a Python program? How many local scopes?\n",
        "\n",
        "#     Ans = There is one global scope, \n",
        "#     And a local scope is created whenever a function is called."
      ],
      "metadata": {
        "id": "BFDMeNRjsYzW"
      },
      "execution_count": 10,
      "outputs": []
    },
    {
      "cell_type": "code",
      "source": [
        "# 6.What happens to variables in a local scope when the function call returns?\n",
        "\n",
        "#     Ans  = When a function call returns and its local variables are destroyed."
      ],
      "metadata": {
        "id": "0l7sSIRTscgi"
      },
      "execution_count": 11,
      "outputs": []
    },
    {
      "cell_type": "code",
      "source": [
        "# 7.What is the concept of a return value? Is it possible to have a return value in an expression?\n",
        "\n",
        "#     Ans = A \"return value\" refers to the value that a function or method returns after execution. \n",
        "#     And it is possible to have a return value in an expression."
      ],
      "metadata": {
        "id": "vdk1nJnBsgCA"
      },
      "execution_count": 12,
      "outputs": []
    },
    {
      "cell_type": "code",
      "source": [
        "# 8.If a function does not have a return statement, what is the return value of a call to that function?\n",
        "\n",
        "#     Ans = It returns value of a call to that function is None."
      ],
      "metadata": {
        "id": "iAthzHbes4KX"
      },
      "execution_count": 13,
      "outputs": []
    },
    {
      "cell_type": "code",
      "source": [
        "# 9.How do you make a function variable refer to the global variable?\n",
        "\n",
        "#     Ans = Using the global keyword You can use the global keyword to indicate that a variable inside a function should refer to the global variable."
      ],
      "metadata": {
        "id": "BQ3_8341s8_4"
      },
      "execution_count": 14,
      "outputs": []
    },
    {
      "cell_type": "code",
      "source": [
        "# 10.What is the data type of None?\n",
        "\n",
        "#     Ans = The data type of None is Nonetype."
      ],
      "metadata": {
        "id": "AgwyKCezsxzq"
      },
      "execution_count": 15,
      "outputs": []
    },
    {
      "cell_type": "code",
      "source": [
        "# 11.What does the sentence import areallyourpetsnamederic do?\n",
        "\n",
        "#     Ans = That import statement imports a module named areallyourpetsnamederic."
      ],
      "metadata": {
        "id": "QlSUSkbBsu7r"
      },
      "execution_count": 16,
      "outputs": []
    },
    {
      "cell_type": "code",
      "source": [
        "# 12.If you had a bacon() feature in a spam module, what would you call it after importing spam?\n",
        "\n",
        "#     Ans = This function can be called with spam.bacon()."
      ],
      "metadata": {
        "id": "AAbYKi83srdn"
      },
      "execution_count": 17,
      "outputs": []
    },
    {
      "cell_type": "code",
      "source": [
        "# 13.What can you do to save a programme from crashing if it encounters an error?\n",
        "\n",
        "#     Ans = We can use try-except blocks to catch exceptions and handle them gracefully, rather than letting the programme crash."
      ],
      "metadata": {
        "id": "3x69fCo1snFm"
      },
      "execution_count": 18,
      "outputs": []
    },
    {
      "cell_type": "code",
      "source": [
        "# 14.What is the purpose of the try clause? What is the purpose of the except clause?\n",
        "\n",
        "#     Ans  = In try block we can do test for error And in except block we can handle the error. "
      ],
      "metadata": {
        "id": "GLWsfenWsjrL"
      },
      "execution_count": 20,
      "outputs": []
    }
  ],
  "metadata": {
    "colab": {
      "provenance": []
    },
    "kernelspec": {
      "display_name": "Python 3",
      "name": "python3"
    },
    "language_info": {
      "name": "python"
    }
  },
  "nbformat": 4,
  "nbformat_minor": 0
}