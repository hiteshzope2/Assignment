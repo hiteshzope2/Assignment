{
  "cells": [
    {
      "cell_type": "markdown",
      "source": [
        "#1. Why are functions advantageous to have in your programs?\n",
        "\n",
        "    Ans :  The use of functions makes a program more readable.\n",
        "           The function can be reused countless times after it is defined."
      ],
      "metadata": {
        "id": "sxQnBw7KFKy7"
      }
    },
    {
      "cell_type": "markdown",
      "source": [
        "#2. When does the code in a function run : when it's specified or when it's called?\n",
        "\n",
        "    Ans : The code in a functions runs when it\"s called."
      ],
      "metadata": {
        "id": "4J97OfcxORZH"
      }
    },
    {
      "cell_type": "markdown",
      "source": [
        "#3. What statement creates a function?\n",
        "\n",
        "    Ans : The def statement creates functions"
      ],
      "metadata": {
        "id": "gnm3M4AbS7cT"
      }
    },
    {
      "cell_type": "markdown",
      "source": [
        "#4. What is the difference between a function and a function call?\n",
        "\n",
        "    Ans : A function is a block of code defined seperately outside \n",
        "          the program and A function call is calling the function to execute."
      ],
      "metadata": {
        "id": "eR4d6UxRT7R8"
      }
    },
    {
      "cell_type": "markdown",
      "source": [
        "#5. How many global scopes are there in a Python program? How many local scopes?\n",
        "\n",
        "    Ans : There is one global scope, \n",
        "          And a local scope is created whenever a function is called."
      ],
      "metadata": {
        "id": "kYfe_JI6VEcN"
      }
    },
    {
      "cell_type": "markdown",
      "source": [
        "#6. What happens to variables in a local scope when the function call returns?\n",
        "\n",
        "    Ans :  When a function call returns and its local variables are destroyed."
      ],
      "metadata": {
        "id": "KXqimmVWKVBH"
      }
    },
    {
      "cell_type": "markdown",
      "source": [
        "#7. What is the concept of a return value? Is it possible to have a return value in an expression?\n",
        "\n",
        "    Ans :  A \"return value\" refers to the value that a function or method returns after execution. \n",
        "          And it is possible to have a return value in an expression."
      ],
      "metadata": {
        "id": "tHfUrHC1NfJb"
      }
    },
    {
      "cell_type": "markdown",
      "source": [
        "#8. If a function does not have a return statement, what is the return value of a call to that function?\n",
        "\n",
        "    Ans : It returns value of a call to that function is None."
      ],
      "metadata": {
        "id": "yNvyUv3dQiN_"
      }
    },
    {
      "cell_type": "markdown",
      "source": [
        "#9. How do you make a function variable refer to the global variable?\n",
        "\n",
        "    Ans : Using the global keyword You can use the global keyword to indicate that a variable inside a function should refer to the global variable."
      ],
      "metadata": {
        "id": "ZawidjcgRKeZ"
      }
    },
    {
      "cell_type": "markdown",
      "source": [
        "#10. What is the data type of None?\n",
        "\n",
        "    Ans : The data type of None is Nonetype."
      ],
      "metadata": {
        "id": "w-oKOO9XSDte"
      }
    },
    {
      "cell_type": "markdown",
      "source": [
        "#11. What does the sentence import areallyourpetsnamederic do?\n",
        "\n",
        "    Ans : That import statement imports a module named areallyourpetsnamederic."
      ],
      "metadata": {
        "id": "zwEt272FS0zr"
      }
    },
    {
      "cell_type": "markdown",
      "source": [
        "#12.If you had a bacon() feature in a spam module, what would you call it after importing spam?\n",
        "\n",
        "    Ans : This function can be called with spam.bacon()."
      ],
      "metadata": {
        "id": "OPSORi_SThzn"
      }
    },
    {
      "cell_type": "markdown",
      "source": [
        "#13. What can you do to save a programme from crashing if it encounters an error?\n",
        "\n",
        "    Ans : We can use try-except blocks to catch exceptions and handle them gracefully, rather than letting the programme crash."
      ],
      "metadata": {
        "id": "CfW5V6IST3DI"
      }
    },
    {
      "cell_type": "markdown",
      "source": [
        "#14.What is the purpose of the try clause? What is the purpose of the except clause?\n",
        "\n",
        "    Ans : In try block we can do test for error And in except block we can handle the error. "
      ],
      "metadata": {
        "id": "c5hPpDQ8fkho"
      }
    }
  ],
  "metadata": {
    "colab": {
      "provenance": []
    },
    "kernelspec": {
      "display_name": "Python 3",
      "name": "python3"
    },
    "language_info": {
      "name": "python"
    }
  },
  "nbformat": 4,
  "nbformat_minor": 0
}