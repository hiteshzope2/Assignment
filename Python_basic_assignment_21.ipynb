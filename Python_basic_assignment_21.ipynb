{
 "cells": [
  {
   "cell_type": "code",
   "execution_count": 3,
   "id": "231fd82b-32a9-485b-ac2a-7e9f08f16c8b",
   "metadata": {},
   "outputs": [],
   "source": [
    "#1. Add the current date to the text file today.txt as a string.\n",
    "# Ans:\n",
    "from datetime import date\n",
    "now=date.today()\n",
    "cur_date = now.isoformat()\n",
    "cur_date\n",
    "with open('today.txt', 'w') as file:\n",
    "    file.write(cur_date)"
   ]
  },
  {
   "cell_type": "code",
   "execution_count": 5,
   "id": "e6d1bf02-4267-4798-b6f6-bff8587ddfab",
   "metadata": {},
   "outputs": [
    {
     "data": {
      "text/plain": [
       "'2023-05-14'"
      ]
     },
     "execution_count": 5,
     "metadata": {},
     "output_type": "execute_result"
    }
   ],
   "source": [
    "#2. Read the text file today.txt into the string today_string\n",
    "# Ans:\n",
    "with open('today.txt','r') as file:\n",
    "    today_string=file.read()\n",
    "today_string"
   ]
  },
  {
   "cell_type": "code",
   "execution_count": 6,
   "id": "28b6c772-2d94-4b95-96c6-d2159040d936",
   "metadata": {},
   "outputs": [
    {
     "name": "stdout",
     "output_type": "stream",
     "text": [
      "Year: 2023\n",
      "Month: 5\n",
      "Day: 14\n"
     ]
    }
   ],
   "source": [
    "#3. Parse the date from today_string.\n",
    "# Ans:\n",
    "from datetime import datetime\n",
    "\n",
    "today_string = \"2023-05-14\"\n",
    "today_date = datetime.strptime(today_string, '%Y-%m-%d')\n",
    "year = today_date.year\n",
    "month = today_date.month\n",
    "day = today_date.day\n",
    "\n",
    "print(\"Year:\", year)\n",
    "print(\"Month:\", month)\n",
    "print(\"Day:\", day)"
   ]
  },
  {
   "cell_type": "code",
   "execution_count": 9,
   "id": "c1ac7455-a5a4-4687-baa1-ca9e8faa8a7b",
   "metadata": {},
   "outputs": [
    {
     "data": {
      "text/plain": [
       "['README.md',\n",
       " 'Python_basic_assignment_20.ipynb',\n",
       " 'sample-code.ipynb',\n",
       " 'Python_basic_assignment_21.ipynb',\n",
       " 'Python_basic_assignment_6.ipynb',\n",
       " '.git',\n",
       " '__pycache__',\n",
       " '.ipynb_checkpoints',\n",
       " 'today.txt']"
      ]
     },
     "execution_count": 9,
     "metadata": {},
     "output_type": "execute_result"
    }
   ],
   "source": [
    "#4. List the files in your current directory\n",
    "# Ans:\n",
    "import os\n",
    "os.listdir('.')"
   ]
  },
  {
   "cell_type": "code",
   "execution_count": 19,
   "id": "756c39d0-dece-4c9d-9751-2fbe9208973b",
   "metadata": {},
   "outputs": [
    {
     "name": "stdout",
     "output_type": "stream",
     "text": [
      "List of files in the parent directory:\n",
      ".profile\n",
      ".bash_logout\n",
      ".bashrc\n",
      ".ipython\n",
      ".cache\n",
      ".jupyter\n",
      ".local\n",
      ".conda\n",
      ".config\n",
      ".npm\n",
      ".wget-hsts\n",
      "work\n"
     ]
    }
   ],
   "source": [
    "#5. Create a list of all of the files in your parent directory (minimum five files should be available).\n",
    "# Ans:\n",
    "import os\n",
    "\n",
    "parent_dir = os.path.abspath(os.path.join(os.getcwd(), os.pardir))\n",
    "file_list = os.listdir(parent_dir)\n",
    "\n",
    "print(\"List of files in the parent directory:\")\n",
    "for file_name in file_list:\n",
    "    print(file_name)"
   ]
  },
  {
   "cell_type": "code",
   "execution_count": 2,
   "id": "0ba90c45-e1e5-4ddc-8b34-158bad51c286",
   "metadata": {},
   "outputs": [
    {
     "name": "stdout",
     "output_type": "stream",
     "text": [
      "wait 0.38659381236543244 seconds, time is 2023-05-14 09:04:25.392482\n",
      "wait 0.46814493014825864 seconds, time is 2023-05-14 09:04:25.478534\n",
      "wait 0.8720841694329108 seconds, time is 2023-05-14 09:04:25.886194\n"
     ]
    }
   ],
   "source": [
    "#6. Use multiprocessing to create three separate processes. Make each one wait a random number of\n",
    "#   seconds between one and five, print the current time, and then exit.\n",
    "\n",
    "# Ans:\n",
    "import multiprocessing\n",
    "\n",
    "def printsec(seconds):\n",
    "    from datetime import datetime\n",
    "    from time import sleep\n",
    "    sleep(seconds)\n",
    "    print('wait', seconds, 'seconds, time is', datetime.utcnow())\n",
    "    \n",
    "if __name__ == '__main__':\n",
    "    import random    \n",
    "    for n in range(3):\n",
    "        seconds = random.random()\n",
    "        proc = multiprocessing.Process(target=printsec, args=(seconds,))\n",
    "        proc.start()"
   ]
  },
  {
   "cell_type": "code",
   "execution_count": 8,
   "id": "5ff42333-86e7-447a-801b-0daf12d1014c",
   "metadata": {},
   "outputs": [
    {
     "name": "stdout",
     "output_type": "stream",
     "text": [
      "2001-03-07\n"
     ]
    }
   ],
   "source": [
    "#7. Create a date object of your day of birth.\n",
    "# Ans: \n",
    "from datetime import date\n",
    "date_of_birth = date(2001, 3, 7)\n",
    "print(date_of_birth)"
   ]
  },
  {
   "cell_type": "code",
   "execution_count": 11,
   "id": "65b9a764-a321-416f-8b2e-94502d9f6f4f",
   "metadata": {},
   "outputs": [
    {
     "name": "stdout",
     "output_type": "stream",
     "text": [
      "Wednesday\n"
     ]
    }
   ],
   "source": [
    "#8. What day of the week was your day of birth?\n",
    "# Ans:\n",
    "day_of_week=date_of_birth.weekday()\n",
    "days_of_week = ['Monday', 'Tuesday', 'Wednesday', 'Thursday', 'Friday', 'Saturday', 'Sunday']\n",
    "print(days_of_week[day_of_week])"
   ]
  },
  {
   "cell_type": "code",
   "execution_count": 13,
   "id": "29591847-c4e3-4731-b729-0477f54ea392",
   "metadata": {},
   "outputs": [
    {
     "data": {
      "text/plain": [
       "datetime.date(2028, 7, 23)"
      ]
     },
     "execution_count": 13,
     "metadata": {},
     "output_type": "execute_result"
    }
   ],
   "source": [
    "#9. When will you be (or when were you) 10,000 days old?\n",
    "# Ans:\n",
    "from datetime import timedelta\n",
    "ten_thousand = date_of_birth+ timedelta(days=10000)\n",
    "ten_thousand"
   ]
  },
  {
   "cell_type": "code",
   "execution_count": null,
   "id": "29016f69-2522-46dc-a878-170866bb4e3b",
   "metadata": {},
   "outputs": [],
   "source": []
  }
 ],
 "metadata": {
  "kernelspec": {
   "display_name": "Python 3 (ipykernel)",
   "language": "python",
   "name": "python3"
  },
  "language_info": {
   "codemirror_mode": {
    "name": "ipython",
    "version": 3
   },
   "file_extension": ".py",
   "mimetype": "text/x-python",
   "name": "python",
   "nbconvert_exporter": "python",
   "pygments_lexer": "ipython3",
   "version": "3.10.6"
  }
 },
 "nbformat": 4,
 "nbformat_minor": 5
}
