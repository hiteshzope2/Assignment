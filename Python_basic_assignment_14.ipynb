{
 "cells": [
  {
   "cell_type": "code",
   "execution_count": 12,
   "id": "ae96498a-a58d-4a01-9678-7b48f73c9745",
   "metadata": {},
   "outputs": [],
   "source": [
    "#1. What does RGBA stand for?\n",
    "# Ans: RGBA stands for \"Red Green Blue Alpha\".\n",
    "#      In an RGBA color model, each color is represented by a value between 0 and 255."
   ]
  },
  {
   "cell_type": "code",
   "execution_count": 13,
   "id": "d24e24c9-6142-4e01-ae32-c80a51d29e7b",
   "metadata": {},
   "outputs": [
    {
     "data": {
      "text/plain": [
       "(255, 0, 0, 255)"
      ]
     },
     "execution_count": 13,
     "metadata": {},
     "output_type": "execute_result"
    }
   ],
   "source": [
    "#2. From the Pillow module, how do you get the RGBA value of any images?\n",
    "# Ans:\n",
    "from PIL import ImageColor\n",
    "ImageColor.getcolor('green', 'RGBA')\n",
    "ImageColor.getcolor('red', 'RGBA')"
   ]
  },
  {
   "cell_type": "code",
   "execution_count": 14,
   "id": "0b61aea4-d3df-4af4-a7ee-1d9daf031779",
   "metadata": {},
   "outputs": [],
   "source": [
    "#3. What is a box tuple, and how does it work?\n",
    "# Ans: A box tuple is a tuple of four integers the left-edge x-coordinate, the top-edge y-coordinate, the width, and the height, respectively."
   ]
  },
  {
   "cell_type": "code",
   "execution_count": 15,
   "id": "599ca47e-6bb8-443f-aa59-8ebcc2c63045",
   "metadata": {},
   "outputs": [
    {
     "name": "stdout",
     "output_type": "stream",
     "text": [
      "<PIL.JpegImagePlugin.JpegImageFile image mode=RGB size=250x320 at 0x7F6ADF1269B0>\n",
      "Width: 250\n",
      "Height: 320\n"
     ]
    }
   ],
   "source": [
    "#4. Use your image and load in notebook then, How can you find out the width and height of an Image object?\n",
    "# Ans: To find out the width and height of an Image object using Pillow in a Notebook, \n",
    "#      you can use the size attribute of the Image object. \n",
    "from PIL import Image\n",
    "img = Image.open('photo.jpg')\n",
    "print(img)\n",
    "width, height = img.size\n",
    "print('Width:', width)\n",
    "print('Height:', height)"
   ]
  },
  {
   "cell_type": "code",
   "execution_count": 16,
   "id": "2e47e6a2-8c8f-4c22-bf6b-f7bb5f908461",
   "metadata": {},
   "outputs": [],
   "source": [
    "#5. What method would you call to get Image object for a 100×100 image, excluding the lower-left quarter of it?\n",
    "# Ans: To get an Image object for a 100x100 image, excluding the lower-left quarter of it,\n",
    "#      we can use the crop() method of the Image object. "
   ]
  },
  {
   "cell_type": "code",
   "execution_count": 17,
   "id": "6fea14e5-93c2-4695-90db-337e75ee4cc2",
   "metadata": {},
   "outputs": [],
   "source": [
    "#6. After making changes to an Image object, how could you save it as an image file?\n",
    "# Ans: To save changes made to an Image object as an image file using the Pillow library in Python,\n",
    "#      we can use the save() method of the Image object"
   ]
  },
  {
   "cell_type": "code",
   "execution_count": 18,
   "id": "51e9d0e9-5711-4428-afe2-3f6701815d9c",
   "metadata": {},
   "outputs": [],
   "source": [
    "#7. What module contains Pillow’s shape-drawing code?\n",
    "# Ans: Pillow's shape-drawing code is contained in the ImageDraw module."
   ]
  },
  {
   "cell_type": "code",
   "execution_count": 19,
   "id": "e598ad70-c49e-4f60-a419-1229853d7a3e",
   "metadata": {},
   "outputs": [],
   "source": [
    "#8. Image objects do not have drawing methods. What kind of object does? How do you get this kind of object?\n",
    "# Ans: ImageDraw objects have shape-drawing methods such as point(), line(), or rectangle().\n",
    "#      They are returned by passing the Image object to the ImageDraw.Draw() function"
   ]
  },
  {
   "cell_type": "code",
   "execution_count": null,
   "id": "2017d0e5-813b-438c-8f3e-fbb1c7a03c5b",
   "metadata": {},
   "outputs": [],
   "source": []
  },
  {
   "cell_type": "code",
   "execution_count": null,
   "id": "59d6f52d-eed0-4b63-9366-84af6bdf3015",
   "metadata": {},
   "outputs": [],
   "source": []
  },
  {
   "cell_type": "code",
   "execution_count": null,
   "id": "c40e2b0e-a9e0-443b-bbb7-f3b9ce7cde73",
   "metadata": {},
   "outputs": [],
   "source": []
  }
 ],
 "metadata": {
  "kernelspec": {
   "display_name": "Python 3 (ipykernel)",
   "language": "python",
   "name": "python3"
  },
  "language_info": {
   "codemirror_mode": {
    "name": "ipython",
    "version": 3
   },
   "file_extension": ".py",
   "mimetype": "text/x-python",
   "name": "python",
   "nbconvert_exporter": "python",
   "pygments_lexer": "ipython3",
   "version": "3.10.6"
  }
 },
 "nbformat": 4,
 "nbformat_minor": 5
}
