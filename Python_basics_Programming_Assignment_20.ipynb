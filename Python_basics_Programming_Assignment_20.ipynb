{
 "cells": [
  {
   "cell_type": "code",
   "execution_count": 1,
   "id": "bc53839c-0ad0-4e78-b80d-039c795228eb",
   "metadata": {},
   "outputs": [
    {
     "name": "stdout",
     "output_type": "stream",
     "text": [
      "[1, 2, 3, 4]\n",
      "[0, 1729]\n",
      "[]\n"
     ]
    }
   ],
   "source": [
    "# Question1\n",
    "# Create a function that takes a list of strings and integers, and filters out the list so that it\n",
    "# returns a list of integers only.\n",
    "# Examples \n",
    "# filter_list([1, 2, 3, 'a', 'b', 4]) ➞ [1, 2, 3, 4] \n",
    "# filter_list(['A', 0, 'Edabit', 1729, 'Python', '1729']) ➞ [0, 1729]\n",
    "# filter_list(['Nothing', 'here']) ➞ []\n",
    "\n",
    "# Ans:\n",
    "def filter_list(lst):\n",
    "    return [x for x in lst if isinstance(x, int)]\n",
    "print(filter_list([1, 2, 3, 'a', 'b', 4]))                           \n",
    "print(filter_list(['A', 0, 'Edabit', 1729, 'Python', '1729']))      \n",
    "print(filter_list(['Nothing', 'here']))   "
   ]
  },
  {
   "cell_type": "code",
   "execution_count": 2,
   "id": "f339ad80-ddcf-4560-baed-59d6f3adc46b",
   "metadata": {},
   "outputs": [
    {
     "name": "stdout",
     "output_type": "stream",
     "text": [
      "[0, 1, 2, 3, 4]\n",
      "[1, 3, 5, 7, 9]\n",
      "[5, 5, 5, 5, 5]\n"
     ]
    }
   ],
   "source": [
    "# Question2\n",
    "# Given a list of numbers, create a function which returns the list but with each element's\n",
    "# index in the list added to itself. This means you add 0 to the number at index 0, add 1 to the\n",
    "# number at index 1, etc...\n",
    "# Examples\n",
    "# add_indexes([0, 0, 0, 0, 0]) ➞ [0, 1, 2, 3, 4]\n",
    "# add_indexes([1, 2, 3, 4, 5]) ➞ [1, 3, 5, 7, 9]\n",
    "# add_indexes([5, 4, 3, 2, 1]) ➞ [5, 5, 5, 5, 5]\n",
    "\n",
    "# Ans:\n",
    "def add_indexes(lst):\n",
    "    return [num + idx for idx, num in enumerate(lst)]\n",
    "print(add_indexes([0, 0, 0, 0, 0]))      \n",
    "print(add_indexes([1, 2, 3, 4, 5]))     \n",
    "print(add_indexes([5, 4, 3, 2, 1])) "
   ]
  },
  {
   "cell_type": "code",
   "execution_count": 3,
   "id": "58a83ab7-7357-4c03-8272-7c858ffe05c5",
   "metadata": {},
   "outputs": [
    {
     "name": "stdout",
     "output_type": "stream",
     "text": [
      "12.57\n",
      "565.49\n",
      "0.0\n"
     ]
    }
   ],
   "source": [
    "# Question3\n",
    "# Create a function that takes the height and radius of a cone as arguments and returns the\n",
    "# volume of the cone rounded to the nearest hundredth. See the resources tab for the formula.\n",
    "\n",
    "# Examples\n",
    "# cone_volume(3, 2) ➞ 12.57\n",
    "# cone_volume(15, 6) ➞ 565.49\n",
    "# cone_volume(18, 0) ➞ 0\n",
    "\n",
    "# Ans:\n",
    "import math\n",
    "\n",
    "def cone_volume(height, radius):\n",
    "    volume = (1/3) * math.pi * (radius**2) * height\n",
    "    return round(volume, 2)\n",
    "print(cone_volume(3, 2))     \n",
    "print(cone_volume(15, 6))    \n",
    "print(cone_volume(18, 0))   "
   ]
  },
  {
   "cell_type": "code",
   "execution_count": 4,
   "id": "a180ea97-2d11-49d1-9e26-f04ff2c38a98",
   "metadata": {},
   "outputs": [
    {
     "name": "stdout",
     "output_type": "stream",
     "text": [
      "1\n",
      "21\n",
      "23220\n"
     ]
    }
   ],
   "source": [
    "# Question4\n",
    "# This Triangular Number Sequence is generated from a pattern of dots that form a triangle.\n",
    "# The first 5 numbers of the sequence, or dots, are:\n",
    "# 1, 3, 6, 10, 15\n",
    "# This means that the first triangle has just one dot, the second one has three dots, the third one\n",
    "# has 6 dots and so on.\n",
    "# Write a function that gives the number of dots with its corresponding triangle number of the\n",
    "# sequence.\n",
    "# Examples\n",
    "# triangle(1) ➞ 1\n",
    "# triangle(6) ➞ 21\n",
    "# triangle(215) ➞ 23220\n",
    "\n",
    "# Ans:\n",
    "def triangle(n):\n",
    "    return (n * (n + 1)) // 2\n",
    "print(triangle(1))\n",
    "print(triangle(6))      \n",
    "print(triangle(215))"
   ]
  },
  {
   "cell_type": "code",
   "execution_count": 5,
   "id": "cb42bd77-fa4f-4441-a71a-0a4d1d789d24",
   "metadata": {},
   "outputs": [
    {
     "name": "stdout",
     "output_type": "stream",
     "text": [
      "5.0\n",
      "10.0\n",
      "7.0\n"
     ]
    }
   ],
   "source": [
    "# Question5\n",
    "# Create a function that takes a list of numbers between 1 and 10 (excluding one number) and\n",
    "# returns the missing number.\n",
    "# Examples\n",
    "# missing_num([1, 2, 3, 4, 6, 7, 8, 9, 10]) ➞ 5\n",
    "# missing_num([7, 2, 3, 6, 5, 9, 1, 4, 8]) ➞ 10\n",
    "# missing_num([10, 5, 1, 2, 4, 6, 8, 3, 9]) ➞ 7\n",
    "\n",
    "# Ans:\n",
    "def missing_num(numbers):\n",
    "    total_sum = (10 / 2) * (1 + 10)  \n",
    "    list_sum = sum(numbers)  \n",
    "    missing_number = total_sum - list_sum\n",
    "    return missing_number\n",
    "print(missing_num([1, 2, 3, 4, 6, 7, 8, 9, 10]))     \n",
    "print(missing_num([7, 2, 3, 6, 5, 9, 1, 4, 8]))        \n",
    "print(missing_num([10, 5, 1, 2, 4, 6, 8, 3, 9]))"
   ]
  },
  {
   "cell_type": "code",
   "execution_count": null,
   "id": "11b1eeae-1f62-4da9-98a1-be30f7c477b1",
   "metadata": {},
   "outputs": [],
   "source": [
    " "
   ]
  }
 ],
 "metadata": {
  "kernelspec": {
   "display_name": "Python 3 (ipykernel)",
   "language": "python",
   "name": "python3"
  },
  "language_info": {
   "codemirror_mode": {
    "name": "ipython",
    "version": 3
   },
   "file_extension": ".py",
   "mimetype": "text/x-python",
   "name": "python",
   "nbconvert_exporter": "python",
   "pygments_lexer": "ipython3",
   "version": "3.10.6"
  }
 },
 "nbformat": 4,
 "nbformat_minor": 5
}
