{
  "cells": [
    {
      "cell_type": "markdown",
      "metadata": {
        "id": "27oG-4QsS_xd"
      },
      "source": [
        "#1.What are the two values of the Boolean data type? How do you write them?\n",
        "\n",
        "\n",
        "    Ans  =  There are two values of the boolean data type that are True and False.\n",
        "\n",
        "            we write them as True and False."
      ]
    },
    {
      "cell_type": "markdown",
      "metadata": {
        "id": "rLxEGVObT18h"
      },
      "source": [
        "#2. What are the three different types of Boolean operators?\n",
        "\n",
        "    Ans = Three different types of boolean opearators are AND, OR and NOT"
      ]
    },
    {
      "cell_type": "markdown",
      "metadata": {
        "id": "kK1LOX0_WXmZ"
      },
      "source": [
        "#3. Make a list of each Boolean operator's truth tables (i.e. every possible combination of Boolean values for the operator and what it evaluate ).\n",
        "\n",
        "    AND Truth table:\n",
        "    True and True is True.\n",
        "    True and False is False.\n",
        "    False and True is False.\n",
        "    False and False is False.\n",
        "\n",
        "\n",
        "    OR Truth table:\n",
        "    True or True is True.\n",
        "    True or False is True.\n",
        "    False or True is True.\n",
        "    False or False is False.\n",
        "\n",
        "\n",
        "    NOT Truth table:\n",
        "    not True = False\n",
        "    not False = True"
      ]
    },
    {
      "cell_type": "markdown",
      "metadata": {
        "id": "SY2R7wi5UlOm"
      },
      "source": [
        "#4. What are the values of the following expressions?\n",
        "\n",
        "    (5 > 4) and (3 == 5)\n",
        "    Ans = False\n",
        "\n",
        "    not (5 > 4) \n",
        "    Ans = False\n",
        "\n",
        "    (5 > 4) or (3 == 5)\n",
        "    Ans = True \n",
        "\n",
        "    not ((5 > 4) or (3 == 5))\n",
        "    Ans = False \n",
        "\n",
        "    (True and True) and (True == False)\n",
        "    Ans = False \n",
        "\n",
        "    (not False) or (not True)\n",
        "    Ans = True\n"
      ]
    },
    {
      "cell_type": "markdown",
      "metadata": {
        "id": "V9YmFPZ3ZPok"
      },
      "source": [
        "#5. What are the six comparison operators?\n",
        "\n",
        "    == : Equal to\n",
        "    != : not equal to\n",
        "    >  : greater than\n",
        "    <  : samller than\n",
        "    >= : greater than or equal to\n",
        "    <= : smaller than or equal to "
      ]
    },
    {
      "cell_type": "markdown",
      "metadata": {
        "id": "_nPtfSxYa8GL"
      },
      "source": [
        "#6. How do you tell the difference between the equal to and assignment operators?Describe a condition and when you would use one.\n",
        "\n",
        "    Ans = Equal to operator compares values and give answer in boolean value\n",
        "    and assignment operators used to store the value in variable by assigning.\n",
        "\n",
        "    True==True\n",
        "    This is example of equal to and we use this to compare two condition.\n",
        "\n",
        "    Ineuron=\"The best\"\n",
        "    This is example of assignment operator and we use this to store value in variable.\n"
      ]
    },
    {
      "cell_type": "markdown",
      "metadata": {
        "id": "hkc4HfV1eOAD"
      },
      "source": [
        "#7.Identify the three blocks in this code: \n",
        "\n",
        "    spam = 0 \n",
        "    if spam == 10: \n",
        "    print('eggs') \n",
        "    if spam > 5:\n",
        "    print('bacon') \n",
        "    else: \n",
        "    print('ham') \n",
        "    print('spam')\n",
        "    print('spam')\n",
        "\n",
        "    There are three blocks in the if statement \n",
        "    block 1-print('eggs')\n",
        "    block 2-if spam > 5:\n",
        "            print('bacon')\n",
        "    block 3-else:\n",
        "            print('ham')\n",
        "            print('spam')\n",
        " \n"
      ]
    },
    {
      "cell_type": "markdown",
      "metadata": {
        "id": "7hj_AVS3zfp8"
      },
      "source": [
        "#8. Write code that prints Hello if 1 is stored in spam, prints Howdy if 2 is stored in spam, and prints Greetings! if anything else is stored in spam."
      ]
    },
    {
      "cell_type": "code",
      "execution_count": 11,
      "metadata": {
        "colab": {
          "base_uri": "https://localhost:8080/"
        },
        "id": "xh-G0zr4zkcN",
        "outputId": "d2a64f71-0344-439d-84e3-ff73a56c10df"
      },
      "outputs": [
        {
          "name": "stdout",
          "output_type": "stream",
          "text": [
            "Enter the number: 52\n",
            "Greetings!\n"
          ]
        }
      ],
      "source": [
        "spam=int(input(\"Enter the number: \"))\n",
        "if spam==1:\n",
        "  print(\"Hello\")\n",
        "elif spam==2:\n",
        "  print(\"Howdy\")\n",
        "else:\n",
        "  print(\"Greetings!\")"
      ]
    },
    {
      "cell_type": "markdown",
      "metadata": {
        "id": "c0sCMYX-0rqM"
      },
      "source": [
        "#9.If your programme is stuck in an endless loop, what keys you’ll press?\n",
        "\n",
        "    Ans = Ctrl + C\n",
        "\n"
      ]
    },
    {
      "cell_type": "markdown",
      "metadata": {
        "id": "IQKJCbtK1DIx"
      },
      "source": [
        "#10. How can you tell the difference between break and continue?\n",
        "\n",
        "    break = Break will stop the current loop at given condition and jump out of the programme.\n",
        "          \n",
        "    continue = Continue means skip the current iteration and continue to iterate the next interation. "
      ]
    },
    {
      "cell_type": "markdown",
      "metadata": {
        "id": "W849CqFD4DzZ"
      },
      "source": [
        "#11. In a for loop, what is the difference between range(10), range(0, 10), and  range(0, 10, 1)?\n",
        "\n",
        "\n",
        "    range(10) = In this range, loop starts from 0 to 9 because last number is\n",
        "                exclusive and starting number is always starts with 0.\n",
        "                There is only one argument given as stop value.\n",
        "\n",
        "    range(0,10) = In this range loop start from 0 to 9 last number is exclusive.\n",
        "                  there are two argument start value and stop value.\n",
        "\n",
        "    range(0,10,1) = In this range loop starts from 0 to 9 it has start value \n",
        "                    stop value and step value, with the step value loop increment by the\n",
        "                    given step value  but in this case step value is 1. \n",
        "                    The value of step value is always one if we do not give any value for\n",
        "                    step value"
      ]
    },
    {
      "cell_type": "markdown",
      "metadata": {
        "id": "d2oAcdheF59Q"
      },
      "source": [
        "#12. Write a short program that prints the numbers 1 to 10 using a for loop. Then write an equivalent program that prints the numbers 1 to 10 using a while loop."
      ]
    },
    {
      "cell_type": "code",
      "execution_count": 15,
      "metadata": {
        "colab": {
          "base_uri": "https://localhost:8080/"
        },
        "id": "AMo3AhwqGJeH",
        "outputId": "6a49e8bd-dc4b-438b-9af3-4202d97ce300"
      },
      "outputs": [
        {
          "name": "stdout",
          "output_type": "stream",
          "text": [
            "1\n",
            "2\n",
            "3\n",
            "4\n",
            "5\n",
            "6\n",
            "7\n",
            "8\n",
            "9\n",
            "10\n"
          ]
        }
      ],
      "source": [
        "for i in range(1,11):\n",
        "  print(i)"
      ]
    },
    {
      "cell_type": "code",
      "execution_count": 18,
      "metadata": {
        "colab": {
          "base_uri": "https://localhost:8080/"
        },
        "id": "OLIdhG40GQyE",
        "outputId": "244a3e23-3c51-47ce-e987-c772af12ec5f"
      },
      "outputs": [
        {
          "name": "stdout",
          "output_type": "stream",
          "text": [
            "1\n",
            "2\n",
            "3\n",
            "4\n",
            "5\n",
            "6\n",
            "7\n",
            "8\n",
            "9\n",
            "10\n"
          ]
        }
      ],
      "source": [
        "i=1\n",
        "while i<=10:\n",
        "  print(i)\n",
        "  i=i+1"
      ]
    },
    {
      "cell_type": "markdown",
      "metadata": {
        "id": "bcV2bYyoGpGR"
      },
      "source": [
        "#13. If you had a function named bacon() inside a module named spam, how would you call it after importing spam?\n",
        "\n",
        "    Ans = This is how We can call it after importing spam : \n",
        "          spam.bacon()"
      ]
    }
  ],
  "metadata": {
    "colab": {
      "collapsed_sections": [],
      "provenance": []
    },
    "kernelspec": {
      "display_name": "Python 3",
      "name": "python3"
    },
    "language_info": {
      "name": "python"
    }
  },
  "nbformat": 4,
  "nbformat_minor": 0
}
