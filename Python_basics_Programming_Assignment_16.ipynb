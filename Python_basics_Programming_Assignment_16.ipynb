{
 "cells": [
  {
   "cell_type": "code",
   "execution_count": 2,
   "id": "c724a0f9-8192-442c-9355-527e31e4f969",
   "metadata": {},
   "outputs": [
    {
     "name": "stdin",
     "output_type": "stream",
     "text": [
      "Enter word :  unpredictable\n"
     ]
    },
    {
     "name": "stdout",
     "output_type": "stream",
     "text": [
      "un... un... unpredictable?\n"
     ]
    }
   ],
   "source": [
    "# Question1. Write a function that stutters a word as if someone is struggling to read it. The\n",
    "# first two letters are repeated twice with an ellipsis ... and space after each, and then the\n",
    "# word is pronounced with a question mark ?.\n",
    "# Examples\n",
    "# stutter('incredible') ➞ 'in... in... incredible?'\n",
    "# stutter('enthusiastic') ➞ 'en... en... enthusiastic?'\n",
    "# stutter('outstanding') ➞ 'ou... ou... outstanding?'\n",
    "\n",
    "# Hint :- Assume all input is in lower case and at least two characters long.\n",
    "\n",
    "# Ans:\n",
    "def stutter(word):\n",
    "    return (2*(word[:2]+'... '))+word+'?'\n",
    "word = input('Enter word : ')\n",
    "print(stutter(word))"
   ]
  },
  {
   "cell_type": "code",
   "execution_count": 3,
   "id": "30f40729-5206-4bb4-8020-b45034399ae1",
   "metadata": {},
   "outputs": [
    {
     "name": "stdout",
     "output_type": "stream",
     "text": [
      "57.3\n",
      "1145.9\n",
      "2864.8\n"
     ]
    }
   ],
   "source": [
    "# Question 2.Create a function that takes an angle in radians and returns the corresponding\n",
    "# angle in degrees rounded to one decimal place.\n",
    "# Examples\n",
    "# radians_to_degrees(1) ➞ 57.3\n",
    "# radians_to_degrees(20) ➞ 1145.9\n",
    "# radians_to_degrees(50) ➞ 2864.8\n",
    "\n",
    "# Ans:\n",
    "import math\n",
    "\n",
    "def radians_to_degrees(radians):\n",
    "    degrees = radians * (180 / math.pi)\n",
    "    return round(degrees, 1)\n",
    "print(radians_to_degrees(1))  \n",
    "print(radians_to_degrees(20)) \n",
    "print(radians_to_degrees(50)) "
   ]
  },
  {
   "cell_type": "code",
   "execution_count": 4,
   "id": "411dc98f-2593-48b6-acd0-9400e7470e12",
   "metadata": {},
   "outputs": [
    {
     "name": "stdout",
     "output_type": "stream",
     "text": [
      "True\n",
      "False\n",
      "True\n"
     ]
    }
   ],
   "source": [
    "# Question 3. In this challenge, establish if a given integer num is a Curzon number. If 1 plus\n",
    "# 2 elevated to num is exactly divisible by 1 plus 2 multiplied by num, then num is a Curzon\n",
    "# number.\n",
    "# Given a non-negative integer num, implement a function that returns True if num is a Curzon\n",
    "# number, or False otherwise.\n",
    "# Examples\n",
    "# is_curzon(5) ➞ True\n",
    "# # 2 ** 5 + 1 = 33\n",
    "# # 2 * 5 + 1 = 11\n",
    "# # 33 is a multiple of 11\n",
    "# is_curzon(10) ➞ False\n",
    "# # 2 ** 10 + 1 = 1025\n",
    "# # 2 * 10 + 1 = 21\n",
    "# # 1025 is not a multiple of 21\n",
    "# is_curzon(14) ➞ True\n",
    "# # 2 ** 14 + 1 = 16385\n",
    "# # 2 * 14 + 1 = 29\n",
    "# # 16385 is a multiple of 29\n",
    "\n",
    "# Ans:\n",
    "def is_curzon(num):\n",
    "    numerator = 2 ** num + 1\n",
    "    denominator = 2 * num + 1\n",
    "    return numerator % denominator == 0\n",
    "print(is_curzon(5))   \n",
    "print(is_curzon(10))  \n",
    "print(is_curzon(14))  "
   ]
  },
  {
   "cell_type": "code",
   "execution_count": 5,
   "id": "53709380-e4b4-47db-b9b7-49a2f76decb7",
   "metadata": {},
   "outputs": [
    {
     "name": "stdout",
     "output_type": "stream",
     "text": [
      "2.6\n",
      "10.4\n",
      "23.4\n"
     ]
    }
   ],
   "source": [
    "# Question 4.Given the side length x find the area of a hexagon.\n",
    "\n",
    "# Examples\n",
    "# area_of_hexagon(1) ➞ 2.6\n",
    "# area_of_hexagon(2) ➞ 10.4\n",
    "# area_of_hexagon(3) ➞ 23.4\n",
    "\n",
    "# Ans:\n",
    "import math\n",
    "\n",
    "def area_of_hexagon(x):\n",
    "    area = (3 * math.sqrt(3) * x ** 2) / 2\n",
    "    return round(area, 1)\n",
    "print(area_of_hexagon(1))  \n",
    "print(area_of_hexagon(2))  \n",
    "print(area_of_hexagon(3)) "
   ]
  },
  {
   "cell_type": "code",
   "execution_count": 6,
   "id": "157e7643-94a3-45f9-9328-084249d100f9",
   "metadata": {},
   "outputs": [
    {
     "name": "stdout",
     "output_type": "stream",
     "text": [
      "1\n",
      "101\n",
      "1010\n"
     ]
    }
   ],
   "source": [
    "# Question 5. Create a function that returns a base-2 (binary) representation of a base-10\n",
    "# (decimal) string number. To convert is simple: ((2) means base-2 and (10) means base-10)\n",
    "# 010101001(2) = 1 + 8 + 32 + 128.\n",
    "# Going from right to left, the value of the most right bit is 1, now from that every bit to the left\n",
    "# will be x2 the value, value of an 8 bit binary numbers are (256, 128, 64, 32, 16, 8, 4, 2, 1).\n",
    "# Examples\n",
    "# binary(1) ➞ '1'\n",
    "# # 1*1 = 1\n",
    "# binary(5) ➞'101'\n",
    "# # 1*1 + 1*4 = 5\n",
    "# binary(10) ➞ '10'\n",
    "# # 1*2 + 1*8 = 10\n",
    "\n",
    "# Ans:\n",
    "def binary(decimal):\n",
    "    if decimal == 0:\n",
    "        return \"0\"\n",
    "\n",
    "    binary_repr = \"\"\n",
    "    while decimal > 0:\n",
    "        binary_repr = str(decimal % 2) + binary_repr\n",
    "        decimal //= 2\n",
    "\n",
    "    return binary_repr\n",
    "print(binary(1)) \n",
    "print(binary(5))   \n",
    "print(binary(10)) "
   ]
  },
  {
   "cell_type": "code",
   "execution_count": null,
   "id": "3c06adb4-e0ff-4e94-a121-9b719b117fa2",
   "metadata": {},
   "outputs": [],
   "source": []
  }
 ],
 "metadata": {
  "kernelspec": {
   "display_name": "Python 3 (ipykernel)",
   "language": "python",
   "name": "python3"
  },
  "language_info": {
   "codemirror_mode": {
    "name": "ipython",
    "version": 3
   },
   "file_extension": ".py",
   "mimetype": "text/x-python",
   "name": "python",
   "nbconvert_exporter": "python",
   "pygments_lexer": "ipython3",
   "version": "3.10.6"
  }
 },
 "nbformat": 4,
 "nbformat_minor": 5
}
