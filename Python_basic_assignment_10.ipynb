{
 "cells": [
  {
   "cell_type": "code",
   "execution_count": 1,
   "id": "ccde1d97-427e-4db4-bf2c-4be8a793c766",
   "metadata": {},
   "outputs": [],
   "source": [
    "#1. How do you distinguish between shutil.copy() and shutil.copytree()?\n",
    "# Ans: shutil.copy(): This function is used to copy a single file from one location to another and shutil.copytree(): This function is used to recursively copy a directory and all of its contents to a new location."
   ]
  },
  {
   "cell_type": "code",
   "execution_count": 2,
   "id": "eaf41a65-8d8a-48b6-b445-b13b0e43c22d",
   "metadata": {},
   "outputs": [],
   "source": [
    "#2. What function is used to rename files??\n",
    "# Ans: The os.rename() function is used to rename files. "
   ]
  },
  {
   "cell_type": "code",
   "execution_count": 3,
   "id": "50bb09ce-296d-4a73-8185-32200cb154c4",
   "metadata": {},
   "outputs": [],
   "source": [
    "#3. What is the difference between the delete functions in the send2trash and shutil modules?\n",
    "# Ans: The send2trash module is used to move files and directories to the operating system's trash or recycle bin instead of permanently deleting them and The shutil module provides the os.remove() function to delete files and the shutil.rmtree() function to delete directories and their contents. These functions permanently delete the files."
   ]
  },
  {
   "cell_type": "code",
   "execution_count": 4,
   "id": "2798b4bc-c0a9-4df4-8b1b-dc13ea1eef07",
   "metadata": {},
   "outputs": [],
   "source": [
    "#4.ZipFile objects have a close() method just like File objects’ close() method. What ZipFile method is equivalent to File objects’ open() method?\n",
    "# Ans: The equivalent method to File objects' open() method for ZipFile objects is also ZipFile's open() method."
   ]
  },
  {
   "cell_type": "code",
   "execution_count": 7,
   "id": "a3582e07-4ec4-42c9-989c-6a277876ba62",
   "metadata": {},
   "outputs": [
    {
     "name": "stdout",
     "output_type": "stream",
     "text": [
      "Looking in /home/jovyan/work/randomFolder for files with extensions of .pdf, .jpg\n"
     ]
    }
   ],
   "source": [
    "#5. Create a programme that searches a folder tree for files with a certain file extension (such as .pdf or .jpg). Copy these files from whatever location they are in to a new folder.\n",
    "# Ans: \n",
    "\n",
    "import os, shutil\n",
    "\n",
    "def selectiveCopy(folder, extensions, destFolder):\n",
    "\tfolder = os.path.abspath(folder)\n",
    "\tdestFolder = os.path.abspath(destFolder)\n",
    "\tprint('Looking in', folder, 'for files with extensions of', ', '.join(extensions))\n",
    "\tfor foldername, subfolders, filenames in os.walk(folder):\n",
    "\t\tfor filename in filenames:\n",
    "\t\t\tname, extension = os.path.splitext(filename)\n",
    "\t\t\tif extension in extensions:\n",
    "\t\t\t\tfileAbsPath = foldername + os.path.sep + filename\n",
    "\t\t\t\tprint('Coping', fileAbsPath, 'to', destFolder)\n",
    "\t\t\t\tshutil.copy(fileAbsPath, destFolder)\n",
    "\n",
    "extensions = ['.pdf', '.jpg']\n",
    "folder = 'randomFolder'\n",
    "destFolder = 'selectiveFolder'\n",
    "selectiveCopy(folder, extensions, destFolder"
   ]
  },
  {
   "cell_type": "code",
   "execution_count": null,
   "id": "6544403c-5724-410c-814e-dc3666e7b33e",
   "metadata": {},
   "outputs": [],
   "source": [
    "#5. Create a programme that searches a folder tree for files with a certain file extension (such as .pdf or .jpg). Copy these files from whatever location they are in to a new folder.\n",
    "# Ans: \n",
    "\n",
    "import os, shutil\n",
    "\n",
    "def selectiveCopy(folder, extensions, destFolder):\n",
    "\tfolder = os.path.abspath(folder)\n",
    "\tdestFolder = os.path.abspath(destFolder)\n",
    "\tprint('Looking in', folder, 'for files with extensions of', ', '.join(extensions))\n",
    "\tfor foldername, subfolders, filenames in os.walk(folder):\n",
    "\t\tfor filename in filenames:\n",
    "\t\t\tname, extension = os.path.splitext(filename)\n",
    "\t\t\tif extension in extensions:\n",
    "\t\t\t\tfileAbsPath = foldername + os.path.sep + filename\n",
    "\t\t\t\tprint('Coping', fileAbsPath, 'to', destFolder)\n",
    "\t\t\t\tshutil.copy(fileAbsPath, destFolder)\n",
    "\n",
    "extensions = ['.pdf', '.jpg']\n",
    "folder = 'randomFolder'\n",
    "destFolder = 'selectiveFolder'\n",
    "selectiveCopy(folder, extensions, destFolder)"
   ]
  }
 ],
 "metadata": {
  "kernelspec": {
   "display_name": "Python 3 (ipykernel)",
   "language": "python",
   "name": "python3"
  },
  "language_info": {
   "codemirror_mode": {
    "name": "ipython",
    "version": 3
   },
   "file_extension": ".py",
   "mimetype": "text/x-python",
   "name": "python",
   "nbconvert_exporter": "python",
   "pygments_lexer": "ipython3",
   "version": "3.10.6"
  }
 },
 "nbformat": 4,
 "nbformat_minor": 5
}
