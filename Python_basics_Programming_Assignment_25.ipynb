{
 "cells": [
  {
   "cell_type": "code",
   "execution_count": 1,
   "id": "2f55abc0-b0ac-4d52-82fb-84e665fd1d39",
   "metadata": {},
   "outputs": [
    {
     "name": "stdout",
     "output_type": "stream",
     "text": [
      "2\n",
      "3\n",
      "0\n"
     ]
    }
   ],
   "source": [
    "# Question1\n",
    "# Create a function that takes three integer arguments (a, b, c) and returns the amount of\n",
    "# integers which are of equal value.\n",
    "# Examples\n",
    "# equal(3, 4, 3) ➞ 2\n",
    "# equal(1, 1, 1) ➞ 3\n",
    "# equal(3, 4, 1) ➞ 0\n",
    "# Notes\n",
    "# Your function must return 0, 2 or 3.\n",
    "\n",
    "# Ans:\n",
    "def equal(a, b, c):\n",
    "    if a == b == c:\n",
    "        return 3\n",
    "    elif a == b or b == c or a == c:\n",
    "        return 2\n",
    "    else:\n",
    "        return 0\n",
    "print(equal(3, 4, 3))  \n",
    "print(equal(1, 1, 1))  \n",
    "print(equal(3, 4, 1))"
   ]
  },
  {
   "cell_type": "code",
   "execution_count": 3,
   "id": "ec8c994a-d3d4-4f6e-91b9-d3154b183cca",
   "metadata": {},
   "outputs": [
    {
     "name": "stdout",
     "output_type": "stream",
     "text": [
      "[('B', 2), ('C', 3), ('D', 1)]\n",
      "[('dislikes', 3), ('followers', 10), ('likes', 2)]\n"
     ]
    }
   ],
   "source": [
    "# Question2\n",
    "# Write a function that converts a dictionary into a list of keys-values tuples.\n",
    "# Examples \n",
    "# dict_to_list({ 'D': 1, 'B': 2, 'C': 3 }) ➞ [('B', 2), ('C', 3), ('D', 1)]\n",
    "# dict_to_list({ 'likes': 2, 'dislikes': 3, 'followers': 10 }) ➞ [('dislikes', 3), ('followers', 10), ('likes', 2)] \n",
    "# Notes Return the elements in the list in alphabetical order.\n",
    "\n",
    "#Ans:\n",
    "def dict_to_list(dictionary):\n",
    "    return sorted(dictionary.items())\n",
    "print(dict_to_list({'D': 1, 'B': 2, 'C': 3}))  \n",
    "print(dict_to_list({'likes': 2, 'dislikes': 3, 'followers': 10}))  \n"
   ]
  },
  {
   "cell_type": "code",
   "execution_count": 4,
   "id": "7ca1267a-2c51-4437-af4a-067aef457ead",
   "metadata": {},
   "outputs": [
    {
     "name": "stdout",
     "output_type": "stream",
     "text": [
      "{'p': 'P', 's': 'S'}\n",
      "{'a': 'A', 'b': 'B', 'c': 'C'}\n",
      "{'a': 'A', 'v': 'V', 'y': 'Y', 'z': 'Z'}\n"
     ]
    }
   ],
   "source": [
    "# Question3\n",
    "# Write a function that creates a dictionary with each (key, value) pair being the (lower case,\n",
    "# upper case) versions of a letter, respectively.\n",
    "# Examples\n",
    "# mapping(['p', 's']) ➞ { 'p': 'P', 's': 'S' }\n",
    "# mapping(['a', 'b', 'c']) ➞ { 'a': 'A', 'b': 'B', 'c': 'C' }\n",
    "# mapping(['a', 'v', 'y', 'z']) ➞ { 'a': 'A', 'v': 'V', 'y': 'Y', 'z': 'Z' } \n",
    "# Notes \n",
    "# All of the letters in the input list will always be lowercase.\n",
    "\n",
    "# Ans:\n",
    "def mapping(letters):\n",
    "    return {letter: letter.upper() for letter in letters}\n",
    "print(mapping(['p', 's']))  \n",
    "print(mapping(['a', 'b', 'c']))  \n",
    "print(mapping(['a', 'v', 'y', 'z']))  "
   ]
  },
  {
   "cell_type": "code",
   "execution_count": 5,
   "id": "0bcef585-b13e-4e29-989a-7a1efe685c9f",
   "metadata": {},
   "outputs": [
    {
     "name": "stdout",
     "output_type": "stream",
     "text": [
      "upplus und bununus\n",
      "chooso cossorolo\n",
      "steffed jelepene peppers\n"
     ]
    }
   ],
   "source": [
    "# Question4\n",
    "# Write a function, that replaces all vowels in a string with a specified vowel.\n",
    "# Examples \n",
    "# vow_replace('apples and bananas', 'u') ➞ 'upplus und bununus' \n",
    "# vow_replace('cheese casserole', 'o') ➞ 'chooso cossorolo' \n",
    "# vow_replace('stuffed jalapeno poppers', 'e') ➞ 'steffed jelepene peppers'\n",
    "# Notes\n",
    "# All words will be lowercase. Y is not considered a vowel.\n",
    "\n",
    "# Ans:\n",
    "def vow_replace(string, vowel):\n",
    "    vowels = 'aeiou'\n",
    "    for v in vowels:\n",
    "        string = string.replace(v, vowel)\n",
    "    return string\n",
    "print(vow_replace('apples and bananas', 'u'))  \n",
    "print(vow_replace('cheese casserole', 'o'))  \n",
    "print(vow_replace('stuffed jalapeno poppers', 'e'))"
   ]
  },
  {
   "cell_type": "code",
   "execution_count": 6,
   "id": "1c87c0f2-2b2e-4e4b-ae00-aea74bdb6943",
   "metadata": {},
   "outputs": [
    {
     "name": "stdout",
     "output_type": "stream",
     "text": [
      "To Be oR NoT To Be!\n",
      "THe LiTTLe meRmaiD\n",
      "oH wHaT a BeauTiFuL moRNiNg.\n"
     ]
    }
   ],
   "source": [
    "# Question5\n",
    "# Create a function that takes a string as input and capitalizes a letter if its ASCII code is even\n",
    "# and returns its lower case version if its ASCII code is odd.\n",
    "# Examples\n",
    "# ascii_capitalize('to be or not to be!') ➞ 'To Be oR NoT To Be!' \n",
    "# ascii_capitalize('THE LITTLE MERMAID') ➞ 'THe LiTTLe meRmaiD' \n",
    "# ascii_capitalize('Oh what a beautiful morning.') ➞ 'oH wHaT a BeauTiFuL moRNiNg.'\n",
    "\n",
    "# Ans:\n",
    "def ascii_capitalize(string):\n",
    "    result = ''\n",
    "    for char in string:\n",
    "        if ord(char) % 2 == 0:\n",
    "            result += char.upper()\n",
    "        else:\n",
    "            result += char.lower()\n",
    "    return result\n",
    "print(ascii_capitalize('to be or not to be!'))  \n",
    "print(ascii_capitalize('THE LITTLE MERMAID'))  \n",
    "print(ascii_capitalize('Oh what a beautiful morning.'))  "
   ]
  },
  {
   "cell_type": "code",
   "execution_count": null,
   "id": "9c27a2c5-3485-4b86-a24d-4799815e03e3",
   "metadata": {},
   "outputs": [],
   "source": []
  }
 ],
 "metadata": {
  "kernelspec": {
   "display_name": "Python 3 (ipykernel)",
   "language": "python",
   "name": "python3"
  },
  "language_info": {
   "codemirror_mode": {
    "name": "ipython",
    "version": 3
   },
   "file_extension": ".py",
   "mimetype": "text/x-python",
   "name": "python",
   "nbconvert_exporter": "python",
   "pygments_lexer": "ipython3",
   "version": "3.10.6"
  }
 },
 "nbformat": 4,
 "nbformat_minor": 5
}
