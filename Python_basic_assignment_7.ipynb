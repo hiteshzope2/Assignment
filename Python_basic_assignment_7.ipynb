{
 "cells": [
  {
   "cell_type": "code",
   "execution_count": 1,
   "id": "0e9bc446-3caf-47af-babe-5b595ec92223",
   "metadata": {},
   "outputs": [],
   "source": [
    "# 1. What is the name of the feature responsible for generating Regex objects?\n",
    "# Ans: re.compile() is the name of the feature responsible for generating Regex objects."
   ]
  },
  {
   "cell_type": "code",
   "execution_count": 3,
   "id": "4f3d3185-2af1-4f48-bdf8-b16ccf135a1f",
   "metadata": {},
   "outputs": [],
   "source": [
    "#2. Why do raw strings often appear in Regex objects?\n",
    "# Ans: Raw strings are used beacause backslashes do not have to be escaped."
   ]
  },
  {
   "cell_type": "code",
   "execution_count": 4,
   "id": "bb10ac15-4707-490c-be88-306ecb9512a1",
   "metadata": {},
   "outputs": [],
   "source": [
    "#3. What is the return value of the search() method?\n",
    "# Ans: The search() returns a match object if a match is found."
   ]
  },
  {
   "cell_type": "code",
   "execution_count": 1,
   "id": "940e68be-d97a-4ea6-bb76-7caf28049124",
   "metadata": {},
   "outputs": [],
   "source": [
    "#4. From a Match item, how do you get the actual strings that match the pattern?\n",
    "# Ans: You can use the group() method of a match object to retrieve the actual string(s) that match the pattern."
   ]
  },
  {
   "cell_type": "code",
   "execution_count": 2,
   "id": "d0163a3d-09a9-47bc-b0a4-cbaf4c6ac2f0",
   "metadata": {},
   "outputs": [],
   "source": [
    "#5. In the regex which created from the r'(\\d\\d\\d)-(\\d\\d\\d-\\d\\d\\d\\d)', what does group zero cover? Group 2? Group 1?\n",
    "# Ans: Group 0 is the entire match, group 1 covers the first set of parentheses, and group 2 covers the second set of parentheses"
   ]
  },
  {
   "cell_type": "code",
   "execution_count": 4,
   "id": "1e94e9de-610a-4e1c-88a7-e888d815da49",
   "metadata": {},
   "outputs": [],
   "source": [
    "#6. In standard expression syntax, parentheses and intervals have distinct meanings. How can you tell a regex that you want it to fit real parentheses and periods?\n",
    "# Ans: you need to escape them using a backslash (\\)."
   ]
  },
  {
   "cell_type": "code",
   "execution_count": 5,
   "id": "7b1614e9-7838-45c0-9ae8-b679f28853a1",
   "metadata": {},
   "outputs": [],
   "source": [
    "#7. The findall() method returns a string list or a list of string tuples. What causes it to return one of the two options?\n",
    "# Ans: If the regex has no groups, a list of strings is returned. If the regex has groups, a list of tuples of strings is returned."
   ]
  },
  {
   "cell_type": "code",
   "execution_count": 6,
   "id": "e66d7e41-03d0-46f3-8c73-32ecc284e4e4",
   "metadata": {},
   "outputs": [],
   "source": [
    "#8. In standard expressions, what does the | character mean?\n",
    "# Ans: The | character means \"either,or\" between two groups."
   ]
  },
  {
   "cell_type": "code",
   "execution_count": 7,
   "id": "2fb7ba1a-3a29-4816-affe-8705ad5d14bc",
   "metadata": {},
   "outputs": [],
   "source": [
    "#9. In regular expressions, what does the character stand for?\n",
    "# Ans: character not mentioned."
   ]
  },
  {
   "cell_type": "code",
   "execution_count": 8,
   "id": "5bc78185-fc2f-4013-8693-12f75d3dab9c",
   "metadata": {},
   "outputs": [],
   "source": [
    "#10.In regular expressions, what is the difference between the + and * characters?\n",
    "# Ans: The + character is called the \"one or more\" quantifier and the * character is called the \"zero or more\" quantifier."
   ]
  },
  {
   "cell_type": "code",
   "execution_count": 9,
   "id": "f83e78f6-aaf4-4591-95d6-2b12adc3c310",
   "metadata": {},
   "outputs": [],
   "source": [
    "#11. What is the difference between {4} and {4,5} in regular expression?\n",
    "# Ans: The expression {4} specifies that the preceding character or group should be matched exactly 4 times and The expression {4,5} specifies that the preceding character or group should be matched between 4 and 5 times. "
   ]
  },
  {
   "cell_type": "code",
   "execution_count": 10,
   "id": "da30ed10-eaf9-43c1-9a4a-b7b37d0f1207",
   "metadata": {},
   "outputs": [],
   "source": [
    "#12. What do you mean by the \\d, \\w, and \\s shorthand character classes signify in regular expressions?\n",
    "# Ans: The \\d, \\w, and \\s shorthand character classes match a single digit, word, or space character, respectively."
   ]
  },
  {
   "cell_type": "code",
   "execution_count": 11,
   "id": "1ebfe5a1-a8ce-4007-a4d7-cd5e92199a39",
   "metadata": {},
   "outputs": [],
   "source": [
    "#13. What do means by \\D, \\W, and \\S shorthand character classes signify in regular expressions?\n",
    "# Ans: The \\D, \\W, and \\S shorthand character classes match a single character that is not a digit, word, or space character, respectively."
   ]
  },
  {
   "cell_type": "code",
   "execution_count": 12,
   "id": "3efa6154-c88f-4440-823a-2160359787b2",
   "metadata": {},
   "outputs": [],
   "source": [
    "#14. What is the difference between .* and .*?\n",
    "# Ans: The .* performs a greedy match, and the .*? performs a nongreedy match."
   ]
  },
  {
   "cell_type": "code",
   "execution_count": 13,
   "id": "42dbbdcf-284e-432c-a9da-61a7847c39d4",
   "metadata": {},
   "outputs": [],
   "source": [
    "#15. What is the syntax for matching both numbers and lowercase letters with a character class?\n",
    "# Ans: Either [0-9a-z] or [a-z0-9]"
   ]
  },
  {
   "cell_type": "code",
   "execution_count": 14,
   "id": "90a3fab7-d96f-4c38-a333-b7b9132b05df",
   "metadata": {},
   "outputs": [],
   "source": [
    "#16. What is the procedure for making a normal expression in regax case insensitive?\n",
    "# Ans: Passing re.I or re.IGNORECASE as the second argument to re.compile() will make the matching case insensitive."
   ]
  },
  {
   "cell_type": "code",
   "execution_count": 15,
   "id": "0bde9990-f4a5-4612-a2c4-35768d8b9a57",
   "metadata": {},
   "outputs": [],
   "source": [
    "#17. What does the . character normally match? What does it match if re.DOTALL is passed as 2nd argument in re.compile()?\n",
    "# Ans: The . character normally matches any character except the newline character. If re.DOTALL is passed as the second argument to re.compile(), then the dot will also match newline characters."
   ]
  },
  {
   "cell_type": "code",
   "execution_count": 16,
   "id": "0ec325bf-ea7a-4dde-ac04-44667c6663d0",
   "metadata": {},
   "outputs": [
    {
     "data": {
      "text/plain": [
       "'X drummers, X pipers, five rings, X hen'"
      ]
     },
     "execution_count": 16,
     "metadata": {},
     "output_type": "execute_result"
    }
   ],
   "source": [
    "#18. If numRegex = re.compile(r'\\d+'), what will numRegex.sub('X', '11 drummers, 10 pipers, five rings, 4 hen') return?\n",
    "# Ans: \n",
    "import re\n",
    "numRegex = re.compile(r'\\d+')\n",
    "numRegex.sub('X', '11 drummers, 10 pipers, five rings, 4 hen')"
   ]
  },
  {
   "cell_type": "code",
   "execution_count": 17,
   "id": "8b675302-54bf-470f-a991-e9eebc566373",
   "metadata": {},
   "outputs": [],
   "source": [
    "#19. What does passing re.VERBOSE as the 2nd argument to re.compile() allow to do?\n",
    "# Ans: The re.VERBOSE argument allows you to add whitespace and comments to the string passed to re.compile()."
   ]
  },
  {
   "cell_type": "code",
   "execution_count": 18,
   "id": "c3a40eeb-870b-4db4-b7f2-d8e7e220e3a8",
   "metadata": {},
   "outputs": [],
   "source": [
    "#20. How would you write a regex that match a number with comma for every three digits? It must match the given following:\n",
    "# '42'\n",
    "# '1,234'\n",
    "# '6,368,745'\n",
    "# but not the following:\n",
    "# '12,34,567' (which has only two digits between the commas)\n",
    "# '1234' (which lacks commas)\n",
    "\n",
    "# Ans: re.compile(r'^\\d{1,3}(,\\d{3})*$') will create this regex, but other regex strings can produce a similar regular expression."
   ]
  },
  {
   "cell_type": "code",
   "execution_count": 19,
   "id": "a6508f2f-8f40-4182-b509-906f935ee3cf",
   "metadata": {},
   "outputs": [],
   "source": [
    "#21. How would you write a regex that matches the full name of someone whose last name is Watanabe? You can assume that the first name that comes before it will always be one word that begins with a capital letter. The regex must match the following:\n",
    "# 'Haruto Watanabe'\n",
    "# 'Alice Watanabe'\n",
    "# 'RoboCop Watanabe'\n",
    "# but not the following:\n",
    "# 'haruto Watanabe' (where the first name is not capitalized)\n",
    "# 'Mr. Watanabe' (where the preceding word has a nonletter character)\n",
    "# 'Watanabe' (which has no first name)\n",
    "# 'Haruto watanabe' (where Watanabe is not capitalized)\n",
    "\n",
    "# Ans: re.compile(r'[A-Z][a-z]*\\sNakamoto')"
   ]
  },
  {
   "cell_type": "code",
   "execution_count": null,
   "id": "026ff6b4-be2a-44d0-bd22-97e25d1aeacb",
   "metadata": {},
   "outputs": [],
   "source": [
    "#22.How would you write a regex that matches a sentence where the first word is either Alice, Bob, or Carol; the second word is either eats, pets, or throws; the third word is apples, cats, or baseballs; and the sentence ends with a period? This regex should be case-insensitive. It must match the following:\n",
    "# 'Alice eats apples.'\n",
    "# 'Bob pets cats.'\n",
    "# 'Carol throws baseballs.'\n",
    "# 'Alice throws Apples.'\n",
    "# 'BOB EATS CATS.'\n",
    "# but not the following:\n",
    "# 'RoboCop eats apples.'\n",
    "# 'ALICE THROWS FOOTBALLS.'\n",
    "# 'Carol eats 7 cats.'\n",
    "\n",
    "# Ans: re.compile(r'(Alice|Bob|Carol)\\s(eats|pets|throws)\\ s(apples|cats|baseballs)\\.', re.IGNORECASE)\n"
   ]
  }
 ],
 "metadata": {
  "kernelspec": {
   "display_name": "Python 3 (ipykernel)",
   "language": "python",
   "name": "python3"
  },
  "language_info": {
   "codemirror_mode": {
    "name": "ipython",
    "version": 3
   },
   "file_extension": ".py",
   "mimetype": "text/x-python",
   "name": "python",
   "nbconvert_exporter": "python",
   "pygments_lexer": "ipython3",
   "version": "3.10.6"
  }
 },
 "nbformat": 4,
 "nbformat_minor": 5
}
