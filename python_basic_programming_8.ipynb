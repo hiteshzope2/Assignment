{
 "cells": [
  {
   "cell_type": "code",
   "execution_count": 1,
   "id": "b40f51eb-3549-46a2-9ad9-ca1210b9360e",
   "metadata": {},
   "outputs": [
    {
     "name": "stdout",
     "output_type": "stream",
     "text": [
      "[10, 10, 10]\n",
      "[10, 10, 10]\n",
      "[10, 10, 10]\n"
     ]
    }
   ],
   "source": [
    "# 1. Write a Python Program to Add Two Matrices?\n",
    "X = [[1,2,3],\n",
    "    [4 ,5,6],\n",
    "    [7 ,8,9]]\n",
    "\n",
    "Y = [[9,8,7],\n",
    "    [6,5,4],\n",
    "    [3,2,1]]\n",
    "\n",
    "result = [[0,0,0],\n",
    "         [0,0,0],\n",
    "         [0,0,0]]\n",
    "\n",
    "for i in range(len(X)):\n",
    "    for j in range(len(X[0])):\n",
    "        result[i][j] = X[i][j] + Y[i][j]\n",
    "\n",
    "for r in result:\n",
    "    print(r)"
   ]
  },
  {
   "cell_type": "code",
   "execution_count": 9,
   "id": "0b8f2029-3e01-4411-97e1-58051ce847de",
   "metadata": {},
   "outputs": [
    {
     "name": "stdout",
     "output_type": "stream",
     "text": [
      "Result: \n",
      "[30, 24, 18]\n",
      "[84, 69, 54]\n",
      "[138, 114, 90]\n"
     ]
    }
   ],
   "source": [
    "# 2. Write a Python Program to Multiply Two Matrices?\n",
    "def Multiply(A,B):\n",
    "    result=[ [0,0,0],[0,0,0],[0,0,0] ]\n",
    "    for i in range(len(A)):\n",
    "        for j in range(len(B[0])):\n",
    "            for k in range(len(B)):\n",
    "                result[i][j] += A[i][k] * B[k][j]\n",
    "    for p in result:\n",
    "        print(p)\n",
    "    \n",
    "A = [ [1, 2, 3],[4, 5, 6], [7, 8, 9] ]\n",
    "  \n",
    "B = [[9, 8, 7],[6, 5, 4], [3, 2, 1] ]\n",
    "\n",
    "print(\"Result: \")\n",
    "Multiply(A,B)\n"
   ]
  },
  {
   "cell_type": "code",
   "execution_count": 10,
   "id": "8a41bf0f-cddf-4cce-a9be-f69f76c947b4",
   "metadata": {},
   "outputs": [
    {
     "name": "stdout",
     "output_type": "stream",
     "text": [
      "[1, 3, 5]\n",
      "[2, 4, 6]\n"
     ]
    }
   ],
   "source": [
    "# 3. Write a Python Program to Transpose a Matrix?\n",
    "X = [[1,2],\n",
    "    [3 ,4],\n",
    "    [5 ,6]]\n",
    "\n",
    "result = [[0,0,0],\n",
    "         [0,0,0]]\n",
    "for i in range(len(X)):\n",
    "    for j in range(len(X[0])):\n",
    "        result[j][i] = X[i][j]\n",
    "\n",
    "for r in result:\n",
    "    print(r)"
   ]
  },
  {
   "cell_type": "code",
   "execution_count": 11,
   "id": "7d26f4e0-876e-4f15-a332-56dfba633902",
   "metadata": {},
   "outputs": [
    {
     "name": "stdout",
     "output_type": "stream",
     "text": [
      "['hitesh', 'lalit', 'mayur', 'paresh', 'pratiksha']\n"
     ]
    }
   ],
   "source": [
    "# 4. Write a Python Program to Sort Words in Alphabetic Order?\n",
    "def sort_words(words):\n",
    "    words = [word.lower() for word in words]\n",
    "    sorted_words = sorted(words)\n",
    "    return sorted_words\n",
    "\n",
    "words = [\"paresh\", \"hitesh\", \"mayur\", \"lalit\", \"pratiksha\"]\n",
    "sorted_words=sort_words(words)\n",
    "print(sorted_words)"
   ]
  },
  {
   "cell_type": "code",
   "execution_count": 17,
   "id": "b938b71f-28be-4075-abaa-31551af37938",
   "metadata": {},
   "outputs": [
    {
     "name": "stdout",
     "output_type": "stream",
     "text": [
      "The original string is : hey, india is best : for everyone ;\n",
      "The string after punctuation filter : hey india is best : for everyone ;\n",
      "The string after punctuation filter : hey india is best  for everyone ;\n",
      "The string after punctuation filter : hey india is best  for everyone \n"
     ]
    }
   ],
   "source": [
    "# 5. Write a Python Program to Remove Punctuation From a String?\n",
    "string = \"hey, india is best : for everyone ;\"\n",
    "\n",
    "print(\"The original string is : \" + string)\n",
    " \n",
    "punc = '''!()-[]{};:'\"\\,<>./?@#$%^&*_~'''\n",
    " \n",
    "for i in string: \n",
    "    if i in punc:\n",
    "        string = string.replace(i, \"\")\n",
    "        print(\"The string after punctuation filter : \" + string)"
   ]
  },
  {
   "cell_type": "code",
   "execution_count": null,
   "id": "331bc46f-d532-4892-9493-e1d9be028df4",
   "metadata": {},
   "outputs": [],
   "source": []
  }
 ],
 "metadata": {
  "kernelspec": {
   "display_name": "Python 3 (ipykernel)",
   "language": "python",
   "name": "python3"
  },
  "language_info": {
   "codemirror_mode": {
    "name": "ipython",
    "version": 3
   },
   "file_extension": ".py",
   "mimetype": "text/x-python",
   "name": "python",
   "nbconvert_exporter": "python",
   "pygments_lexer": "ipython3",
   "version": "3.10.6"
  }
 },
 "nbformat": 4,
 "nbformat_minor": 5
}
