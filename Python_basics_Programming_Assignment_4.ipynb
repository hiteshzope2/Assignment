{
  "cells": [
    {
      "cell_type": "markdown",
      "source": [
        "#1. Write a Python Program to Find the Factorial of a Number?"
      ],
      "metadata": {
        "id": "GUd7J3tmf8Cs"
      }
    },
    {
      "cell_type": "code",
      "source": [
        "num= int(input(\"Enter the numbers:\"))\n",
        "fact=1\n",
        "for i in range(1,num+1):\n",
        "  fact=fact*i\n",
        "print(fact)\n"
      ],
      "metadata": {
        "colab": {
          "base_uri": "https://localhost:8080/"
        },
        "id": "bFkvJz4Tf9Xq",
        "outputId": "a3aa83f6-bfbf-4327-bac2-70cd360aa800"
      },
      "execution_count": null,
      "outputs": [
        {
          "output_type": "stream",
          "name": "stdout",
          "text": [
            "Enter the numbers:4\n",
            "24\n"
          ]
        }
      ]
    },
    {
      "cell_type": "markdown",
      "source": [
        "#2. Write a Python Program to Display the multiplication Table?"
      ],
      "metadata": {
        "id": "fJRRbPeHl8YT"
      }
    },
    {
      "cell_type": "code",
      "source": [
        "Num=int(input(\"Enter the number: \"))\n",
        "for i in range(1,11):\n",
        "\n",
        "  print(Num,'X', i,'=', Num*i)"
      ],
      "metadata": {
        "colab": {
          "base_uri": "https://localhost:8080/"
        },
        "id": "LjnxLZZBlWml",
        "outputId": "33c4ec42-3298-4bf3-8cba-f34affeb33d0"
      },
      "execution_count": null,
      "outputs": [
        {
          "output_type": "stream",
          "name": "stdout",
          "text": [
            "Enter the number: 2\n",
            "2 X 1 = 2\n",
            "2 X 2 = 4\n",
            "2 X 3 = 6\n",
            "2 X 4 = 8\n",
            "2 X 5 = 10\n",
            "2 X 6 = 12\n",
            "2 X 7 = 14\n",
            "2 X 8 = 16\n",
            "2 X 9 = 18\n",
            "2 X 10 = 20\n"
          ]
        }
      ]
    },
    {
      "cell_type": "markdown",
      "source": [
        "#3. Write a Python Program to Print the Fibonacci sequence?"
      ],
      "metadata": {
        "id": "Lf3QL4wYpX_-"
      }
    },
    {
      "cell_type": "code",
      "source": [
        "f=int(input(\"Enter the number: \"))\n",
        "a=0\n",
        "b=1\n",
        "print(a)\n",
        "print(b)\n",
        "for i in range(2,f):\n",
        "  c=a+b\n",
        "  a=b\n",
        "  b=c\n",
        "  print(c)\n"
      ],
      "metadata": {
        "colab": {
          "base_uri": "https://localhost:8080/"
        },
        "id": "4vqh-99XmjIn",
        "outputId": "e45e8b37-251d-4ee1-8de1-326d6d618282"
      },
      "execution_count": 1,
      "outputs": [
        {
          "output_type": "stream",
          "name": "stdout",
          "text": [
            "Enter the number: 13\n",
            "0\n",
            "1\n",
            "1\n",
            "2\n",
            "3\n",
            "5\n",
            "8\n",
            "13\n",
            "21\n",
            "34\n",
            "55\n",
            "89\n",
            "144\n"
          ]
        }
      ]
    },
    {
      "cell_type": "markdown",
      "source": [
        "#4. Write a Python Program to Check Armstrong Number?"
      ],
      "metadata": {
        "id": "8rCWT-6lZpIw"
      }
    },
    {
      "cell_type": "code",
      "source": [
        "Y=int(input(\"Enter the number: \"))\n",
        "sum=0\n",
        "U=Y\n",
        "while U>0:\n",
        "  digit=U%10\n",
        "  sum=sum+digit*digit*digit\n",
        "  U=U//10\n",
        "\n",
        "if sum==Y:\n",
        "  print(\"It is Armstrong number\")\n",
        "else:\n",
        "  print(\"It is not Armstrong number\")"
      ],
      "metadata": {
        "colab": {
          "base_uri": "https://localhost:8080/"
        },
        "id": "gIv2W3NoZrKc",
        "outputId": "ca5f4242-d650-4981-ab1e-5463e6e139c2"
      },
      "execution_count": 11,
      "outputs": [
        {
          "output_type": "stream",
          "name": "stdout",
          "text": [
            "Enter the number: 371\n",
            "It is Armstrong number\n"
          ]
        }
      ]
    },
    {
      "cell_type": "markdown",
      "source": [
        "#5. Write a Python Program to Find Armstrong Number in an Interval?"
      ],
      "metadata": {
        "id": "tCkoDjjRapbS"
      }
    },
    {
      "cell_type": "code",
      "source": [
        "lower = int(input(\"Enter lower range: \"))\n",
        "upper = int(input(\"Enter upper range: \"))\n",
        "\n",
        "for Y in range(lower,upper+1):\n",
        "  sum=0\n",
        "  U=Y\n",
        "  while U>0:\n",
        "    digit=U%10\n",
        "    sum=sum+digit**3\n",
        "    U=U//10\n",
        "\n",
        "  if sum==Y:\n",
        "    print(Y)"
      ],
      "metadata": {
        "colab": {
          "base_uri": "https://localhost:8080/"
        },
        "id": "0xUNTb6Wafru",
        "outputId": "1bad2808-190f-4a2d-8c24-9ec4511c1318"
      },
      "execution_count": 18,
      "outputs": [
        {
          "output_type": "stream",
          "name": "stdout",
          "text": [
            "Enter lower range: 100\n",
            "Enter upper range: 1000\n",
            "153\n",
            "370\n",
            "371\n",
            "407\n"
          ]
        }
      ]
    },
    {
      "cell_type": "markdown",
      "source": [
        "#6. Write a Python Program to Find the Sum of Natural Numbers?"
      ],
      "metadata": {
        "id": "Jug5g6EpcoSe"
      }
    },
    {
      "cell_type": "code",
      "source": [
        "Q=int(input(\"Enter the number: \"))\n",
        "if Q<0:\n",
        "  print(\"It is not natural number\")\n",
        "else:\n",
        "  sum=0\n",
        "  for i in range(1,Q+1):\n",
        "    sum=sum+i\n",
        "  print(sum)"
      ],
      "metadata": {
        "colab": {
          "base_uri": "https://localhost:8080/"
        },
        "id": "RbdHfPzbbYjZ",
        "outputId": "3e733189-0f53-45c8-92a9-dae45f9d73a6"
      },
      "execution_count": 24,
      "outputs": [
        {
          "output_type": "stream",
          "name": "stdout",
          "text": [
            "Enter the number: 16\n",
            "136\n"
          ]
        }
      ]
    }
  ],
  "metadata": {
    "colab": {
      "provenance": [],
      "collapsed_sections": []
    },
    "kernelspec": {
      "display_name": "Python 3",
      "name": "python3"
    },
    "language_info": {
      "name": "python"
    }
  },
  "nbformat": 4,
  "nbformat_minor": 0
}