{
  "cells": [
    {
      "cell_type": "markdown",
      "metadata": {
        "id": "F_BLmjmVDHBd"
      },
      "source": [
        "#1. In the below elements which of them are values or an expression? eg:- values can be\n",
        "#integer or string and expressions will be mathematical operators.\n",
        "      *       =  It is mathematical operator.\n",
        "\n",
        "      'hello' =  It is String value.\n",
        "\n",
        "      -87.8   =  It is Float value.\n",
        "\n",
        "      -       =  It is mathematical operator.\n",
        "\n",
        "      /       =  It is mathematical operator.\n",
        "\n",
        "      +       =  It is mathematical operator.\n",
        "\n",
        "      6       =  It is interger value\n",
        "     \n",
        "      values = 'hello', -87.8, 6\n",
        "      expressions = *,-,/,+"
      ]
    },
    {
      "cell_type": "markdown",
      "metadata": {
        "id": "XDXZ1Ah2FP0Q"
      },
      "source": [
        "#2. What is the difference between string and variable?\n",
        "\n",
        "\n",
        "```   \n",
        "   Ans = variables is a container or box where you can store your data values. \n",
        "         String is a combination of character. Any type of value inside quotes are consider as string value.\n",
        "     "
      ]
    },
    {
      "cell_type": "markdown",
      "metadata": {
        "id": "CzRTsvnFrdA3"
      },
      "source": [
        "#3. Describe three different data types.\n",
        "\n",
        "\n",
        "  \n",
        "        1.Text data type :  Strings\n",
        "\n",
        "        In text data type there is a data type called \"string\" data type. string is\n",
        "        immutable and anything between the quotes are string.\n",
        "\n",
        "        2.Numeric data type :  Integers,  float,  complex\n",
        "    \n",
        "        In numeric data type there is a 3 type of data type as follows:\n",
        "\n",
        "        a.integers :  integer data type consists whole numbers and it is immutable.\n",
        "\n",
        "        b.float : float data type consists decimal numbers and it is immutable.\n",
        "\n",
        "        c.complex : complex data type consists  real number and imaginary value and it is immutable.\n",
        "\n",
        "        3.boolean data type\n",
        "\n",
        "        boolean data type has 2 values called \"True\" and \"False\"."
      ]
    },
    {
      "cell_type": "markdown",
      "metadata": {
        "id": "Gv1ql77LzZRI"
      },
      "source": [
        "#4. What is an expression made up of? What do all expressions do?\n",
        "\n",
        "    Ans = Expression is made up of operands, operators, variables, methonds and functions.\n",
        "          Expressions gives result after interpreted by interpreter."
      ]
    },
    {
      "cell_type": "markdown",
      "metadata": {
        "id": "F5E_11cq6tTh"
      },
      "source": [
        "#5. This assignment statements, like spam = 10. What is the difference between an expression and a statement?\n",
        "       Difference between the expression and statement are as follows:\n",
        "\n",
        "       Ans= Expressions gives result after interpreted by interpreter.\n",
        "            Any command that are executable or python can exeucute is called statement."
      ]
    },
    {
      "cell_type": "markdown",
      "metadata": {
        "id": "4LQzub7WKDTh"
      },
      "source": [
        "#6. After running the following code, what does the variable bacon contain?\n",
        "    bacon = 22\n",
        "\n",
        "    bacon + 1\n",
        "\n",
        "    Ans = 22\n",
        "\n",
        "    Value of bacon is 22 because bacon + 1 is not assign to the bacon.\n",
        "\n",
        "    "
      ]
    },
    {
      "cell_type": "markdown",
      "metadata": {
        "id": "fIZJ82QtPZqg"
      },
      "source": [
        "#7. What should the values of the following two terms be?\n",
        "    'spam' + 'spamspam'\n",
        "\n",
        "    Ans = 'spam'*3\n",
        "\n",
        "    Right answer of the both terms is:\n",
        "    'spamspamspam'"
      ]
    },
    {
      "cell_type": "markdown",
      "metadata": {
        "id": "N3kJZO85Puuq"
      },
      "source": [
        "#8. Why is eggs a valid variable name while 100 is invalid?\n",
        "\n",
        "    Ans  =  Variable name only starts with the alphabets.\n",
        "            Variable name does not start with numbers,\n",
        "            it cause lots of error during interpretation."
      ]
    },
    {
      "cell_type": "markdown",
      "metadata": {
        "id": "x3iZmLTXReTT"
      },
      "source": [
        "#9. What three functions can be used to get the integer, floating-point number, or string version of a value?\n",
        "\n",
        "    Ans = for integer we use int()\n",
        "          for floating-point we use float()\n",
        "          for string we use string()"
      ]
    },
    {
      "cell_type": "markdown",
      "metadata": {
        "id": "xsrc-ShTR6AC"
      },
      "source": [
        "#10. Why does this expression cause an error? How can you fix it? \n",
        "'I have eaten ' + 99 + ' burritos.'\n",
        "\n",
        "\n",
        "    Ans      = This expression is cause error because string only concatenate with string only and 99 is integer.\n",
        "    Solution = To run this without error we have to convert 99 to string.\n",
        "    'I have eaten '+str(99)+' burritos'"
      ]
    }
  ],
  "metadata": {
    "colab": {
      "collapsed_sections": [],
      "provenance": []
    },
    "kernelspec": {
      "display_name": "Python 3",
      "name": "python3"
    },
    "language_info": {
      "name": "python"
    }
  },
  "nbformat": 4,
  "nbformat_minor": 0
}
