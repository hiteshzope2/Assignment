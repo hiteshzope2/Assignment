{
  "cells": [
    {
      "cell_type": "markdown",
      "metadata": {
        "id": "F_BLmjmVDHBd"
      },
      "source": [
        "#1. In the below elements which of them are values or an expression? eg:- values can be\n",
        "integer or string and expressions will be mathematical operators.\n",
        "      *       =  It is mathematical operator.\n",
        "\n",
        "      'hello' =  It is String value.\n",
        "\n",
        "      -87.8   =  It is Float value.\n",
        "\n",
        "      -       =  It is mathematical operator.\n",
        "\n",
        "      /       =  It is mathematical operator.\n",
        "\n",
        "      +       =  It is mathematical operator.\n",
        "\n",
        "      6       =  It is interger value\n",
        "     \n",
        "      values = 'hello', -87.8, 6\n",
        "      expressions = *,-,/,+"
      ]
    },
    
    {
      "cell_type": "markdown",
      "metadata": {
        "id": "xsrc-ShTR6AC"
      },
      "source": [
        "#10. Why does this expression cause an error? How can you fix it? \n",
        "'I have eaten ' + 99 + ' burritos.'\n",
        "\n",
        "\n",
        "    Ans      = This expression is cause error because string only concatenate with string only and 99 is integer.\n",
        "    Solution = To run this without error we have to convert 99 to string.\n",
        "    'I have eaten '+str(99)+' burritos'"
      ]
    }
  ],
  "metadata": {
    "colab": {
      "collapsed_sections": [],
      "provenance": []
    },
    "kernelspec": {
      "display_name": "Python 3",
      "name": "python3"
    },
    "language_info": {
      "name": "python"
    }
  },
  "nbformat": 4,
  "nbformat_minor": 0
}
