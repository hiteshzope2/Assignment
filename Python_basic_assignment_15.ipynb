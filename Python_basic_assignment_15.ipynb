{
 "cells": [
  {
   "cell_type": "code",
   "execution_count": 1,
   "id": "1e2d03df-fa25-4686-b791-e32cac24517e",
   "metadata": {},
   "outputs": [],
   "source": [
    "#1.How many seconds are in an hour? Use the interactive interpreter as a calculator and multiply the \n",
    "#  number of seconds in a minute (60) by the number of minutes in an hour (also 60).\n",
    "\n",
    "# Ans:  60 seconds/minute * 60 minutes/hour = 3600 seconds in an hour"
   ]
  },
  {
   "cell_type": "code",
   "execution_count": 2,
   "id": "d54e38e2-5a98-4ea0-91ad-f64a73d73f31",
   "metadata": {},
   "outputs": [],
   "source": [
    "#2. Assign the result from the previous task (seconds in an hour) to a variable called seconds_per_hour.\n",
    "# Ans: To assign the result from the previous task (seconds in an hour) to a variable called seconds_per_hour, \n",
    "#      we can use the Python assignment operator \"=\" and store the value in the variable \"seconds_per_hour\".\n",
    "#      seconds_per_hour = 3600"
   ]
  },
  {
   "cell_type": "code",
   "execution_count": 5,
   "id": "ba679deb-24eb-4562-9474-3500b44b1590",
   "metadata": {},
   "outputs": [
    {
     "name": "stdout",
     "output_type": "stream",
     "text": [
      "3600\n",
      "86400\n"
     ]
    }
   ],
   "source": [
    "#3. How many seconds do you think there are in a day? Make use of the variables seconds per hour and minutes per hour.\n",
    "# Ans: \n",
    "\n",
    "minutes_per_hour = 60\n",
    "seconds_per_hour =minutes_per_hour*60\n",
    "print(seconds_per_hour)\n",
    "seconds_per_day = seconds_per_hour * 24\n",
    "print(seconds_per_day)"
   ]
  },
  {
   "cell_type": "code",
   "execution_count": 7,
   "id": "45ddbf6a-5502-427c-827d-7dbaa62b80d0",
   "metadata": {},
   "outputs": [
    {
     "name": "stdout",
     "output_type": "stream",
     "text": [
      "86400\n"
     ]
    }
   ],
   "source": [
    "#4. Calculate seconds per day again, but this time save the result in a variable called seconds_per_day.\n",
    "# Ans: \n",
    "seconds_per_hour = 60 * 60  # 60 seconds/minute * 60 minutes/hour = 3600 seconds/hour\n",
    "hours_per_day = 24\n",
    "seconds_per_day = seconds_per_hour * hours_per_day\n",
    "print(seconds_per_day)"
   ]
  },
  {
   "cell_type": "code",
   "execution_count": 8,
   "id": "848276c7-91ca-429b-a8c9-fb979da1dfb7",
   "metadata": {},
   "outputs": [
    {
     "data": {
      "text/plain": [
       "24.0"
      ]
     },
     "execution_count": 8,
     "metadata": {},
     "output_type": "execute_result"
    }
   ],
   "source": [
    "#5. Divide seconds_per_day by seconds_per_hour. Use floating-point (/) division.\n",
    "# Ans: \n",
    "seconds_per_hour = 60 * 60  # 60 seconds/minute * 60 minutes/hour = 3600 seconds/hour\n",
    "hours_per_day = 24\n",
    "seconds_per_day = seconds_per_hour * hours_per_day\n",
    "\n",
    "seconds_per_day / seconds_per_hour"
   ]
  },
  {
   "cell_type": "code",
   "execution_count": 9,
   "id": "7742d61e-058a-4be7-860d-44f43503bd77",
   "metadata": {},
   "outputs": [
    {
     "data": {
      "text/plain": [
       "24"
      ]
     },
     "execution_count": 9,
     "metadata": {},
     "output_type": "execute_result"
    }
   ],
   "source": [
    "#6. Divide seconds_per_day by seconds_per_hour, using integer (//) division. Did this number agree\n",
    "#   with the floating-point value from the previous question, aside from the final .0?\n",
    "\n",
    "# Ans: \n",
    "seconds_per_hour = 60 * 60  # 60 seconds/minute * 60 minutes/hour = 3600 seconds/hour\n",
    "hours_per_day = 24\n",
    "seconds_per_day = seconds_per_hour * hours_per_day\n",
    "\n",
    "seconds_per_day // seconds_per_hour\n",
    "# Yes, the integer result agrees with the floating-point value from the previous question, aside from the final .0."
   ]
  },
  {
   "cell_type": "code",
   "execution_count": 10,
   "id": "24f7f4e6-01e6-4e13-92b3-c8b968c55d0d",
   "metadata": {},
   "outputs": [],
   "source": [
    "#7. Write a generator, genPrimes, that returns the sequence of prime numbers on successive calls to its next() method: 2, 3, 5, 7, 11, ...\n",
    "# Ans: \n",
    "def genPrimes():\n",
    "    primes = []  # List to store prime numbers\n",
    "    num = 2     # First prime number\n",
    "    \n",
    "    while True:\n",
    "        is_prime = True\n",
    "        for p in primes:\n",
    "            if num % p == 0:\n",
    "                is_prime = False\n",
    "                break\n",
    "        if is_prime:\n",
    "            primes.append(num)\n",
    "            yield num\n",
    "        num += 1\n"
   ]
  },
  {
   "cell_type": "code",
   "execution_count": 11,
   "id": "ca625ef0-9660-4b7c-a1b2-6c76bbeeeaea",
   "metadata": {},
   "outputs": [
    {
     "name": "stdout",
     "output_type": "stream",
     "text": [
      "2\n",
      "3\n",
      "5\n",
      "7\n",
      "11\n"
     ]
    }
   ],
   "source": [
    "gen = genPrimes()\n",
    "\n",
    "print(next(gen))  \n",
    "print(next(gen))  \n",
    "print(next(gen))  \n",
    "print(next(gen))  \n",
    "print(next(gen))  "
   ]
  },
  {
   "cell_type": "code",
   "execution_count": null,
   "id": "ea9a51cc-23ee-4df1-b359-0a4887afb807",
   "metadata": {},
   "outputs": [],
   "source": []
  }
 ],
 "metadata": {
  "kernelspec": {
   "display_name": "Python 3 (ipykernel)",
   "language": "python",
   "name": "python3"
  },
  "language_info": {
   "codemirror_mode": {
    "name": "ipython",
    "version": 3
   },
   "file_extension": ".py",
   "mimetype": "text/x-python",
   "name": "python",
   "nbconvert_exporter": "python",
   "pygments_lexer": "ipython3",
   "version": "3.10.6"
  }
 },
 "nbformat": 4,
 "nbformat_minor": 5
}
