{
 "cells": [
  {
   "cell_type": "code",
   "execution_count": 2,
   "id": "238751d0-5e38-42de-b9a3-ed903a2314f0",
   "metadata": {},
   "outputs": [
    {
     "name": "stdout",
     "output_type": "stream",
     "text": [
      "[1, 2]\n",
      "[1, 0, 15]\n",
      "[1, 2, 123]\n"
     ]
    }
   ],
   "source": [
    "# Question 1\n",
    "# Create a function that takes a list of non-negative integers and strings and return a new list\n",
    "# without the strings.\n",
    "# Examples\n",
    "# filter_list([1, 2, 'a','b']) ➞ [1, 2]\n",
    "# filter_list([1, 'a', 'b', 0, 15]) ➞ [1, 0, 15]\n",
    "# filter_list([1, 2,'aasf', '1', '123' , 123]) ➞ [1, 2, 123]\n",
    "\n",
    "# Ans:\n",
    "def filter_list(lst):\n",
    "    return [elem for elem in lst if isinstance(elem, int)]\n",
    "print(filter_list([1, 2, \"a\", \"b\"]))                \n",
    "print(filter_list([1, \"a\", \"b\", 0, 15]))             \n",
    "print(filter_list([1, 2, \"aasf\", \"1\", \"123\", 123]))  "
   ]
  },
  {
   "cell_type": "code",
   "execution_count": 3,
   "id": "ca0b56aa-1f1e-4a0f-9f4e-b1086be7c768",
   "metadata": {},
   "outputs": [
    {
     "name": "stdout",
     "output_type": "stream",
     "text": [
      "DLROw OLLEh\n",
      "eSrEvEr\n",
      "RADAr\n"
     ]
    }
   ],
   "source": [
    "# Question 2\n",
    "# The 'Reverser' takes a string as input and returns that string in reverse order, with the\n",
    "# opposite case. \n",
    "# Examples \n",
    "# reverse('Hello World') ➞ 'DLROw OLLEh' \n",
    "# reverse('ReVeRsE') ➞ 'eSrEvEr'\n",
    "# reverse('Radar') ➞ 'RADAr'\n",
    "\n",
    "# Ans:\n",
    "def reverse(string):\n",
    "    reversed_string = string[::-1]\n",
    "    reversed_string = reversed_string.swapcase()\n",
    "    return reversed_string\n",
    "print(reverse('Hello World'))  \n",
    "print(reverse('ReVeRsE'))      \n",
    "print(reverse('Radar'))  "
   ]
  },
  {
   "cell_type": "code",
   "execution_count": 4,
   "id": "7e3467fc-d1ad-42f9-98d9-88bb64e2dd8b",
   "metadata": {},
   "outputs": [
    {
     "name": "stdout",
     "output_type": "stream",
     "text": [
      "1\n",
      "[2, 3, 4, 5]\n",
      "6\n"
     ]
    }
   ],
   "source": [
    "# Question 3\n",
    "# You can assign variables from lists like this:\n",
    "# lst = [1, 2, 3, 4, 5, 6]\n",
    "# first = lst[0]\n",
    "# middle = lst[1:-1]\n",
    "# last = lst[-1]\n",
    "# print(first) ➞ outputs 1\n",
    "# print(middle) ➞ outputs [2, 3, 4, 5]\n",
    "# print(last) ➞ outputs 6\n",
    "# With Python 3, you can assign variables from lists in a much more succinct way. Create\n",
    "# variables first, middle and last from the given list using destructuring assignment\n",
    "# (check the Resources tab for some examples), where:\n",
    "# first ➞ 1\n",
    "# middle ➞ [2, 3, 4, 5]\n",
    "# last ➞ 6\n",
    "\n",
    "# Your task is to unpack the list writeyourcodehere into three variables, being first,\n",
    "# middle, and last, with middle being everything in between the first and last element. Then\n",
    "# print all three variables.\n",
    "\n",
    "# Ans:\n",
    "writeyourcodehere = [1, 2, 3, 4, 5, 6]\n",
    "first, *middle, last = writeyourcodehere\n",
    "\n",
    "print(first)    \n",
    "print(middle)   \n",
    "print(last)     "
   ]
  },
  {
   "cell_type": "code",
   "execution_count": 8,
   "id": "40402c38-ab65-4be7-9912-2a2b0733f131",
   "metadata": {},
   "outputs": [
    {
     "name": "stdout",
     "output_type": "stream",
     "text": [
      "120\n",
      "6\n",
      "1\n",
      "1\n"
     ]
    }
   ],
   "source": [
    "# Question 4\n",
    "# Write a function that calculates the factorial of a number recursively.\n",
    "# Examples\n",
    "# factorial(5) ➞ 120\n",
    "# factorial(3) ➞ 6\n",
    "# factorial(1) ➞ 1\n",
    "# factorial(0) ➞ 1\n",
    "\n",
    "# Ans:\n",
    "def factorial(n):\n",
    "    if n == 0 or n == 1:\n",
    "        return 1\n",
    "    else:\n",
    "        return n * factorial(n - 1)\n",
    "print(factorial(5))  \n",
    "print(factorial(3))  \n",
    "print(factorial(1))  \n",
    "print(factorial(0))"
   ]
  },
  {
   "cell_type": "code",
   "execution_count": 9,
   "id": "580e835e-e7bf-4a0b-879a-afa3a4ac4ddb",
   "metadata": {},
   "outputs": [
    {
     "name": "stdout",
     "output_type": "stream",
     "text": [
      "[3, 2, 4, 4, 1, 1]\n",
      "[7, 8, 1, 2, 3, 4, 9]\n",
      "['b', 'a', 'a', 'a']\n"
     ]
    }
   ],
   "source": [
    "# Question 5\n",
    "# Write a function that moves all elements of one type to the end of the list.\n",
    "# Examples\n",
    "# move_to_end([1, 3, 2, 4, 4, 1], 1) ➞ [3, 2, 4, 4, 1, 1]\n",
    "# # Move all the 1s to the end of the array.\n",
    "# move_to_end([7, 8, 9, 1, 2, 3, 4], 9) ➞ [7, 8, 1, 2, 3, 4, 9]\n",
    "# move_to_end(['a', 'a', 'a', 'b'], 'a') ➞ ['b', 'a', 'a', 'a']\n",
    "\n",
    "# Ans:\n",
    "def move_to_end(lst, element):\n",
    "    return [x for x in lst if x != element] + [x for x in lst if x == element]\n",
    "print(move_to_end([1, 3, 2, 4, 4, 1], 1))           \n",
    "print(move_to_end([7, 8, 9, 1, 2, 3, 4], 9))         \n",
    "print(move_to_end(['a', 'a', 'a', 'b'], 'a'))   "
   ]
  },
  {
   "cell_type": "code",
   "execution_count": null,
   "id": "c9919210-6526-421a-8591-8401d24e85a7",
   "metadata": {},
   "outputs": [],
   "source": []
  }
 ],
 "metadata": {
  "kernelspec": {
   "display_name": "Python 3 (ipykernel)",
   "language": "python",
   "name": "python3"
  },
  "language_info": {
   "codemirror_mode": {
    "name": "ipython",
    "version": 3
   },
   "file_extension": ".py",
   "mimetype": "text/x-python",
   "name": "python",
   "nbconvert_exporter": "python",
   "pygments_lexer": "ipython3",
   "version": "3.10.6"
  }
 },
 "nbformat": 4,
 "nbformat_minor": 5
}
