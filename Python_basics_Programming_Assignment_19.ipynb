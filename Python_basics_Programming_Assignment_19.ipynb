{
 "cells": [
  {
   "cell_type": "code",
   "execution_count": 1,
   "id": "c2a730ae-b329-4edf-a8ed-d61b90c38c80",
   "metadata": {},
   "outputs": [
    {
     "name": "stdout",
     "output_type": "stream",
     "text": [
      "SSttrriinngg\n",
      "HHeelllloo  WWoorrlldd!!\n",
      "11223344!!__  \n"
     ]
    }
   ],
   "source": [
    "# Question1\n",
    "# Create a function that takes a string and returns a string in which each character is repeated\n",
    "# once.\n",
    "\n",
    "# Examples \n",
    "# double_char('String') ➞ 'SSttrriinngg'\n",
    "# double_char('Hello World!') ➞ 'HHeelllloo WWoorrlldd!!' \n",
    "# double_char('1234!_ ') ➞ '11223344!!__ '\n",
    "\n",
    "# Ans:\n",
    "def double_char(string):\n",
    "    result = ''\n",
    "    for char in string:\n",
    "        result += char * 2\n",
    "    return result\n",
    "print(double_char('String'))            \n",
    "print(double_char('Hello World!'))     \n",
    "print(double_char('1234!_ '))       "
   ]
  },
  {
   "cell_type": "code",
   "execution_count": 2,
   "id": "11b1fefe-9c75-4ce3-81b3-58bd07514c6b",
   "metadata": {},
   "outputs": [
    {
     "name": "stdout",
     "output_type": "stream",
     "text": [
      "False\n",
      "True\n",
      "boolean expected\n",
      "boolean expected\n"
     ]
    }
   ],
   "source": [
    "# Question2\n",
    "# Create a function that reverses a boolean value and returns the string 'boolean expected'\n",
    "# if another variable type is given.\n",
    "# Examples\n",
    "# reverse(True) ➞ False\n",
    "# reverse(False) ➞ True\n",
    "# reverse(0) ➞ 'boolean expected'\n",
    "# reverse(None) ➞ 'boolean expected'\n",
    "\n",
    "# Ans:\n",
    "def reverse(bool_value):\n",
    "    if type(bool_value) == bool:\n",
    "        return not bool_value\n",
    "    else:\n",
    "        return \"boolean expected\"\n",
    "print(reverse(True))          \n",
    "print(reverse(False))       \n",
    "print(reverse(0))             \n",
    "print(reverse(None))    "
   ]
  },
  {
   "cell_type": "code",
   "execution_count": 6,
   "id": "3c98bbcd-d987-43f5-ada1-6395a5bd67d3",
   "metadata": {},
   "outputs": [
    {
     "name": "stdout",
     "output_type": "stream",
     "text": [
      "0.001m\n",
      "0.008m\n",
      "1048.576m\n"
     ]
    }
   ],
   "source": [
    "# Question3\n",
    "# Create a function that returns the thickness (in meters) of a piece of paper after folding it n\n",
    "# number of times. The paper starts off with a thickness of 0.5mm.\n",
    "# Examples\n",
    "# num_layers(1) ➞ '0.001m' Paper folded once is 1mm (equal to 0.001m) \n",
    "# num_layers(4) ➞ '0.008m' Paper folded 4 times is 8mm (equal to 0.008m)\n",
    "# num_layers(21) ➞ '1048.576m' Paper folded 21 times is 1048576mm (equal to 1048.576m)\n",
    "\n",
    "# Ans:\n",
    "def num_layers(n):\n",
    "    thickness = 0.5\n",
    "    for _ in range(n):\n",
    "        thickness *= 2\n",
    "    \n",
    "    return str(thickness / 1000)+'m' # for meters\n",
    "\n",
    "print(num_layers(1))\n",
    "print(num_layers(4))\n",
    "print(num_layers(21))"
   ]
  },
  {
   "cell_type": "code",
   "execution_count": 7,
   "id": "f0a295c8-3953-4116-8761-b5044d5495ea",
   "metadata": {},
   "outputs": [
    {
     "name": "stdout",
     "output_type": "stream",
     "text": [
      "[1, 3, 5]\n",
      "[1, 3, 4, 6]\n",
      "[]\n",
      "[0, 1, 2, 3, 4, 5]\n",
      "[1]\n"
     ]
    }
   ],
   "source": [
    "# Question4\n",
    "# Create a function that takes a single string as argument and returns an ordered list containing\n",
    "# the indices of all capital letters in the string.\n",
    "# Examples \n",
    "# index_of_caps('eDaBiT') ➞ [1, 3, 5]\n",
    "# index_of_caps('eQuINoX') ➞ [1, 3, 4, 6]\n",
    "# index_of_caps('determine') ➞ [] \n",
    "# index_of_caps('STRIKE') ➞ [0, 1, 2, 3, 4, 5] \n",
    "# index_of_caps('sUn') ➞ [1]\n",
    "\n",
    "# Ans:\n",
    "def index_of_caps(string):\n",
    "    indices = []\n",
    "    for i in range(len(string)):\n",
    "        if string[i].isupper():\n",
    "            indices.append(i)\n",
    "    return indices\n",
    "print(index_of_caps('eDaBiT'))     \n",
    "print(index_of_caps('eQuINoX'))      \n",
    "print(index_of_caps('determine')) \n",
    "print(index_of_caps('STRIKE'))      \n",
    "print(index_of_caps('sUn'))          "
   ]
  },
  {
   "cell_type": "code",
   "execution_count": 8,
   "id": "060e2c04-687e-451e-b280-353df42b4844",
   "metadata": {},
   "outputs": [
    {
     "name": "stdout",
     "output_type": "stream",
     "text": [
      "[2, 4, 6, 8]\n",
      "[2, 4]\n",
      "[2]\n"
     ]
    }
   ],
   "source": [
    "# Question5\n",
    "# Using list comprehensions, create a function that finds all even numbers from 1 to the given\n",
    "# number.\n",
    "# Examples\n",
    "# find_even_nums(8) ➞ [2, 4, 6, 8]\n",
    "# find_even_nums(4) ➞ [2, 4]\n",
    "# find_even_nums(2) ➞ [2]\n",
    "\n",
    "# Ans:\n",
    "def find_even_nums(n):\n",
    "    even =[x for x in range(2,n+1) if x % 2 == 0]\n",
    "    return even\n",
    "print(find_even_nums(8))    \n",
    "print(find_even_nums(4))\n",
    "print(find_even_nums(2)) "
   ]
  },
  {
   "cell_type": "code",
   "execution_count": null,
   "id": "296ec807-a70b-47b9-b914-bb3c393e0ddd",
   "metadata": {},
   "outputs": [],
   "source": []
  }
 ],
 "metadata": {
  "kernelspec": {
   "display_name": "Python 3 (ipykernel)",
   "language": "python",
   "name": "python3"
  },
  "language_info": {
   "codemirror_mode": {
    "name": "ipython",
    "version": 3
   },
   "file_extension": ".py",
   "mimetype": "text/x-python",
   "name": "python",
   "nbconvert_exporter": "python",
   "pygments_lexer": "ipython3",
   "version": "3.10.6"
  }
 },
 "nbformat": 4,
 "nbformat_minor": 5
}
