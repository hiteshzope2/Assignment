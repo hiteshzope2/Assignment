{
 "cells": [
  {
   "cell_type": "code",
   "execution_count": 1,
   "id": "42b509f4-edc9-4ba5-bdaf-2b95e81628c3",
   "metadata": {},
   "outputs": [],
   "source": [
    "#1. To what does a relative path refer?\n",
    "# Ans: A relative path refers to the location of a file or directory relative to the current working directory. "
   ]
  },
  {
   "cell_type": "code",
   "execution_count": 2,
   "id": "d552cd22-219f-4209-bb0c-24844709fa41",
   "metadata": {},
   "outputs": [],
   "source": [
    "#2. What does an absolute path start with your operating system?\n",
    "# Ans: The format of an absolute path depends on the operating system being used. However, on most modern operating systems, an absolute path starts with the root directory of the file system, which is represented by a forward slash (/) character."
   ]
  },
  {
   "cell_type": "code",
   "execution_count": 3,
   "id": "922edf48-0b9a-4217-a238-10150565d2e0",
   "metadata": {},
   "outputs": [],
   "source": [
    "#3. What do the functions os.getcwd() and os.chdir() do?\n",
    "# Ans: os.getcwd() returns the current working directory of the program as a string.and os.chdir(path) changes the current working directory to the directory specified by the path argument."
   ]
  },
  {
   "cell_type": "code",
   "execution_count": 4,
   "id": "9ae6e67d-57ab-48ac-aec5-ab7a79592792",
   "metadata": {},
   "outputs": [],
   "source": [
    "#4. What are the . and .. folders?\n",
    "# Ans: The . (dot) folder refers to the current directory. and The .. (dot-dot) folder refers to the parent directory of the current directory."
   ]
  },
  {
   "cell_type": "code",
   "execution_count": 5,
   "id": "d93eb0d2-3648-46ec-8866-cb013f3e7187",
   "metadata": {},
   "outputs": [],
   "source": [
    "#5. In C:\\bacon\\eggs\\spam.txt, which part is the dir name, and which part is the base name?\n",
    "# Ans: In the path C:\\bacon\\eggs\\spam.txt, the directory name is C:\\bacon\\eggs, and the base name is spam.txt."
   ]
  },
  {
   "cell_type": "code",
   "execution_count": 6,
   "id": "d86093b5-d7d6-4683-bd39-6d20ebf7afd5",
   "metadata": {},
   "outputs": [],
   "source": [
    "#6. What are the three “mode” arguments that can be passed to the open() function?\n",
    "# Ans: The three mode arguments are:'r': Read mode (default) ,'w': Write mode and 'a': Append mode."
   ]
  },
  {
   "cell_type": "code",
   "execution_count": 7,
   "id": "45ae0916-e418-4616-95fd-190f289450d8",
   "metadata": {},
   "outputs": [],
   "source": [
    "#7. What happens if an existing file is opened in write mode?\n",
    "# Ans: If an existing file is opened in write mode using the open() function in Python, the file will be truncated (i.e., all existing data will be erased) and the pointer will be placed at the beginning of the file."
   ]
  },
  {
   "cell_type": "code",
   "execution_count": 8,
   "id": "4c8e75cd-b569-453d-817e-cf98147f9c44",
   "metadata": {},
   "outputs": [],
   "source": [
    "#8. How do you tell the difference between read() and readlines()?\n",
    "# Ans: The read() method reads the entire content of the file as a single string, and returns it and The readlines() method reads the entire content of the file and returns it as a list of strings, where each string is a line from the file. "
   ]
  },
  {
   "cell_type": "code",
   "execution_count": 9,
   "id": "f84cda05-778d-4177-96ba-37e608f957bd",
   "metadata": {},
   "outputs": [],
   "source": [
    "#9. What data structure does a shelf value resemble?\n",
    "# Ans: A shelf value resembles a dictionary data structure.It allows you to store and retrieve key-value pairs in a file, just like a dictionary."
   ]
  }
 ],
 "metadata": {
  "kernelspec": {
   "display_name": "Python 3 (ipykernel)",
   "language": "python",
   "name": "python3"
  },
  "language_info": {
   "codemirror_mode": {
    "name": "ipython",
    "version": 3
   },
   "file_extension": ".py",
   "mimetype": "text/x-python",
   "name": "python",
   "nbconvert_exporter": "python",
   "pygments_lexer": "ipython3",
   "version": "3.10.6"
  }
 },
 "nbformat": 4,
 "nbformat_minor": 5
}
